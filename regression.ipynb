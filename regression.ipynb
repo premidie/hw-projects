{
 "cells": [
  {
   "cell_type": "markdown",
   "metadata": {},
   "source": [
    "## Линейная регрессия"
   ]
  },
  {
   "cell_type": "markdown",
   "metadata": {},
   "source": [
    "---"
   ]
  },
  {
   "cell_type": "markdown",
   "metadata": {},
   "source": [
    "В этом задании нам предстоит проанализировать набор данных [Weather in Szeged 2006-2016](https://www.kaggle.com/budincsevity/szeged-weather), содержащий информацию о погоде. В качестве зависимой переменной возьмём температуру воздуха в градусах Цельсия (`Temperature (C)`).\n",
    "\n",
    "Наша цель состоит в том, чтобы построить две линейные регрессионные модели: объясняющую и предиктивную. Объясняющая модель должна быть пригодна для статистической интерпретации зависимостей, то есть показывать, какие факторы влияют на температуру воздуха, каким образом и какое возможное объяснение этого влияния можно привести. Предиктивная модель может быть совершенно ужасной с точки зрения статистики (например, все коэффициенты могут быть не значимы), но она должна давать хорошие прогнозы в соответствии с некоторой метрикой.\n",
    "\n",
    "Хотя приведённые данные имеют формат временных рядов, мы будем игнорировать это и рассматривать их как обычные кросс-секционные данные (то есть как независимые наблюдения в пространстве)."
   ]
  },
  {
   "cell_type": "markdown",
   "metadata": {},
   "source": [
    "### Часть 1: Предобработка данных (2 балла)"
   ]
  },
  {
   "cell_type": "code",
   "execution_count": 1,
   "metadata": {},
   "outputs": [],
   "source": [
    "import numpy as np\n",
    "import pandas as pd\n",
    "import matplotlib.pyplot as plt\n",
    "import seaborn as sns"
   ]
  },
  {
   "cell_type": "markdown",
   "metadata": {},
   "source": [
    "**Задание 1.** Загрузите данные из файла `weatherHistory.csv`. Выведите первые 5 строк таблицы."
   ]
  },
  {
   "cell_type": "code",
   "execution_count": 2,
   "metadata": {},
   "outputs": [
    {
     "data": {
      "text/html": [
       "<div>\n",
       "<style scoped>\n",
       "    .dataframe tbody tr th:only-of-type {\n",
       "        vertical-align: middle;\n",
       "    }\n",
       "\n",
       "    .dataframe tbody tr th {\n",
       "        vertical-align: top;\n",
       "    }\n",
       "\n",
       "    .dataframe thead th {\n",
       "        text-align: right;\n",
       "    }\n",
       "</style>\n",
       "<table border=\"1\" class=\"dataframe\">\n",
       "  <thead>\n",
       "    <tr style=\"text-align: right;\">\n",
       "      <th></th>\n",
       "      <th>Formatted Date</th>\n",
       "      <th>Summary</th>\n",
       "      <th>Precip Type</th>\n",
       "      <th>Temperature (C)</th>\n",
       "      <th>Apparent Temperature (C)</th>\n",
       "      <th>Humidity</th>\n",
       "      <th>Wind Speed (km/h)</th>\n",
       "      <th>Wind Bearing (degrees)</th>\n",
       "      <th>Visibility (km)</th>\n",
       "      <th>Loud Cover</th>\n",
       "      <th>Pressure (millibars)</th>\n",
       "      <th>Daily Summary</th>\n",
       "    </tr>\n",
       "  </thead>\n",
       "  <tbody>\n",
       "    <tr>\n",
       "      <th>0</th>\n",
       "      <td>2006-04-01 00:00:00.000 +0200</td>\n",
       "      <td>Partly Cloudy</td>\n",
       "      <td>rain</td>\n",
       "      <td>9.472222</td>\n",
       "      <td>7.388889</td>\n",
       "      <td>0.89</td>\n",
       "      <td>14.1197</td>\n",
       "      <td>251.0</td>\n",
       "      <td>15.8263</td>\n",
       "      <td>0.0</td>\n",
       "      <td>1015.13</td>\n",
       "      <td>Partly cloudy throughout the day.</td>\n",
       "    </tr>\n",
       "    <tr>\n",
       "      <th>1</th>\n",
       "      <td>2006-04-01 01:00:00.000 +0200</td>\n",
       "      <td>Partly Cloudy</td>\n",
       "      <td>rain</td>\n",
       "      <td>9.355556</td>\n",
       "      <td>7.227778</td>\n",
       "      <td>0.86</td>\n",
       "      <td>14.2646</td>\n",
       "      <td>259.0</td>\n",
       "      <td>15.8263</td>\n",
       "      <td>0.0</td>\n",
       "      <td>1015.63</td>\n",
       "      <td>Partly cloudy throughout the day.</td>\n",
       "    </tr>\n",
       "    <tr>\n",
       "      <th>2</th>\n",
       "      <td>2006-04-01 02:00:00.000 +0200</td>\n",
       "      <td>Mostly Cloudy</td>\n",
       "      <td>rain</td>\n",
       "      <td>9.377778</td>\n",
       "      <td>9.377778</td>\n",
       "      <td>0.89</td>\n",
       "      <td>3.9284</td>\n",
       "      <td>204.0</td>\n",
       "      <td>14.9569</td>\n",
       "      <td>0.0</td>\n",
       "      <td>1015.94</td>\n",
       "      <td>Partly cloudy throughout the day.</td>\n",
       "    </tr>\n",
       "    <tr>\n",
       "      <th>3</th>\n",
       "      <td>2006-04-01 03:00:00.000 +0200</td>\n",
       "      <td>Partly Cloudy</td>\n",
       "      <td>rain</td>\n",
       "      <td>8.288889</td>\n",
       "      <td>5.944444</td>\n",
       "      <td>0.83</td>\n",
       "      <td>14.1036</td>\n",
       "      <td>269.0</td>\n",
       "      <td>15.8263</td>\n",
       "      <td>0.0</td>\n",
       "      <td>1016.41</td>\n",
       "      <td>Partly cloudy throughout the day.</td>\n",
       "    </tr>\n",
       "    <tr>\n",
       "      <th>4</th>\n",
       "      <td>2006-04-01 04:00:00.000 +0200</td>\n",
       "      <td>Mostly Cloudy</td>\n",
       "      <td>rain</td>\n",
       "      <td>8.755556</td>\n",
       "      <td>6.977778</td>\n",
       "      <td>0.83</td>\n",
       "      <td>11.0446</td>\n",
       "      <td>259.0</td>\n",
       "      <td>15.8263</td>\n",
       "      <td>0.0</td>\n",
       "      <td>1016.51</td>\n",
       "      <td>Partly cloudy throughout the day.</td>\n",
       "    </tr>\n",
       "  </tbody>\n",
       "</table>\n",
       "</div>"
      ],
      "text/plain": [
       "                  Formatted Date        Summary Precip Type  Temperature (C)  \\\n",
       "0  2006-04-01 00:00:00.000 +0200  Partly Cloudy        rain         9.472222   \n",
       "1  2006-04-01 01:00:00.000 +0200  Partly Cloudy        rain         9.355556   \n",
       "2  2006-04-01 02:00:00.000 +0200  Mostly Cloudy        rain         9.377778   \n",
       "3  2006-04-01 03:00:00.000 +0200  Partly Cloudy        rain         8.288889   \n",
       "4  2006-04-01 04:00:00.000 +0200  Mostly Cloudy        rain         8.755556   \n",
       "\n",
       "   Apparent Temperature (C)  Humidity  Wind Speed (km/h)  \\\n",
       "0                  7.388889      0.89            14.1197   \n",
       "1                  7.227778      0.86            14.2646   \n",
       "2                  9.377778      0.89             3.9284   \n",
       "3                  5.944444      0.83            14.1036   \n",
       "4                  6.977778      0.83            11.0446   \n",
       "\n",
       "   Wind Bearing (degrees)  Visibility (km)  Loud Cover  Pressure (millibars)  \\\n",
       "0                   251.0          15.8263         0.0               1015.13   \n",
       "1                   259.0          15.8263         0.0               1015.63   \n",
       "2                   204.0          14.9569         0.0               1015.94   \n",
       "3                   269.0          15.8263         0.0               1016.41   \n",
       "4                   259.0          15.8263         0.0               1016.51   \n",
       "\n",
       "                       Daily Summary  \n",
       "0  Partly cloudy throughout the day.  \n",
       "1  Partly cloudy throughout the day.  \n",
       "2  Partly cloudy throughout the day.  \n",
       "3  Partly cloudy throughout the day.  \n",
       "4  Partly cloudy throughout the day.  "
      ]
     },
     "execution_count": 2,
     "metadata": {},
     "output_type": "execute_result"
    }
   ],
   "source": [
    "import pandas as pd\n",
    "df = pd.read_csv('weatherHistory.csv')\n",
    "df.head()"
   ]
  },
  {
   "cell_type": "markdown",
   "metadata": {},
   "source": [
    "**Задание 2.** Изучите статью о том, что такое [apparent temperature](https://www.kxan.com/weather/difference-between-temperature-and-feels-like-temperature/) (также называемая \"feels-like temperature\" и \"heat index\"). Удалите какую-то переменную из набора данных и поясните, почему вы её удалили (помните о том, какая переменная будет целевой). Также удалите переменные:\n",
    "- `Formatted Date` (потому что договорились, что не обращаем внимания на даты).\n",
    "- `Daily Summary` (будем использовать просто `Summary`). "
   ]
  },
  {
   "cell_type": "code",
   "execution_count": 3,
   "metadata": {},
   "outputs": [],
   "source": [
    "del df['Formatted Date']\n",
    "del df['Daily Summary']\n",
    "del df['Apparent Temperature (C)'] # удаляем также эту, так как она не оказывает влияние на нашу зависимую переменную"
   ]
  },
  {
   "cell_type": "markdown",
   "metadata": {},
   "source": [
    "**Задание 3.** Есть ли в наборе данных пропущенные значения? Если да, удалите их."
   ]
  },
  {
   "cell_type": "code",
   "execution_count": 4,
   "metadata": {},
   "outputs": [
    {
     "data": {
      "text/html": [
       "<div>\n",
       "<style scoped>\n",
       "    .dataframe tbody tr th:only-of-type {\n",
       "        vertical-align: middle;\n",
       "    }\n",
       "\n",
       "    .dataframe tbody tr th {\n",
       "        vertical-align: top;\n",
       "    }\n",
       "\n",
       "    .dataframe thead th {\n",
       "        text-align: right;\n",
       "    }\n",
       "</style>\n",
       "<table border=\"1\" class=\"dataframe\">\n",
       "  <thead>\n",
       "    <tr style=\"text-align: right;\">\n",
       "      <th></th>\n",
       "      <th>Summary</th>\n",
       "      <th>Precip Type</th>\n",
       "      <th>Temperature (C)</th>\n",
       "      <th>Humidity</th>\n",
       "      <th>Wind Speed (km/h)</th>\n",
       "      <th>Wind Bearing (degrees)</th>\n",
       "      <th>Visibility (km)</th>\n",
       "      <th>Loud Cover</th>\n",
       "      <th>Pressure (millibars)</th>\n",
       "    </tr>\n",
       "  </thead>\n",
       "  <tbody>\n",
       "    <tr>\n",
       "      <th>0</th>\n",
       "      <td>Partly Cloudy</td>\n",
       "      <td>rain</td>\n",
       "      <td>9.472222</td>\n",
       "      <td>0.89</td>\n",
       "      <td>14.1197</td>\n",
       "      <td>251.0</td>\n",
       "      <td>15.8263</td>\n",
       "      <td>0.0</td>\n",
       "      <td>1015.13</td>\n",
       "    </tr>\n",
       "    <tr>\n",
       "      <th>1</th>\n",
       "      <td>Partly Cloudy</td>\n",
       "      <td>rain</td>\n",
       "      <td>9.355556</td>\n",
       "      <td>0.86</td>\n",
       "      <td>14.2646</td>\n",
       "      <td>259.0</td>\n",
       "      <td>15.8263</td>\n",
       "      <td>0.0</td>\n",
       "      <td>1015.63</td>\n",
       "    </tr>\n",
       "    <tr>\n",
       "      <th>2</th>\n",
       "      <td>Mostly Cloudy</td>\n",
       "      <td>rain</td>\n",
       "      <td>9.377778</td>\n",
       "      <td>0.89</td>\n",
       "      <td>3.9284</td>\n",
       "      <td>204.0</td>\n",
       "      <td>14.9569</td>\n",
       "      <td>0.0</td>\n",
       "      <td>1015.94</td>\n",
       "    </tr>\n",
       "    <tr>\n",
       "      <th>3</th>\n",
       "      <td>Partly Cloudy</td>\n",
       "      <td>rain</td>\n",
       "      <td>8.288889</td>\n",
       "      <td>0.83</td>\n",
       "      <td>14.1036</td>\n",
       "      <td>269.0</td>\n",
       "      <td>15.8263</td>\n",
       "      <td>0.0</td>\n",
       "      <td>1016.41</td>\n",
       "    </tr>\n",
       "    <tr>\n",
       "      <th>4</th>\n",
       "      <td>Mostly Cloudy</td>\n",
       "      <td>rain</td>\n",
       "      <td>8.755556</td>\n",
       "      <td>0.83</td>\n",
       "      <td>11.0446</td>\n",
       "      <td>259.0</td>\n",
       "      <td>15.8263</td>\n",
       "      <td>0.0</td>\n",
       "      <td>1016.51</td>\n",
       "    </tr>\n",
       "  </tbody>\n",
       "</table>\n",
       "</div>"
      ],
      "text/plain": [
       "         Summary Precip Type  Temperature (C)  Humidity  Wind Speed (km/h)  \\\n",
       "0  Partly Cloudy        rain         9.472222      0.89            14.1197   \n",
       "1  Partly Cloudy        rain         9.355556      0.86            14.2646   \n",
       "2  Mostly Cloudy        rain         9.377778      0.89             3.9284   \n",
       "3  Partly Cloudy        rain         8.288889      0.83            14.1036   \n",
       "4  Mostly Cloudy        rain         8.755556      0.83            11.0446   \n",
       "\n",
       "   Wind Bearing (degrees)  Visibility (km)  Loud Cover  Pressure (millibars)  \n",
       "0                   251.0          15.8263         0.0               1015.13  \n",
       "1                   259.0          15.8263         0.0               1015.63  \n",
       "2                   204.0          14.9569         0.0               1015.94  \n",
       "3                   269.0          15.8263         0.0               1016.41  \n",
       "4                   259.0          15.8263         0.0               1016.51  "
      ]
     },
     "execution_count": 4,
     "metadata": {},
     "output_type": "execute_result"
    }
   ],
   "source": [
    "df.isnull().sum() # видим, что у нас 517 пропущенных значений в Precip Type\n",
    "df=df.dropna()\n",
    "df.head()"
   ]
  },
  {
   "cell_type": "markdown",
   "metadata": {},
   "source": [
    "**Задание 4.** В данных есть одна числовая переменная, которая не несёт информации для предсказания целевой переменной. Найдите эту переменную, поясните ваш выбор и удалите её. "
   ]
  },
  {
   "cell_type": "code",
   "execution_count": 5,
   "metadata": {},
   "outputs": [],
   "source": [
    "# удаляем переменную Loud Cover тк она имеет только одно уникальное значение - 0, что говорит об отсутствии облачного покрытия, следоватеьно мы не можем использовать его в дальнейшем анализе\n",
    "df.drop('Loud Cover', axis=1, inplace=True)\n",
    "fill_mean=df[df['Pressure (millibars)']!=0]['Pressure (millibars)'].mean()\n",
    "df['Pressure (millibars)'].replace(0,fill_mean, inplace=True)"
   ]
  },
  {
   "cell_type": "code",
   "execution_count": 6,
   "metadata": {},
   "outputs": [],
   "source": [
    "target='Temperature (C)'\n",
    "categ =['Summary','Precip Type']\n",
    "real = ['Humidity', 'Wind Speed (km/h)', 'Wind Bearing (degrees)', 'Visibility (km)','Pressure (millibars)']\n"
   ]
  },
  {
   "cell_type": "markdown",
   "metadata": {},
   "source": [
    "**Задание 5.** Постройте диаграммы рассеяния всех числовых переменных против целевой (для этого используйте какой-то метод из `seaborn`). Есть ли переменные, для которых наблюдается очевидная нелинейная зависимость?\n",
    "\n",
    "**Подсказка:** это пригодится для частей 2 и 3."
   ]
  },
  {
   "cell_type": "code",
   "execution_count": 7,
   "metadata": {},
   "outputs": [
    {
     "data": {
      "image/png": "[encoded data removed]",
      "text/plain": [
       "<Figure size 1152x576 with 5 Axes>"
      ]
     },
     "metadata": {
      "needs_background": "light"
     },
     "output_type": "display_data"
    }
   ],
   "source": [
    "fig, axs = plt.subplots(1, 5, sharey=True)\n",
    "df.plot(kind='scatter', x='Humidity', y='Temperature (C)', ax=axs[0], figsize=(16, 8))\n",
    "df.plot(kind='scatter', x='Wind Speed (km/h)', y='Temperature (C)', ax=axs[1])\n",
    "df.plot(kind='scatter', x='Wind Bearing (degrees)', y='Temperature (C)', ax=axs[2])\n",
    "df.plot(kind='scatter', x='Visibility (km)', y='Temperature (C)', ax=axs[3])\n",
    "df.plot(kind='scatter', x='Pressure (millibars)', y='Temperature (C)', ax=axs[4])\n",
    "\n",
    "\n",
    "\n",
    "\n",
    "plt.show()\n",
    "# источник: семинар 10\n",
    "# видим, что из очевидного, можно рассмотреть нелинейную зависимость между температурой и влажностью"
   ]
  },
  {
   "cell_type": "markdown",
   "metadata": {},
   "source": [
    "**Задание 6.** Преобразуйте категориальные переменные при помощи One Hot Encoding (то есть переведите их в дамми-переменные)."
   ]
  },
  {
   "cell_type": "markdown",
   "metadata": {},
   "source": [
    "источник: https://pandas.pydata.org/docs/reference/api/pandas.get_dummies.html"
   ]
  },
  {
   "cell_type": "code",
   "execution_count": 8,
   "metadata": {},
   "outputs": [
    {
     "data": {
      "text/html": [
       "<div>\n",
       "<style scoped>\n",
       "    .dataframe tbody tr th:only-of-type {\n",
       "        vertical-align: middle;\n",
       "    }\n",
       "\n",
       "    .dataframe tbody tr th {\n",
       "        vertical-align: top;\n",
       "    }\n",
       "\n",
       "    .dataframe thead th {\n",
       "        text-align: right;\n",
       "    }\n",
       "</style>\n",
       "<table border=\"1\" class=\"dataframe\">\n",
       "  <thead>\n",
       "    <tr style=\"text-align: right;\">\n",
       "      <th></th>\n",
       "      <th>Temperature (C)</th>\n",
       "      <th>Humidity</th>\n",
       "      <th>Wind Speed (km/h)</th>\n",
       "      <th>Wind Bearing (degrees)</th>\n",
       "      <th>Visibility (km)</th>\n",
       "      <th>Pressure (millibars)</th>\n",
       "      <th>Summary_Breezy</th>\n",
       "      <th>Summary_Breezy and Dry</th>\n",
       "      <th>Summary_Breezy and Foggy</th>\n",
       "      <th>Summary_Breezy and Mostly Cloudy</th>\n",
       "      <th>...</th>\n",
       "      <th>Summary_Partly Cloudy</th>\n",
       "      <th>Summary_Rain</th>\n",
       "      <th>Summary_Windy</th>\n",
       "      <th>Summary_Windy and Dry</th>\n",
       "      <th>Summary_Windy and Foggy</th>\n",
       "      <th>Summary_Windy and Mostly Cloudy</th>\n",
       "      <th>Summary_Windy and Overcast</th>\n",
       "      <th>Summary_Windy and Partly Cloudy</th>\n",
       "      <th>Precip Type_rain</th>\n",
       "      <th>Precip Type_snow</th>\n",
       "    </tr>\n",
       "  </thead>\n",
       "  <tbody>\n",
       "    <tr>\n",
       "      <th>0</th>\n",
       "      <td>9.472222</td>\n",
       "      <td>0.89</td>\n",
       "      <td>14.1197</td>\n",
       "      <td>251.0</td>\n",
       "      <td>15.8263</td>\n",
       "      <td>1015.13</td>\n",
       "      <td>0</td>\n",
       "      <td>0</td>\n",
       "      <td>0</td>\n",
       "      <td>0</td>\n",
       "      <td>...</td>\n",
       "      <td>1</td>\n",
       "      <td>0</td>\n",
       "      <td>0</td>\n",
       "      <td>0</td>\n",
       "      <td>0</td>\n",
       "      <td>0</td>\n",
       "      <td>0</td>\n",
       "      <td>0</td>\n",
       "      <td>1</td>\n",
       "      <td>0</td>\n",
       "    </tr>\n",
       "    <tr>\n",
       "      <th>1</th>\n",
       "      <td>9.355556</td>\n",
       "      <td>0.86</td>\n",
       "      <td>14.2646</td>\n",
       "      <td>259.0</td>\n",
       "      <td>15.8263</td>\n",
       "      <td>1015.63</td>\n",
       "      <td>0</td>\n",
       "      <td>0</td>\n",
       "      <td>0</td>\n",
       "      <td>0</td>\n",
       "      <td>...</td>\n",
       "      <td>1</td>\n",
       "      <td>0</td>\n",
       "      <td>0</td>\n",
       "      <td>0</td>\n",
       "      <td>0</td>\n",
       "      <td>0</td>\n",
       "      <td>0</td>\n",
       "      <td>0</td>\n",
       "      <td>1</td>\n",
       "      <td>0</td>\n",
       "    </tr>\n",
       "    <tr>\n",
       "      <th>2</th>\n",
       "      <td>9.377778</td>\n",
       "      <td>0.89</td>\n",
       "      <td>3.9284</td>\n",
       "      <td>204.0</td>\n",
       "      <td>14.9569</td>\n",
       "      <td>1015.94</td>\n",
       "      <td>0</td>\n",
       "      <td>0</td>\n",
       "      <td>0</td>\n",
       "      <td>0</td>\n",
       "      <td>...</td>\n",
       "      <td>0</td>\n",
       "      <td>0</td>\n",
       "      <td>0</td>\n",
       "      <td>0</td>\n",
       "      <td>0</td>\n",
       "      <td>0</td>\n",
       "      <td>0</td>\n",
       "      <td>0</td>\n",
       "      <td>1</td>\n",
       "      <td>0</td>\n",
       "    </tr>\n",
       "    <tr>\n",
       "      <th>3</th>\n",
       "      <td>8.288889</td>\n",
       "      <td>0.83</td>\n",
       "      <td>14.1036</td>\n",
       "      <td>269.0</td>\n",
       "      <td>15.8263</td>\n",
       "      <td>1016.41</td>\n",
       "      <td>0</td>\n",
       "      <td>0</td>\n",
       "      <td>0</td>\n",
       "      <td>0</td>\n",
       "      <td>...</td>\n",
       "      <td>1</td>\n",
       "      <td>0</td>\n",
       "      <td>0</td>\n",
       "      <td>0</td>\n",
       "      <td>0</td>\n",
       "      <td>0</td>\n",
       "      <td>0</td>\n",
       "      <td>0</td>\n",
       "      <td>1</td>\n",
       "      <td>0</td>\n",
       "    </tr>\n",
       "    <tr>\n",
       "      <th>4</th>\n",
       "      <td>8.755556</td>\n",
       "      <td>0.83</td>\n",
       "      <td>11.0446</td>\n",
       "      <td>259.0</td>\n",
       "      <td>15.8263</td>\n",
       "      <td>1016.51</td>\n",
       "      <td>0</td>\n",
       "      <td>0</td>\n",
       "      <td>0</td>\n",
       "      <td>0</td>\n",
       "      <td>...</td>\n",
       "      <td>0</td>\n",
       "      <td>0</td>\n",
       "      <td>0</td>\n",
       "      <td>0</td>\n",
       "      <td>0</td>\n",
       "      <td>0</td>\n",
       "      <td>0</td>\n",
       "      <td>0</td>\n",
       "      <td>1</td>\n",
       "      <td>0</td>\n",
       "    </tr>\n",
       "  </tbody>\n",
       "</table>\n",
       "<p>5 rows × 35 columns</p>\n",
       "</div>"
      ],
      "text/plain": [
       "   Temperature (C)  Humidity  Wind Speed (km/h)  Wind Bearing (degrees)  \\\n",
       "0         9.472222      0.89            14.1197                   251.0   \n",
       "1         9.355556      0.86            14.2646                   259.0   \n",
       "2         9.377778      0.89             3.9284                   204.0   \n",
       "3         8.288889      0.83            14.1036                   269.0   \n",
       "4         8.755556      0.83            11.0446                   259.0   \n",
       "\n",
       "   Visibility (km)  Pressure (millibars)  Summary_Breezy  \\\n",
       "0          15.8263               1015.13               0   \n",
       "1          15.8263               1015.63               0   \n",
       "2          14.9569               1015.94               0   \n",
       "3          15.8263               1016.41               0   \n",
       "4          15.8263               1016.51               0   \n",
       "\n",
       "   Summary_Breezy and Dry  Summary_Breezy and Foggy  \\\n",
       "0                       0                         0   \n",
       "1                       0                         0   \n",
       "2                       0                         0   \n",
       "3                       0                         0   \n",
       "4                       0                         0   \n",
       "\n",
       "   Summary_Breezy and Mostly Cloudy  ...  Summary_Partly Cloudy  Summary_Rain  \\\n",
       "0                                 0  ...                      1             0   \n",
       "1                                 0  ...                      1             0   \n",
       "2                                 0  ...                      0             0   \n",
       "3                                 0  ...                      1             0   \n",
       "4                                 0  ...                      0             0   \n",
       "\n",
       "   Summary_Windy  Summary_Windy and Dry  Summary_Windy and Foggy  \\\n",
       "0              0                      0                        0   \n",
       "1              0                      0                        0   \n",
       "2              0                      0                        0   \n",
       "3              0                      0                        0   \n",
       "4              0                      0                        0   \n",
       "\n",
       "   Summary_Windy and Mostly Cloudy  Summary_Windy and Overcast  \\\n",
       "0                                0                           0   \n",
       "1                                0                           0   \n",
       "2                                0                           0   \n",
       "3                                0                           0   \n",
       "4                                0                           0   \n",
       "\n",
       "   Summary_Windy and Partly Cloudy  Precip Type_rain  Precip Type_snow  \n",
       "0                                0                 1                 0  \n",
       "1                                0                 1                 0  \n",
       "2                                0                 1                 0  \n",
       "3                                0                 1                 0  \n",
       "4                                0                 1                 0  \n",
       "\n",
       "[5 rows x 35 columns]"
      ]
     },
     "execution_count": 8,
     "metadata": {},
     "output_type": "execute_result"
    }
   ],
   "source": [
    "df = pd.get_dummies(df, columns=categ, dummy_na=False)\n",
    "df.head()"
   ]
  },
  {
   "cell_type": "markdown",
   "metadata": {},
   "source": [
    "**Задание 7.** Выведите корреляционную матрицу переменных. Какие переменные лучше всего коррелируют с целевой (назовите три)? \n",
    "\n",
    "**Подсказка:** это пригодится для частей 2 и 3."
   ]
  },
  {
   "cell_type": "code",
   "execution_count": 9,
   "metadata": {},
   "outputs": [
    {
     "data": {
      "text/html": [
       "<div>\n",
       "<style scoped>\n",
       "    .dataframe tbody tr th:only-of-type {\n",
       "        vertical-align: middle;\n",
       "    }\n",
       "\n",
       "    .dataframe tbody tr th {\n",
       "        vertical-align: top;\n",
       "    }\n",
       "\n",
       "    .dataframe thead th {\n",
       "        text-align: right;\n",
       "    }\n",
       "</style>\n",
       "<table border=\"1\" class=\"dataframe\">\n",
       "  <thead>\n",
       "    <tr style=\"text-align: right;\">\n",
       "      <th></th>\n",
       "      <th>Humidity</th>\n",
       "      <th>Wind Speed (km/h)</th>\n",
       "      <th>Wind Bearing (degrees)</th>\n",
       "      <th>Visibility (km)</th>\n",
       "      <th>Pressure (millibars)</th>\n",
       "      <th>Temperature (C)</th>\n",
       "    </tr>\n",
       "  </thead>\n",
       "  <tbody>\n",
       "    <tr>\n",
       "      <th>Humidity</th>\n",
       "      <td>1.000000</td>\n",
       "      <td>-0.224569</td>\n",
       "      <td>0.000814</td>\n",
       "      <td>-0.370511</td>\n",
       "      <td>0.038418</td>\n",
       "      <td>-0.632148</td>\n",
       "    </tr>\n",
       "    <tr>\n",
       "      <th>Wind Speed (km/h)</th>\n",
       "      <td>-0.224569</td>\n",
       "      <td>1.000000</td>\n",
       "      <td>0.104366</td>\n",
       "      <td>0.100801</td>\n",
       "      <td>-0.252751</td>\n",
       "      <td>0.008304</td>\n",
       "    </tr>\n",
       "    <tr>\n",
       "      <th>Wind Bearing (degrees)</th>\n",
       "      <td>0.000814</td>\n",
       "      <td>0.104366</td>\n",
       "      <td>1.000000</td>\n",
       "      <td>0.048900</td>\n",
       "      <td>-0.078024</td>\n",
       "      <td>0.029937</td>\n",
       "    </tr>\n",
       "    <tr>\n",
       "      <th>Visibility (km)</th>\n",
       "      <td>-0.370511</td>\n",
       "      <td>0.100801</td>\n",
       "      <td>0.048900</td>\n",
       "      <td>1.000000</td>\n",
       "      <td>-0.161561</td>\n",
       "      <td>0.393719</td>\n",
       "    </tr>\n",
       "    <tr>\n",
       "      <th>Pressure (millibars)</th>\n",
       "      <td>0.038418</td>\n",
       "      <td>-0.252751</td>\n",
       "      <td>-0.078024</td>\n",
       "      <td>-0.161561</td>\n",
       "      <td>1.000000</td>\n",
       "      <td>-0.308111</td>\n",
       "    </tr>\n",
       "    <tr>\n",
       "      <th>Temperature (C)</th>\n",
       "      <td>-0.632148</td>\n",
       "      <td>0.008304</td>\n",
       "      <td>0.029937</td>\n",
       "      <td>0.393719</td>\n",
       "      <td>-0.308111</td>\n",
       "      <td>1.000000</td>\n",
       "    </tr>\n",
       "  </tbody>\n",
       "</table>\n",
       "</div>"
      ],
      "text/plain": [
       "                        Humidity  Wind Speed (km/h)  Wind Bearing (degrees)  \\\n",
       "Humidity                1.000000          -0.224569                0.000814   \n",
       "Wind Speed (km/h)      -0.224569           1.000000                0.104366   \n",
       "Wind Bearing (degrees)  0.000814           0.104366                1.000000   \n",
       "Visibility (km)        -0.370511           0.100801                0.048900   \n",
       "Pressure (millibars)    0.038418          -0.252751               -0.078024   \n",
       "Temperature (C)        -0.632148           0.008304                0.029937   \n",
       "\n",
       "                        Visibility (km)  Pressure (millibars)  Temperature (C)  \n",
       "Humidity                      -0.370511              0.038418        -0.632148  \n",
       "Wind Speed (km/h)              0.100801             -0.252751         0.008304  \n",
       "Wind Bearing (degrees)         0.048900             -0.078024         0.029937  \n",
       "Visibility (km)                1.000000             -0.161561         0.393719  \n",
       "Pressure (millibars)          -0.161561              1.000000        -0.308111  \n",
       "Temperature (C)                0.393719             -0.308111         1.000000  "
      ]
     },
     "execution_count": 9,
     "metadata": {},
     "output_type": "execute_result"
    }
   ],
   "source": [
    "df[real+[target]].corr()"
   ]
  },
  {
   "cell_type": "code",
   "execution_count": 10,
   "metadata": {},
   "outputs": [
    {
     "data": {
      "text/plain": [
       "<AxesSubplot:>"
      ]
     },
     "execution_count": 10,
     "metadata": {},
     "output_type": "execute_result"
    },
    {
     "data": {
      "image/png": "[encoded data removed]",
      "text/plain": [
       "<Figure size 432x288 with 2 Axes>"
      ]
     },
     "metadata": {
      "needs_background": "light"
     },
     "output_type": "display_data"
    }
   ],
   "source": [
    "# итак наибольшая корреляция между целевой переменной-температурой- и влажностью, видимостью и скоростью ветра\n",
    "sns.heatmap(df[real+[target]].corr(),annot=True)"
   ]
  },
  {
   "cell_type": "markdown",
   "metadata": {},
   "source": [
    "**Задание 8.** Разделите данные на регрессоры (`X`) и целевую переменную (`y`). Если всё сделано правильно, то `X` и `y` должны иметь размеры, указанные ниже."
   ]
  },
  {
   "cell_type": "code",
   "execution_count": 11,
   "metadata": {},
   "outputs": [],
   "source": [
    "X = df.drop('Temperature (C)', axis =1)\n",
    "y = df['Temperature (C)']"
   ]
  },
  {
   "cell_type": "code",
   "execution_count": 12,
   "metadata": {},
   "outputs": [
    {
     "name": "stdout",
     "output_type": "stream",
     "text": [
      "X: (95936, 34)\n",
      "y: (95936,)\n"
     ]
    }
   ],
   "source": [
    "print('X:', X.shape)\n",
    "print('y:', y.shape)\n",
    "\n",
    "# мои"
   ]
  },
  {
   "cell_type": "code",
   "execution_count": 13,
   "metadata": {},
   "outputs": [
    {
     "name": "stdout",
     "output_type": "stream",
     "text": [
      "X: (95936, 34)\n",
      "y: (95936,)\n"
     ]
    }
   ],
   "source": [
    "print('X:', X.shape)\n",
    "print('y:', y.shape)\n",
    "# нужные"
   ]
  },
  {
   "cell_type": "markdown",
   "metadata": {},
   "source": [
    "**Задание 8.** Похоже ли распределение целевой переменной на нормальное? Поясните, почему важно, чтобы распределение `y` было похоже на нормальное."
   ]
  },
  {
   "cell_type": "code",
   "execution_count": 14,
   "metadata": {},
   "outputs": [
    {
     "data": {
      "text/plain": [
       "<AxesSubplot:>"
      ]
     },
     "execution_count": 14,
     "metadata": {},
     "output_type": "execute_result"
    },
    {
     "data": {
      "image/png": "[encoded data removed]",
      "text/plain": [
       "<Figure size 432x288 with 1 Axes>"
      ]
     },
     "metadata": {
      "needs_background": "light"
     },
     "output_type": "display_data"
    }
   ],
   "source": [
    "df[target].hist()\n",
    "# видим, что распределение похоже на нормальное, это означает что переменная сохраняет стадартную дисперсию и вероятность ошибки, без которой мы могли бы получить неправильные описания зависимостей для ЦП нашей модели"
   ]
  },
  {
   "cell_type": "markdown",
   "metadata": {},
   "source": [
    "### Часть 2: Построение объясняющей модели (4 балла)"
   ]
  },
  {
   "cell_type": "markdown",
   "metadata": {},
   "source": [
    "**Задание 9.** На основании предыдущего анализа и логических соображений выберите шесть регрессоров (не считая константный), которые будут включены в объясняющую модель. Помните, что когда мы строим объясняющую модель, выбор переменных должнен быть обоснован (не достаточно использовать предыдущий анализ, выбор каждой переменной должен иметь теоретическое или логическое обоснование). В качестве регрессоров можно брать переменные из `X` или преобразования над ними (`Humidity` и `Humidity`$^2$ будем считать разными регрессорами). \n",
    "\n",
    "Создайте ячейку Markdown ниже и запишите в неё функциональный вид модели, которую вы будете оценивать. Поясните выбор регрессоров (не нужно углубляться в физику поведения жидкостей и ссылаться на уравнения Навье-Стокса, достаточно понятной научно-популярной интерпретации) и, если используете, выбор нелинейных преобразований над ними."
   ]
  },
  {
   "cell_type": "markdown",
   "metadata": {},
   "source": [
    "**Пример ответа:** я строю модель\n",
    "\n",
    "$$\n",
    "y_i = \\beta_0 + \\beta_1 Humidity + \\beta_2 Humidity^2 + \\beta_3 Humidity^3 + \\beta_4 Visibility (km) + \\beta_5 Visibility (km) ^ 2 + \\beta_6 Summary\\_Breezy + \\varepsilon_i\n",
    "$$\n",
    "\n",
    "Обоснование выбора переменных:\n",
    "- $Humidity$ – потому что мне кажется, что влажность воздуха влияет на температуру <так-то и так-то>.\n",
    "- $Humidity^2$ – потому что ...\n",
    "- ..."
   ]
  },
  {
   "cell_type": "code",
   "execution_count": null,
   "metadata": {},
   "outputs": [],
   "source": [
    "new_col=df['Humidity']**2\n",
    "df['squared_Humidity'] = new_col\n",
    "\n",
    "new_col1=df['Pressure (millibars)']**2\n",
    "df['squared_Pressure'] = new_col1"
   ]
  },
  {
   "cell_type": "code",
   "execution_count": 16,
   "metadata": {},
   "outputs": [],
   "source": [
    "df['Precip_Type_snow']=df['Precip Type_snow']\n",
    "df['Wind_Speed_km_h']=df['Wind Speed (km/h)']\n",
    "df['Wind_Bearing_degrees']=df['Wind Bearing (degrees)']\n",
    "df['Pressure_millibars']=df['Pressure (millibars)']\n",
    "df['Temperature_C']=df['Temperature (C)']\n",
    "df['Visibility']=df['Visibility (km)']"
   ]
  },
  {
   "cell_type": "markdown",
   "metadata": {},
   "source": [
    "В качестве регрессоров для модели я использую \n",
    "\n",
    "1)Humidity, так как мне кажется, что влажность положительно влияет на температуру, что особенно ощутимо при высоком показателе целевой переменной(цп) \n",
    "\n",
    "2)Precip Type_snow, потому что считаю, что на температуру определенно влияет сезонность, а снежные осадки характерны для Венгрии в холодное время года\n",
    "\n",
    "3)Wind Bearing (degrees), потому что считаю, что направление ветра говорит о состоянии атмосферного фронта, что может помочь нам в описании температуры\n",
    "\n",
    "4)Pressure (millibars), потому что мне кажется, что давление влияет на температуру так как при понижении давления может понизится температура\n",
    "\n",
    "5)squared_Humidity, потому что мне кажется что влажность при экстремальных температурах может оказывать нелинейную зависимость\n",
    "\n",
    "6)squared_Pressure, так как мне кажется, что из-за повышения давления понижается облачность вследствие чего летом температура повышается, в то время как в холодное время температур при том же отсутствии облачности температура меньше, из-за чего имеет место нелинейная зависимость\n",
    "\n",
    "**𝑦𝑖=𝛽0+𝛽1𝐻𝑢𝑚𝑖𝑑𝑖𝑡𝑦+𝛽2Precip Type_snow+𝛽3Wind Bearing (degrees)+𝛽4Pressure (millibars)+𝛽Humidity^2+𝛽6Pressure^2𝑦+𝜀𝑖**\n",
    " \n"
   ]
  },
  {
   "cell_type": "markdown",
   "metadata": {},
   "source": [
    "**Задание 10.** Выделите выбранные признаки в переменную `X1`. "
   ]
  },
  {
   "cell_type": "code",
   "execution_count": 17,
   "metadata": {},
   "outputs": [],
   "source": [
    "X1=['Humidity', 'Precip_Type_snow', 'Wind_Bearing_degrees', 'Pressure_millibars', 'squared_Pressure', 'squared_Humidity']"
   ]
  },
  {
   "cell_type": "markdown",
   "metadata": {},
   "source": [
    "**Задание 11.** Оцените модель при помощи МНК (минимзации MSE). Прокомментируйте значимость коэффициентов."
   ]
  },
  {
   "cell_type": "code",
   "execution_count": 18,
   "metadata": {},
   "outputs": [
    {
     "data": {
      "text/plain": [
       "Intercept              -12824.553706\n",
       "Humidity                  -54.612158\n",
       "Precip_Type_snow          -11.098509\n",
       "Wind_Bearing_degrees       -0.000257\n",
       "Pressure_millibars         25.522369\n",
       "squared_Pressure           -0.012656\n",
       "squared_Humidity           22.020955\n",
       "dtype: float64"
      ]
     },
     "execution_count": 18,
     "metadata": {},
     "output_type": "execute_result"
    }
   ],
   "source": [
    "import statsmodels.formula.api as smf\n",
    "modie = smf.ols(formula='Temperature_C ~ Humidity + Precip_Type_snow + Wind_Bearing_degrees + Pressure_millibars + squared_Pressure +squared_Humidity', data=df).fit()\n",
    "modie.params"
   ]
  },
  {
   "cell_type": "markdown",
   "metadata": {},
   "source": [
    "**Задание 12.** Поясните, как каждый регрессор влияет на зависимую переменную \n",
    "1. математически (\"при увеличении $X$ на 1 $Y$ увеличивается на 3\") и \n",
    "2. содержательно (\"$X$ влияет на $Y$ положительно, потому что...\", \"$X$ не оказывает влияния на $Y$, потому что...\")."
   ]
  },
  {
   "cell_type": "markdown",
   "metadata": {},
   "source": [
    "1)при увеличении humidity на 1 мы получили, что значение температуры( Y) снижается на 54,6 2) то есть влажность отрицательно влияет на  температуру, так как при высокой влажности показатели температуры снижаются\n",
    "\n",
    "1)при увеличении precip_type_snow на 1 мы получили, что значение температуры(Y)снижается на 11,1 2) то есть наличие снега отрицательно влияет на температуру, потому что для его наличие необходимо выполнение холодной температуры воздуха \n",
    "\n",
    "1)при увеличении Wind_Bearing_degrees на 1, значение Y уменьшается  на 0,0003 2) можно сказать что влияние X на Y не оказывается, то есть направление ветра не оказывает влияния на температуру\n",
    "\n",
    "1)при увеличении Pressure_millibars на 1, значение Y увеличивается на 26 2) то есть давление положительно влияет на температуру, потому что с ростом давления растет температура\n",
    "\n",
    "1)при увеличении squared_Pressure на 1, значение Y снижается  на 0,012 2) то есть квадратичное давление в целом не влияет на температуру\n",
    "\n",
    "1)при увеличении squared_Humidity на 1, значение Y увеличиваетя  на 22 2) то есть влажность оказывает положительное и также нелинейное влияние на температуру в том числе"
   ]
  },
  {
   "cell_type": "markdown",
   "metadata": {},
   "source": [
    "**Задание 13.** Рассчитайте $R^2$ и MSE на выборке `X1`. Прокомментируйте качество подгонки регрессии."
   ]
  },
  {
   "cell_type": "code",
   "execution_count": 19,
   "metadata": {},
   "outputs": [
    {
     "data": {
      "text/plain": [
       "0.6342583674651844"
      ]
     },
     "execution_count": 19,
     "metadata": {},
     "output_type": "execute_result"
    }
   ],
   "source": [
    "modie.rsquared\n",
    "\n",
    "# получившийся R^2 свидетельтсвует, что наша модель объясняется на 63% включенными в неефакторами, что является относительно неплохим показателем"
   ]
  },
  {
   "cell_type": "code",
   "execution_count": 20,
   "metadata": {},
   "outputs": [
    {
     "name": "stdout",
     "output_type": "stream",
     "text": [
      "MSE:  5.614040496008954\n"
     ]
    }
   ],
   "source": [
    "#источник: семинар 11\n",
    "from sklearn.metrics import mean_squared_error\n",
    "def mse_detected(y_test, y_pred):\n",
    "    return np.sqrt(mean_squared_error(y_test, y_pred))\n",
    "\n",
    "from sklearn.linear_model import LinearRegression\n",
    "modmod = LinearRegression()\n",
    "modmod.fit(X, y)\n",
    "y_pred = modmod.predict(X)\n",
    "print('MSE: ', mse_detected(y, y_pred))"
   ]
  },
  {
   "cell_type": "markdown",
   "metadata": {},
   "source": [
    "### Часть 3: Построение предсказательной модели (4 балла)"
   ]
  },
  {
   "cell_type": "markdown",
   "metadata": {},
   "source": [
    "В предыдущей части мы хотели объяснить $y$ при помощи каких-то регрессоров, которые мы отбирали из теоретико-логических соображений. Теперь поставим другую задачу: мы не хотим ничего объяснять, а хотим только хорошо предсказывать $y$ по новым наблюдениям. Код ниже поделит выборку (`X`, `y`) на обучающую (`X_train`, `y_train`), на которой будем *оценивать* модель, и *тестовую* (`X_test`, `y_test`), на которой будем предсказывать. "
   ]
  },
  {
   "cell_type": "code",
   "execution_count": 21,
   "metadata": {},
   "outputs": [],
   "source": [
    "from sklearn.model_selection import train_test_split\n",
    "\n",
    "np.random.seed(123)\n",
    "X_train, X_test, y_train, y_test = train_test_split(X, y, test_size = 0.3)"
   ]
  },
  {
   "cell_type": "markdown",
   "metadata": {},
   "source": [
    "**Задание 14.** Сохраните в переменные `X_train_1` и `X_test_1` те же признаки из `X_train` и `X_test` соответственно, что и в `X1` (то есть те, которые вы выбрали в задании 9).\n",
    "\n",
    "Оцените модель на выборке `X_train_1`. Сделайте предсказания на выборках `X_train_1` (то есть обучающей) и `X_test_1` (то есть тестовой). Рассчитайте `MAE` на этих выборках."
   ]
  },
  {
   "cell_type": "code",
   "execution_count": 25,
   "metadata": {},
   "outputs": [
    {
     "name": "stdout",
     "output_type": "stream",
     "text": [
      "MAE_first: \n",
      "4.572867602974942\n"
     ]
    }
   ],
   "source": [
    "X_train_1=X_train.copy()\n",
    "X_test_1=X_test.copy()\n",
    "\n",
    "from sklearn.linear_model import LinearRegression\n",
    "linr= LinearRegression()\n",
    "linr.fit(X_train, y_train)\n",
    "\n",
    "linr.fit(X_train_1, y_train)\n",
    "\n",
    "from sklearn.metrics import r2_score, mean_squared_error, mean_absolute_error\n",
    "\n",
    "print('MAE_first: ')\n",
    "print(mean_absolute_error(y_train, linr.predict(X_train_1)))\n"
   ]
  },
  {
   "cell_type": "markdown",
   "metadata": {},
   "source": [
    "**Задание 15.** Теперь сохраните в переменные `X_train_2` и `X_test_2` те же признаки из `X_train` и `X_test` соответственно, что и в `X1` (то есть те, которые вы выбрали в задании 9) и ещё какие-то признаки (количество выберите на ваш вкус, главное, чтобы всего признаков было больше, чем в `X1`). Оцените модель на выборке `X_train_2`. Сделайте предсказания на выборках `X_train_2` (то есть обучающей) и `X_test_2` (то есть тестовой). Рассчитайте `MAE` на этих выборках. Удалось ли повысить качество на обучающей выборке? А на тестовой? Поясните. "
   ]
  },
  {
   "cell_type": "markdown",
   "metadata": {},
   "source": [
    "В качестве новых признаков добавим Wind Speed и Visibility не учтенные раннее, так как возможно именно они позволят получить более комплексное объяснение модели и, как следствие, меньшую абсолютную ошибку "
   ]
  },
  {
   "cell_type": "code",
   "execution_count": 23,
   "metadata": {},
   "outputs": [
    {
     "name": "stderr",
     "output_type": "stream",
     "text": [
      "/var/folders/mp/4ncxpf7d2wg2lslq6lky9swh0000gn/T/ipykernel_27777/1611929106.py:3: SettingWithCopyWarning: \n",
      "A value is trying to be set on a copy of a slice from a DataFrame.\n",
      "Try using .loc[row_indexer,col_indexer] = value instead\n",
      "\n",
      "See the caveats in the documentation: https://pandas.pydata.org/pandas-docs/stable/user_guide/indexing.html#returning-a-view-versus-a-copy\n",
      "  X_train_2['squared_Pressure']=df ['squared_Pressure']\n",
      "/var/folders/mp/4ncxpf7d2wg2lslq6lky9swh0000gn/T/ipykernel_27777/1611929106.py:4: SettingWithCopyWarning: \n",
      "A value is trying to be set on a copy of a slice from a DataFrame.\n",
      "Try using .loc[row_indexer,col_indexer] = value instead\n",
      "\n",
      "See the caveats in the documentation: https://pandas.pydata.org/pandas-docs/stable/user_guide/indexing.html#returning-a-view-versus-a-copy\n",
      "  X_train_2['squared_Humidity']=df['squared_Humidity']\n",
      "/var/folders/mp/4ncxpf7d2wg2lslq6lky9swh0000gn/T/ipykernel_27777/1611929106.py:8: SettingWithCopyWarning: \n",
      "A value is trying to be set on a copy of a slice from a DataFrame.\n",
      "Try using .loc[row_indexer,col_indexer] = value instead\n",
      "\n",
      "See the caveats in the documentation: https://pandas.pydata.org/pandas-docs/stable/user_guide/indexing.html#returning-a-view-versus-a-copy\n",
      "  X_test_2['squared_Pressure']=df['squared_Pressure']\n",
      "/var/folders/mp/4ncxpf7d2wg2lslq6lky9swh0000gn/T/ipykernel_27777/1611929106.py:9: SettingWithCopyWarning: \n",
      "A value is trying to be set on a copy of a slice from a DataFrame.\n",
      "Try using .loc[row_indexer,col_indexer] = value instead\n",
      "\n",
      "See the caveats in the documentation: https://pandas.pydata.org/pandas-docs/stable/user_guide/indexing.html#returning-a-view-versus-a-copy\n",
      "  X_test_2['squared_Humidity']=df ['squared_Humidity']\n"
     ]
    }
   ],
   "source": [
    "X_train_2=X_train.copy()\n",
    "X_train_2=X_train[['Humidity', 'Precip Type_snow', 'Wind Bearing (degrees)', 'Pressure (millibars)', 'Wind Speed (km/h)','Visibility (km)']]\n",
    "X_train_2['squared_Pressure']=df ['squared_Pressure']\n",
    "X_train_2['squared_Humidity']=df['squared_Humidity']\n",
    "\n",
    "X_test_2=X_test.copy()\n",
    "X_test_2=X_test[['Humidity', 'Precip Type_snow', 'Wind Bearing (degrees)', 'Pressure (millibars)', 'Wind Speed (km/h)','Visibility (km)']]\n",
    "X_test_2['squared_Pressure']=df['squared_Pressure']\n",
    "X_test_2['squared_Humidity']=df ['squared_Humidity']                  "
   ]
  },
  {
   "cell_type": "code",
   "execution_count": 33,
   "metadata": {},
   "outputs": [
    {
     "name": "stdout",
     "output_type": "stream",
     "text": [
      "new_MAE: \n"
     ]
    },
    {
     "data": {
      "text/plain": [
       "4.494155039836225"
      ]
     },
     "execution_count": 33,
     "metadata": {},
     "output_type": "execute_result"
    }
   ],
   "source": [
    "from sklearn.metrics import mean_absolute_error\n",
    "print('new_MAE: ')\n",
    "mean_absolute_error(y_test,linr.predict(X_test_2)) \n",
    "# видим, что хотя и не намного, но ошибка нашей новой модели снизилась, значит добавленные признаки так или иначе несут описательный характер для нашей ЦП"
   ]
  },
  {
   "cell_type": "code",
   "execution_count": 42,
   "metadata": {},
   "outputs": [
    {
     "data": {
      "text/html": [
       "<div>\n",
       "<style scoped>\n",
       "    .dataframe tbody tr th:only-of-type {\n",
       "        vertical-align: middle;\n",
       "    }\n",
       "\n",
       "    .dataframe tbody tr th {\n",
       "        vertical-align: top;\n",
       "    }\n",
       "\n",
       "    .dataframe thead th {\n",
       "        text-align: right;\n",
       "    }\n",
       "</style>\n",
       "<table border=\"1\" class=\"dataframe\">\n",
       "  <thead>\n",
       "    <tr style=\"text-align: right;\">\n",
       "      <th></th>\n",
       "      <th>Humidity</th>\n",
       "      <th>Precip Type_snow</th>\n",
       "      <th>Wind Bearing (degrees)</th>\n",
       "      <th>Pressure (millibars)</th>\n",
       "      <th>Wind Speed (km/h)</th>\n",
       "      <th>Visibility (km)</th>\n",
       "      <th>squared_Pressure</th>\n",
       "      <th>squared_Humidity</th>\n",
       "    </tr>\n",
       "  </thead>\n",
       "  <tbody>\n",
       "    <tr>\n",
       "      <th>27834</th>\n",
       "      <td>0.92</td>\n",
       "      <td>0</td>\n",
       "      <td>220.0</td>\n",
       "      <td>1022.20</td>\n",
       "      <td>3.2200</td>\n",
       "      <td>9.9820</td>\n",
       "      <td>1.044893e+06</td>\n",
       "      <td>0.8464</td>\n",
       "    </tr>\n",
       "    <tr>\n",
       "      <th>53975</th>\n",
       "      <td>0.55</td>\n",
       "      <td>0</td>\n",
       "      <td>140.0</td>\n",
       "      <td>1011.93</td>\n",
       "      <td>10.6421</td>\n",
       "      <td>15.3111</td>\n",
       "      <td>1.024002e+06</td>\n",
       "      <td>0.3025</td>\n",
       "    </tr>\n",
       "    <tr>\n",
       "      <th>29076</th>\n",
       "      <td>0.77</td>\n",
       "      <td>0</td>\n",
       "      <td>160.0</td>\n",
       "      <td>1000.10</td>\n",
       "      <td>16.1000</td>\n",
       "      <td>9.9820</td>\n",
       "      <td>1.000200e+06</td>\n",
       "      <td>0.5929</td>\n",
       "    </tr>\n",
       "    <tr>\n",
       "      <th>46036</th>\n",
       "      <td>0.87</td>\n",
       "      <td>1</td>\n",
       "      <td>199.0</td>\n",
       "      <td>1025.04</td>\n",
       "      <td>5.2486</td>\n",
       "      <td>9.9820</td>\n",
       "      <td>1.050707e+06</td>\n",
       "      <td>0.7569</td>\n",
       "    </tr>\n",
       "    <tr>\n",
       "      <th>39655</th>\n",
       "      <td>0.73</td>\n",
       "      <td>0</td>\n",
       "      <td>39.0</td>\n",
       "      <td>1016.44</td>\n",
       "      <td>15.3433</td>\n",
       "      <td>9.9820</td>\n",
       "      <td>1.033150e+06</td>\n",
       "      <td>0.5329</td>\n",
       "    </tr>\n",
       "  </tbody>\n",
       "</table>\n",
       "</div>"
      ],
      "text/plain": [
       "       Humidity  Precip Type_snow  Wind Bearing (degrees)  \\\n",
       "27834      0.92                 0                   220.0   \n",
       "53975      0.55                 0                   140.0   \n",
       "29076      0.77                 0                   160.0   \n",
       "46036      0.87                 1                   199.0   \n",
       "39655      0.73                 0                    39.0   \n",
       "\n",
       "       Pressure (millibars)  Wind Speed (km/h)  Visibility (km)  \\\n",
       "27834               1022.20             3.2200           9.9820   \n",
       "53975               1011.93            10.6421          15.3111   \n",
       "29076               1000.10            16.1000           9.9820   \n",
       "46036               1025.04             5.2486           9.9820   \n",
       "39655               1016.44            15.3433           9.9820   \n",
       "\n",
       "       squared_Pressure  squared_Humidity  \n",
       "27834      1.044893e+06            0.8464  \n",
       "53975      1.024002e+06            0.3025  \n",
       "29076      1.000200e+06            0.5929  \n",
       "46036      1.050707e+06            0.7569  \n",
       "39655      1.033150e+06            0.5329  "
      ]
     },
     "execution_count": 42,
     "metadata": {},
     "output_type": "execute_result"
    }
   ],
   "source": [
    "X_train_2.head()"
   ]
  },
  {
   "cell_type": "markdown",
   "metadata": {},
   "source": [
    "**Задание 16.** Прокомментируйте значимость коэффициентов модели, оценённой на `X_train_2`."
   ]
  },
  {
   "cell_type": "code",
   "execution_count": 47,
   "metadata": {},
   "outputs": [],
   "source": [
    "df['Precip_Type_snow']=df['Precip Type_snow']\n",
    "df['Wind_Speed_km_h']=df['Wind Speed (km/h)']\n",
    "df['Wind_Bearing_degrees']=df['Wind Bearing (degrees)']\n",
    "df['Pressure_millibars']=df['Pressure (millibars)']\n",
    "df['Temperature_C']=df['Temperature (C)']\n",
    "df['Visibility']=df['Visibility (km)']"
   ]
  },
  {
   "cell_type": "code",
   "execution_count": 50,
   "metadata": {},
   "outputs": [
    {
     "data": {
      "text/html": [
       "<table class=\"simpletable\">\n",
       "<caption>OLS Regression Results</caption>\n",
       "<tr>\n",
       "  <th>Dep. Variable:</th>      <td>Temperature_C</td>  <th>  R-squared:         </th>  <td>   0.669</td>  \n",
       "</tr>\n",
       "<tr>\n",
       "  <th>Model:</th>                   <td>OLS</td>       <th>  Adj. R-squared:    </th>  <td>   0.669</td>  \n",
       "</tr>\n",
       "<tr>\n",
       "  <th>Method:</th>             <td>Least Squares</td>  <th>  F-statistic:       </th>  <td>2.419e+04</td> \n",
       "</tr>\n",
       "<tr>\n",
       "  <th>Date:</th>             <td>Sat, 11 Jun 2022</td> <th>  Prob (F-statistic):</th>   <td>  0.00</td>   \n",
       "</tr>\n",
       "<tr>\n",
       "  <th>Time:</th>                 <td>21:18:24</td>     <th>  Log-Likelihood:    </th> <td>-2.9985e+05</td>\n",
       "</tr>\n",
       "<tr>\n",
       "  <th>No. Observations:</th>      <td> 95936</td>      <th>  AIC:               </th>  <td>5.997e+05</td> \n",
       "</tr>\n",
       "<tr>\n",
       "  <th>Df Residuals:</th>          <td> 95927</td>      <th>  BIC:               </th>  <td>5.998e+05</td> \n",
       "</tr>\n",
       "<tr>\n",
       "  <th>Df Model:</th>              <td>     8</td>      <th>                     </th>      <td> </td>     \n",
       "</tr>\n",
       "<tr>\n",
       "  <th>Covariance Type:</th>      <td>nonrobust</td>    <th>                     </th>      <td> </td>     \n",
       "</tr>\n",
       "</table>\n",
       "<table class=\"simpletable\">\n",
       "<tr>\n",
       "            <td></td>              <th>coef</th>     <th>std err</th>      <th>t</th>      <th>P>|t|</th>  <th>[0.025</th>    <th>0.975]</th>  \n",
       "</tr>\n",
       "<tr>\n",
       "  <th>Intercept</th>            <td>-1.056e+04</td> <td>  187.672</td> <td>  -56.272</td> <td> 0.000</td> <td>-1.09e+04</td> <td>-1.02e+04</td>\n",
       "</tr>\n",
       "<tr>\n",
       "  <th>Humidity</th>             <td>  -57.0453</td> <td>    0.661</td> <td>  -86.311</td> <td> 0.000</td> <td>  -58.341</td> <td>  -55.750</td>\n",
       "</tr>\n",
       "<tr>\n",
       "  <th>Precip_Type_snow</th>     <td>  -10.3512</td> <td>    0.064</td> <td> -162.928</td> <td> 0.000</td> <td>  -10.476</td> <td>  -10.227</td>\n",
       "</tr>\n",
       "<tr>\n",
       "  <th>Wind_Bearing_degrees</th> <td>    0.0010</td> <td>    0.000</td> <td>    5.776</td> <td> 0.000</td> <td>    0.001</td> <td>    0.001</td>\n",
       "</tr>\n",
       "<tr>\n",
       "  <th>Pressure_millibars</th>   <td>   21.1209</td> <td>    0.369</td> <td>   57.217</td> <td> 0.000</td> <td>   20.397</td> <td>   21.844</td>\n",
       "</tr>\n",
       "<tr>\n",
       "  <th>Wind_Speed_km_h</th>      <td>   -0.2513</td> <td>    0.003</td> <td>  -90.202</td> <td> 0.000</td> <td>   -0.257</td> <td>   -0.246</td>\n",
       "</tr>\n",
       "<tr>\n",
       "  <th>Visibility</th>           <td>    0.1905</td> <td>    0.005</td> <td>   36.651</td> <td> 0.000</td> <td>    0.180</td> <td>    0.201</td>\n",
       "</tr>\n",
       "<tr>\n",
       "  <th>squared_Pressure</th>     <td>   -0.0105</td> <td>    0.000</td> <td>  -57.933</td> <td> 0.000</td> <td>   -0.011</td> <td>   -0.010</td>\n",
       "</tr>\n",
       "<tr>\n",
       "  <th>squared_Humidity</th>     <td>   23.1871</td> <td>    0.505</td> <td>   45.878</td> <td> 0.000</td> <td>   22.197</td> <td>   24.178</td>\n",
       "</tr>\n",
       "</table>\n",
       "<table class=\"simpletable\">\n",
       "<tr>\n",
       "  <th>Omnibus:</th>       <td>1476.989</td> <th>  Durbin-Watson:     </th> <td>   0.149</td>\n",
       "</tr>\n",
       "<tr>\n",
       "  <th>Prob(Omnibus):</th>  <td> 0.000</td>  <th>  Jarque-Bera (JB):  </th> <td>1616.405</td>\n",
       "</tr>\n",
       "<tr>\n",
       "  <th>Skew:</th>           <td>-0.277</td>  <th>  Prob(JB):          </th> <td>    0.00</td>\n",
       "</tr>\n",
       "<tr>\n",
       "  <th>Kurtosis:</th>       <td> 3.311</td>  <th>  Cond. No.          </th> <td>1.09e+10</td>\n",
       "</tr>\n",
       "</table><br/><br/>Notes:<br/>[1] Standard Errors assume that the covariance matrix of the errors is correctly specified.<br/>[2] The condition number is large, 1.09e+10. This might indicate that there are<br/>strong multicollinearity or other numerical problems."
      ],
      "text/plain": [
       "<class 'statsmodels.iolib.summary.Summary'>\n",
       "\"\"\"\n",
       "                            OLS Regression Results                            \n",
       "==============================================================================\n",
       "Dep. Variable:          Temperature_C   R-squared:                       0.669\n",
       "Model:                            OLS   Adj. R-squared:                  0.669\n",
       "Method:                 Least Squares   F-statistic:                 2.419e+04\n",
       "Date:                Sat, 11 Jun 2022   Prob (F-statistic):               0.00\n",
       "Time:                        21:18:24   Log-Likelihood:            -2.9985e+05\n",
       "No. Observations:               95936   AIC:                         5.997e+05\n",
       "Df Residuals:                   95927   BIC:                         5.998e+05\n",
       "Df Model:                           8                                         \n",
       "Covariance Type:            nonrobust                                         \n",
       "========================================================================================\n",
       "                           coef    std err          t      P>|t|      [0.025      0.975]\n",
       "----------------------------------------------------------------------------------------\n",
       "Intercept            -1.056e+04    187.672    -56.272      0.000   -1.09e+04   -1.02e+04\n",
       "Humidity               -57.0453      0.661    -86.311      0.000     -58.341     -55.750\n",
       "Precip_Type_snow       -10.3512      0.064   -162.928      0.000     -10.476     -10.227\n",
       "Wind_Bearing_degrees     0.0010      0.000      5.776      0.000       0.001       0.001\n",
       "Pressure_millibars      21.1209      0.369     57.217      0.000      20.397      21.844\n",
       "Wind_Speed_km_h         -0.2513      0.003    -90.202      0.000      -0.257      -0.246\n",
       "Visibility               0.1905      0.005     36.651      0.000       0.180       0.201\n",
       "squared_Pressure        -0.0105      0.000    -57.933      0.000      -0.011      -0.010\n",
       "squared_Humidity        23.1871      0.505     45.878      0.000      22.197      24.178\n",
       "==============================================================================\n",
       "Omnibus:                     1476.989   Durbin-Watson:                   0.149\n",
       "Prob(Omnibus):                  0.000   Jarque-Bera (JB):             1616.405\n",
       "Skew:                          -0.277   Prob(JB):                         0.00\n",
       "Kurtosis:                       3.311   Cond. No.                     1.09e+10\n",
       "==============================================================================\n",
       "\n",
       "Notes:\n",
       "[1] Standard Errors assume that the covariance matrix of the errors is correctly specified.\n",
       "[2] The condition number is large, 1.09e+10. This might indicate that there are\n",
       "strong multicollinearity or other numerical problems.\n",
       "\"\"\""
      ]
     },
     "execution_count": 50,
     "metadata": {},
     "output_type": "execute_result"
    }
   ],
   "source": [
    "modie_new = smf.ols(formula='Temperature_C ~ Humidity+ Precip_Type_snow+Wind_Bearing_degrees+Pressure_millibars+Wind_Speed_km_h+Visibility+ squared_Pressure+squared_Humidity', data=df).fit()\n",
    "modie_new.summary()"
   ]
  },
  {
   "cell_type": "markdown",
   "metadata": {},
   "source": [
    "Данный вид модели имеет более высокий R квадрат в сравнении с первой, что говорит о лучшем соответствии исходным данным нежели изначальная модель\n",
    "\n",
    "При этом все также влажность оказывает наибольшее отрицательное влияние на температуру, при проверке данного регрессора в квадратичном виде, зависимсть также присутствует, но уже положительная, что позволяет привснизить иные факторы в данной взаимосвязи(как уже упомяналось, например, время года)\n",
    "\n",
    "\n",
    "Также для отобранных нами для анализа переменных характерна зависимость между нецелевыми переменными, что осложняет рассматривание ситуации применитетельно к ЦП"
   ]
  },
  {
   "cell_type": "markdown",
   "metadata": {},
   "source": [
    "**Задание 17.** Будем называть модель, оценённую на `X_train_1`, **объясняющей**, а на `X_train_2` – **предсказательной**. На основании заданий 14 и 15 сделайте вывод, подходит ли объясняющая модель для предсказаний. На основании задания 16 сделайте вывод, подходит ли предсказательная модель для объяснительной интерпретации. "
   ]
  },
  {
   "cell_type": "markdown",
   "metadata": {},
   "source": [
    "Можно сказать, что технически X_train_1(объясняющая) подходит для предсказаний меньше нежели следующая модель, однако в нашем случае разница в ошибках составила не критичное значение, то есть несмотря на то, что мы снизили MAE и при прочих равных выбрали бы вторую модель, первая также может подойти для предсказаний\n",
    "\n",
    "Говоря о X_train_2(предсказательной), она в целом объясняет зависимости ЦП лучше и, следовательно, подходит для осмысленной интерпретации, особенно при условии, что унифицированного значения границы \"хорошего\" и \"плохого\" R квадрат не существует"
   ]
  },
  {
   "cell_type": "markdown",
   "metadata": {},
   "source": [
    "## Safe Area"
   ]
  },
  {
   "cell_type": "markdown",
   "metadata": {},
   "source": [
    "Если хотите, напишите здесь что угодно. Можно вставить картинку."
   ]
  },
  {
   "cell_type": "code",
   "execution_count": null,
   "metadata": {},
   "outputs": [],
   "source": []
  }
 ],
 "metadata": {
  "hide_input": false,
  "kernelspec": {
   "display_name": "Python 3 (ipykernel)",
   "language": "python",
   "name": "python3"
  },
  "language_info": {
   "codemirror_mode": {
    "name": "ipython",
    "version": 3
   },
   "file_extension": ".py",
   "mimetype": "text/x-python",
   "name": "python",
   "nbconvert_exporter": "python",
   "pygments_lexer": "ipython3",
   "version": "3.9.7"
  },
  "latex_envs": {
   "LaTeX_envs_menu_present": true,
   "autoclose": true,
   "autocomplete": true,
   "bibliofile": "biblio.bib",
   "cite_by": "apalike",
   "current_citInitial": 1,
   "eqLabelWithNumbers": true,
   "eqNumInitial": 1,
   "hotkeys": {
    "equation": "Ctrl-E",
    "itemize": "Ctrl-I"
   },
   "labels_anchors": false,
   "latex_user_defs": false,
   "report_style_numbering": false,
   "user_envs_cfg": false
  },
  "toc": {
   "base_numbering": 1,
   "nav_menu": {},
   "number_sections": true,
   "sideBar": true,
   "skip_h1_title": false,
   "title_cell": "Table of Contents",
   "title_sidebar": "Contents",
   "toc_cell": false,
   "toc_position": {},
   "toc_section_display": true,
   "toc_window_display": false
  },
  "varInspector": {
   "cols": {
    "lenName": 16,
    "lenType": 16,
    "lenVar": 40
   },
   "kernels_config": {
    "python": {
     "delete_cmd_postfix": "",
     "delete_cmd_prefix": "del ",
     "library": "var_list.py",
     "varRefreshCmd": "print(var_dic_list())"
    },
    "r": {
     "delete_cmd_postfix": ") ",
     "delete_cmd_prefix": "rm(",
     "library": "var_list.r",
     "varRefreshCmd": "cat(var_dic_list()) "
    }
   },
   "types_to_exclude": [
    "module",
    "function",
    "builtin_function_or_method",
    "instance",
    "_Feature"
   ],
   "window_display": false
  }
 },
 "nbformat": 4,
 "nbformat_minor": 4
}
