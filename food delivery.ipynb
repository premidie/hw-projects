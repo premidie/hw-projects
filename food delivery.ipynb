{
 "cells": [
  {
   "cell_type": "markdown",
   "id": "665e114d",
   "metadata": {},
   "source": [
    "# DZ 1 Немного EDA для маркетинговых данных"
   ]
  },
  {
   "cell_type": "markdown",
   "id": "95d74125",
   "metadata": {},
   "source": [
    "Вам предложены данные iFood — приложения для доставки еды в Бразилии, представленного более чем в тысяче городов.\n",
    "Поддержание высокой вовлеченности клиентов является важной задачей для компании. Для того, чтобы создавать новые предложения и проводить качественные рекламные кампании, необходимо понимать особенности и потребности целевой аудитории. Для этого были собраны данные о клиентах, использующих приложение. Вам предстоит выявить особенности людей, пользующихся данным приложением и найти интересные закономерности.\n",
    "\n",
    "Почитать про компанию можно, например, на википедии:) https://en.wikipedia.org/wiki/IFood"
   ]
  },
  {
   "cell_type": "markdown",
   "id": "db6e583b",
   "metadata": {},
   "source": [
    "Описание данных:\n",
    "    \n",
    "* AcceptedCmp1 - 1 if customer accepted the offer in the 1st campaign, 0 otherwise\n",
    "* AcceptedCmp2 - 1 if customer accepted the offer in the 2nd campaign, 0 otherwise\n",
    "* AcceptedCmp3 - 1 if customer accepted the offer in the 3rd campaign, 0 otherwise\n",
    "* AcceptedCmp4 - 1 if customer accepted the offer in the 4th campaign, 0 otherwise\n",
    "* AcceptedCmp5 - 1 if customer accepted the offer in the 5th campaign, 0 otherwise\n",
    "* Response (target) - 1 if customer accepted the offer in the last campaign, 0 otherwise\n",
    "* Complain - 1 if customer complained in the last 2 years\n",
    "* DtCustomer - date of customer’s enrolment with the company\n",
    "* Education - customer’s level of education\n",
    "* Marital - customer’s marital status\n",
    "* Kidhome - number of small children in customer’s household\n",
    "* Teenhome - number of teenagers in customer’s household\n",
    "* Income - customer’s yearly household income\n",
    "* MntFishProducts - amount spent on fish products in the last 2 years\n",
    "* MntMeatProducts - amount spent on meat products in the last 2 years\n",
    "* MntFruits - amount spent on fruits products in the last 2 years\n",
    "* MntSweetProducts - amount spent on sweet products in the last 2 years\n",
    "* MntWines - amount spent on wine products in the last 2 years\n",
    "* MntGoldProds - amount spent on gold products in the last 2 years\n",
    "* NumDealsPurchases - number of purchases made with discount\n",
    "* NumCatalogPurchases - number of purchases made using catalogue\n",
    "* NumStorePurchases - number of purchases made directly in stores\n",
    "* NumWebPurchases - number of purchases made through company’s web site\n",
    "* NumWebVisitsMonth - number of visits to company’s web site in the last month\n",
    "* Recency - number of days since the last purchase"
   ]
  },
  {
   "cell_type": "markdown",
   "id": "e269d555",
   "metadata": {},
   "source": [
    "## Немного важной информации:"
   ]
  },
  {
   "cell_type": "markdown",
   "id": "d07cc02d",
   "metadata": {},
   "source": [
    "1. Обязательно гуглите! Использование дополнительных методов не карается, но приветствуется (если вы сможете объяснить принцип их работы) Однако, если вы нашли что-то полезное и хотите скопировать себе - сделав это, добавьте в начале ячейки ссылку на источник. В противном случае это будет считаться плагиатом.\n",
    "\n",
    "2. Плагиат не допускается и строго наказывается. Единственное возможное исключение - код, заимствованный из интернета, с ссылкой на источник."
   ]
  },
  {
   "cell_type": "markdown",
   "id": "4cd87d25",
   "metadata": {},
   "source": [
    "## Задание 1 (1 балл): предобработка данных"
   ]
  },
  {
   "cell_type": "markdown",
   "id": "f0856f15",
   "metadata": {},
   "source": [
    "Откройте предложенные данные."
   ]
  },
  {
   "cell_type": "code",
   "execution_count": 283,
   "id": "b0366881",
   "metadata": {},
   "outputs": [
    {
     "name": "stdout",
     "output_type": "stream",
     "text": [
      "<class 'pandas.core.frame.DataFrame'>\n",
      "RangeIndex: 2240 entries, 0 to 2239\n",
      "Data columns (total 28 columns):\n",
      " #   Column               Non-Null Count  Dtype \n",
      "---  ------               --------------  ----- \n",
      " 0   ID                   2240 non-null   int64 \n",
      " 1   Year_Birth           2240 non-null   int64 \n",
      " 2   Education            2240 non-null   object\n",
      " 3   Marital_Status       2240 non-null   object\n",
      " 4   Income               2216 non-null   object\n",
      " 5   Kidhome              2240 non-null   int64 \n",
      " 6   Teenhome             2240 non-null   int64 \n",
      " 7   Dt_Customer          2240 non-null   object\n",
      " 8   Recency              2240 non-null   int64 \n",
      " 9   MntWines             2240 non-null   int64 \n",
      " 10  MntFruits            2240 non-null   int64 \n",
      " 11  MntMeatProducts      2240 non-null   int64 \n",
      " 12  MntFishProducts      2240 non-null   int64 \n",
      " 13  MntSweetProducts     2240 non-null   int64 \n",
      " 14  MntGoldProds         2240 non-null   int64 \n",
      " 15  NumDealsPurchases    2240 non-null   int64 \n",
      " 16  NumWebPurchases      2240 non-null   int64 \n",
      " 17  NumCatalogPurchases  2240 non-null   int64 \n",
      " 18  NumStorePurchases    2240 non-null   int64 \n",
      " 19  NumWebVisitsMonth    2240 non-null   int64 \n",
      " 20  AcceptedCmp3         2240 non-null   int64 \n",
      " 21  AcceptedCmp4         2240 non-null   int64 \n",
      " 22  AcceptedCmp5         2240 non-null   int64 \n",
      " 23  AcceptedCmp1         2240 non-null   int64 \n",
      " 24  AcceptedCmp2         2240 non-null   int64 \n",
      " 25  Response             2240 non-null   int64 \n",
      " 26  Complain             2240 non-null   int64 \n",
      " 27  Country              2240 non-null   object\n",
      "dtypes: int64(23), object(5)\n",
      "memory usage: 490.1+ KB\n"
     ]
    }
   ],
   "source": [
    "import pandas as pd\n",
    "df = pd.read_csv(\"marketing.csv\")\n",
    "df.info()"
   ]
  },
  {
   "cell_type": "markdown",
   "id": "8743651c",
   "metadata": {},
   "source": [
    "Изучите ваши данные. Какие типы данных здесь представлены? Все ли данные считались в корректном и удобном для работы формате? Если нет, то с какими данными есть проблемы?"
   ]
  },
  {
   "cell_type": "markdown",
   "id": "61e9a298",
   "metadata": {},
   "source": [
    "#### 1) Наши типы данных: целые числа и объекты (строковые или смешанные значения(?)/ дискретные(целые??) и категориальные переменные\n",
    "#### 2) В удобном формате не считались данные-объекты, они представляют собой строковый тип, работать с ними и проводить анализ в таком виде куда менее удобно. К таким относятся: Education, Marital_Status, Income, DT_customer, Country"
   ]
  },
  {
   "cell_type": "markdown",
   "id": "4f42cbb7",
   "metadata": {},
   "source": [
    "Теперь необходимо привести некоторые данные в корректный вид. Преобразуйте признак income так, чтобы значения этого признака были обычными вещественными числами (float)"
   ]
  },
  {
   "cell_type": "code",
   "execution_count": 284,
   "id": "1bf60c74",
   "metadata": {},
   "outputs": [
    {
     "name": "stderr",
     "output_type": "stream",
     "text": [
      "/var/folders/mp/4ncxpf7d2wg2lslq6lky9swh0000gn/T/ipykernel_68503/2296052682.py:3: FutureWarning: The default value of regex will change from True to False in a future version. In addition, single character regular expressions will *not* be treated as literal strings when regex=True.\n",
      "  df['Income']=df['Income'].str.replace('.','')\n"
     ]
    },
    {
     "data": {
      "text/plain": [
       "0       84.835\n",
       "1       57.091\n",
       "2       67.267\n",
       "3       32.474\n",
       "4       21.474\n",
       "         ...  \n",
       "2235    66.476\n",
       "2236    31.056\n",
       "2237    46.310\n",
       "2238    65.819\n",
       "2239    94.871\n",
       "Name: Income, Length: 2240, dtype: float64"
      ]
     },
     "execution_count": 284,
     "metadata": {},
     "output_type": "execute_result"
    }
   ],
   "source": [
    "# Ваш супер-код\n",
    "df['Income']=df['Income'].str.strip('$')\n",
    "df['Income']=df['Income'].str.replace('.','')\n",
    "df['Income']=df['Income'].str.replace(',','.')\n",
    "df['Income'] = df['Income'].astype(float)\n",
    "df['Income']"
   ]
  },
  {
   "cell_type": "markdown",
   "id": "c0b873cb",
   "metadata": {},
   "source": [
    "Кроме того, даты нам было бы удобнее представить в корректном формате ГГГГ-ММ-ДД. Преобразуйте данные с датами в соответствующий вид."
   ]
  },
  {
   "cell_type": "code",
   "execution_count": 285,
   "id": "0f25e9e7",
   "metadata": {},
   "outputs": [
    {
     "data": {
      "text/plain": [
       "0      2014-06-16\n",
       "1      2014-06-15\n",
       "2      2014-05-13\n",
       "3      2014-05-11\n",
       "4      2014-04-08\n",
       "          ...    \n",
       "2235   2013-03-07\n",
       "2236   2013-01-22\n",
       "2237   2012-12-03\n",
       "2238   2012-11-29\n",
       "2239   2012-09-01\n",
       "Name: Dt_Customer, Length: 2240, dtype: datetime64[ns]"
      ]
     },
     "execution_count": 285,
     "metadata": {},
     "output_type": "execute_result"
    }
   ],
   "source": [
    "import datetime\n",
    "df['Dt_Customer']=pd.to_datetime(df['Dt_Customer'])\n",
    "df['Dt_Customer'] #источник:https://pandas.pydata.org/docs/reference/api/pandas.to_datetime.html"
   ]
  },
  {
   "cell_type": "markdown",
   "id": "c87a6ac0",
   "metadata": {},
   "source": [
    "## Задание 2 (1.5 балла): пропуски и выбросы"
   ]
  },
  {
   "cell_type": "markdown",
   "id": "5198fc92",
   "metadata": {},
   "source": [
    "Исследуйте данные на предмет пропусков и выбросов. Есть ли в данных пропуски? Сколько и в каких признаках? Как вы будете их обрабатывать? Обработайте пропуски, пояснив выбранную вами стратегию обработки.\n",
    "\n",
    "_важно: просто удалить - это не стратегия обработки, придумайте что-то другое_"
   ]
  },
  {
   "cell_type": "code",
   "execution_count": 286,
   "id": "b1aa312b",
   "metadata": {},
   "outputs": [
    {
     "data": {
      "text/plain": [
       "Income                 24\n",
       "ID                      0\n",
       "NumDealsPurchases       0\n",
       "Complain                0\n",
       "Response                0\n",
       "AcceptedCmp2            0\n",
       "AcceptedCmp1            0\n",
       "AcceptedCmp5            0\n",
       "AcceptedCmp4            0\n",
       "AcceptedCmp3            0\n",
       "NumWebVisitsMonth       0\n",
       "NumStorePurchases       0\n",
       "NumCatalogPurchases     0\n",
       "NumWebPurchases         0\n",
       "MntGoldProds            0\n",
       "Year_Birth              0\n",
       "MntSweetProducts        0\n",
       "MntFishProducts         0\n",
       "MntMeatProducts         0\n",
       "MntFruits               0\n",
       "MntWines                0\n",
       "Recency                 0\n",
       "Dt_Customer             0\n",
       "Teenhome                0\n",
       "Kidhome                 0\n",
       "Marital_Status          0\n",
       "Education               0\n",
       "Country                 0\n",
       "dtype: int64"
      ]
     },
     "execution_count": 286,
     "metadata": {},
     "output_type": "execute_result"
    }
   ],
   "source": [
    "# Ваш код и комментарий\n",
    "df.isnull().sum().sort_values(ascending=False)"
   ]
  },
  {
   "cell_type": "markdown",
   "id": "2d8b3e62",
   "metadata": {},
   "source": [
    "#### Итак, у нас 24 пропуска в категории Income, чтобы их заполнить, 1) проверим, распределены ли данные нормально 2) -если да берем в качестве \"заполнителя\" среднее, если нет-медиану,тк она не чувствительна к выбросам"
   ]
  },
  {
   "cell_type": "code",
   "execution_count": 287,
   "id": "7535dc6b",
   "metadata": {},
   "outputs": [
    {
     "data": {
      "text/plain": [
       "<AxesSubplot:>"
      ]
     },
     "execution_count": 287,
     "metadata": {},
     "output_type": "execute_result"
    },
    {
     "data": {
      "image/png": "[encoded data removed]",
      "text/plain": [
       "<Figure size 432x288 with 1 Axes>"
      ]
     },
     "metadata": {
      "needs_background": "light"
     },
     "output_type": "display_data"
    }
   ],
   "source": [
    "# итак сперва проверим наше распределение признака на нормальность\n",
    "df['Income'].hist(bins=60) \n",
    "# из гистограммы видно, что распределение нормально=> заполняем пропуски средним"
   ]
  },
  {
   "cell_type": "code",
   "execution_count": 288,
   "id": "8fb5d8ca",
   "metadata": {},
   "outputs": [],
   "source": [
    "df['Income']=df['Income'].fillna(df['Income'].mean())"
   ]
  },
  {
   "cell_type": "markdown",
   "id": "7f5bbaa3",
   "metadata": {},
   "source": [
    "Исследуйте данные на предмет выбросов и удалите их, если они есть. Если выбросы есть - продемонстрируйте это численно и с помощью визуализаций. Прокомментируйте, как вы ищете выбросы, и почему их стоит удалить."
   ]
  },
  {
   "cell_type": "markdown",
   "id": "0ef06d80",
   "metadata": {},
   "source": [
    "####  Выбросы - аномальные значения, они демонстрируют сильно отклоняющиеся от среднего и медианы значения, которые могут привести к неточностям в анализе данных\n",
    "#### Переходим к выбросам, для наглядности ниже три ячейки с графиками обнаруженых в признаках выбросов, из которых видно, что выбросы есть в Income, MntFruits, Year_Birth, MntWines, MntSweetProducts, MntFishProducts, MntMeatProducts, MntGoldProds, NumDealsPurchases, NumCatalogPurchases, NumWebPurchases, NumStorePurchases,NumWebVisitsMonth - то есть из небинарных и не строковых признаков - все, кроме Recency и NumStorePurchases"
   ]
  },
  {
   "cell_type": "code",
   "execution_count": 289,
   "id": "33fd4c89",
   "metadata": {},
   "outputs": [
    {
     "data": {
      "image/png": "[encoded data removed]",
      "text/plain": [
       "<Figure size 1008x648 with 12 Axes>"
      ]
     },
     "metadata": {
      "needs_background": "light"
     },
     "output_type": "display_data"
    }
   ],
   "source": [
    "import matplotlib.pyplot as plt\n",
    "fig, ax = plt.subplots(3,4, figsize=(14,9))\n",
    "\n",
    "ax[0][0].boxplot(df.Income);\n",
    "ax[0][0].set_title('Income');\n",
    "\n",
    "ax[0][1].boxplot(df.NumDealsPurchases);\n",
    "ax[0][1].set_title('NumDealsPurchases');\n",
    "\n",
    "ax[0][2].boxplot(df.MntFruits);\n",
    "ax[0][2].set_title('MntFruits');\n",
    "\n",
    "ax[0][3].boxplot(df.MntWines)\n",
    "ax[0][3].set_title('MntWines');\n",
    "\n",
    "ax[1][0].boxplot(df.MntSweetProducts);\n",
    "ax[1][0].set_title('MntSweetProducts');\n",
    "\n",
    "ax[1][1].boxplot(df.MntFishProducts);\n",
    "ax[1][1].set_title('MntFishProducts');\n",
    "\n",
    "ax[1][2].boxplot(df.MntMeatProducts);#\n",
    "ax[1][2].set_title('MntMeatProducts')\n",
    "\n",
    "ax[1][3].boxplot(df.NumWebPurchases)\n",
    "ax[1][3].set_title('NumWebPurchases');\n",
    "\n",
    "ax[2][0].boxplot(df.NumCatalogPurchases);\n",
    "ax[2][0].set_title('NumCatalogPurchases');\n",
    "\n",
    "ax[2][1].boxplot(df.MntGoldProds);#нет выбросов\n",
    "ax[2][1].set_title('MntGoldProds');\n",
    "\n",
    "ax[2][2].boxplot(df.NumWebVisitsMonth)\n",
    "ax[2][2].set_title('NumWebVisitsMonth');\n",
    "\n",
    "ax[2][3].boxplot(df.Year_Birth)\n",
    "ax[2][3].set_title('Year_Birth');\n"
   ]
  },
  {
   "cell_type": "code",
   "execution_count": 290,
   "id": "a4f33ade",
   "metadata": {},
   "outputs": [
    {
     "data": {
      "text/html": [
       "<div>\n",
       "<style scoped>\n",
       "    .dataframe tbody tr th:only-of-type {\n",
       "        vertical-align: middle;\n",
       "    }\n",
       "\n",
       "    .dataframe tbody tr th {\n",
       "        vertical-align: top;\n",
       "    }\n",
       "\n",
       "    .dataframe thead th {\n",
       "        text-align: right;\n",
       "    }\n",
       "</style>\n",
       "<table border=\"1\" class=\"dataframe\">\n",
       "  <thead>\n",
       "    <tr style=\"text-align: right;\">\n",
       "      <th></th>\n",
       "      <th>ID</th>\n",
       "      <th>Year_Birth</th>\n",
       "      <th>Income</th>\n",
       "      <th>Kidhome</th>\n",
       "      <th>Teenhome</th>\n",
       "      <th>Recency</th>\n",
       "      <th>MntWines</th>\n",
       "      <th>MntFruits</th>\n",
       "      <th>MntMeatProducts</th>\n",
       "      <th>MntFishProducts</th>\n",
       "      <th>...</th>\n",
       "      <th>NumCatalogPurchases</th>\n",
       "      <th>NumStorePurchases</th>\n",
       "      <th>NumWebVisitsMonth</th>\n",
       "      <th>AcceptedCmp3</th>\n",
       "      <th>AcceptedCmp4</th>\n",
       "      <th>AcceptedCmp5</th>\n",
       "      <th>AcceptedCmp1</th>\n",
       "      <th>AcceptedCmp2</th>\n",
       "      <th>Response</th>\n",
       "      <th>Complain</th>\n",
       "    </tr>\n",
       "  </thead>\n",
       "  <tbody>\n",
       "    <tr>\n",
       "      <th>count</th>\n",
       "      <td>2240.000000</td>\n",
       "      <td>2240.000000</td>\n",
       "      <td>2240.000000</td>\n",
       "      <td>2240.000000</td>\n",
       "      <td>2240.000000</td>\n",
       "      <td>2240.000000</td>\n",
       "      <td>2240.000000</td>\n",
       "      <td>2240.000000</td>\n",
       "      <td>2240.000000</td>\n",
       "      <td>2240.000000</td>\n",
       "      <td>...</td>\n",
       "      <td>2240.000000</td>\n",
       "      <td>2240.000000</td>\n",
       "      <td>2240.000000</td>\n",
       "      <td>2240.000000</td>\n",
       "      <td>2240.000000</td>\n",
       "      <td>2240.000000</td>\n",
       "      <td>2240.000000</td>\n",
       "      <td>2240.000000</td>\n",
       "      <td>2240.000000</td>\n",
       "      <td>2240.000000</td>\n",
       "    </tr>\n",
       "    <tr>\n",
       "      <th>mean</th>\n",
       "      <td>5592.159821</td>\n",
       "      <td>1968.805804</td>\n",
       "      <td>52.247251</td>\n",
       "      <td>0.444196</td>\n",
       "      <td>0.506250</td>\n",
       "      <td>49.109375</td>\n",
       "      <td>303.935714</td>\n",
       "      <td>26.302232</td>\n",
       "      <td>166.950000</td>\n",
       "      <td>37.525446</td>\n",
       "      <td>...</td>\n",
       "      <td>2.662054</td>\n",
       "      <td>5.790179</td>\n",
       "      <td>5.316518</td>\n",
       "      <td>0.072768</td>\n",
       "      <td>0.074554</td>\n",
       "      <td>0.072768</td>\n",
       "      <td>0.064286</td>\n",
       "      <td>0.013393</td>\n",
       "      <td>0.149107</td>\n",
       "      <td>0.009375</td>\n",
       "    </tr>\n",
       "    <tr>\n",
       "      <th>std</th>\n",
       "      <td>3246.662198</td>\n",
       "      <td>11.984069</td>\n",
       "      <td>25.037797</td>\n",
       "      <td>0.538398</td>\n",
       "      <td>0.544538</td>\n",
       "      <td>28.962453</td>\n",
       "      <td>336.597393</td>\n",
       "      <td>39.773434</td>\n",
       "      <td>225.715373</td>\n",
       "      <td>54.628979</td>\n",
       "      <td>...</td>\n",
       "      <td>2.923101</td>\n",
       "      <td>3.250958</td>\n",
       "      <td>2.426645</td>\n",
       "      <td>0.259813</td>\n",
       "      <td>0.262728</td>\n",
       "      <td>0.259813</td>\n",
       "      <td>0.245316</td>\n",
       "      <td>0.114976</td>\n",
       "      <td>0.356274</td>\n",
       "      <td>0.096391</td>\n",
       "    </tr>\n",
       "    <tr>\n",
       "      <th>min</th>\n",
       "      <td>0.000000</td>\n",
       "      <td>1893.000000</td>\n",
       "      <td>1.730000</td>\n",
       "      <td>0.000000</td>\n",
       "      <td>0.000000</td>\n",
       "      <td>0.000000</td>\n",
       "      <td>0.000000</td>\n",
       "      <td>0.000000</td>\n",
       "      <td>0.000000</td>\n",
       "      <td>0.000000</td>\n",
       "      <td>...</td>\n",
       "      <td>0.000000</td>\n",
       "      <td>0.000000</td>\n",
       "      <td>0.000000</td>\n",
       "      <td>0.000000</td>\n",
       "      <td>0.000000</td>\n",
       "      <td>0.000000</td>\n",
       "      <td>0.000000</td>\n",
       "      <td>0.000000</td>\n",
       "      <td>0.000000</td>\n",
       "      <td>0.000000</td>\n",
       "    </tr>\n",
       "    <tr>\n",
       "      <th>25%</th>\n",
       "      <td>2828.250000</td>\n",
       "      <td>1959.000000</td>\n",
       "      <td>35.538750</td>\n",
       "      <td>0.000000</td>\n",
       "      <td>0.000000</td>\n",
       "      <td>24.000000</td>\n",
       "      <td>23.750000</td>\n",
       "      <td>1.000000</td>\n",
       "      <td>16.000000</td>\n",
       "      <td>3.000000</td>\n",
       "      <td>...</td>\n",
       "      <td>0.000000</td>\n",
       "      <td>3.000000</td>\n",
       "      <td>3.000000</td>\n",
       "      <td>0.000000</td>\n",
       "      <td>0.000000</td>\n",
       "      <td>0.000000</td>\n",
       "      <td>0.000000</td>\n",
       "      <td>0.000000</td>\n",
       "      <td>0.000000</td>\n",
       "      <td>0.000000</td>\n",
       "    </tr>\n",
       "    <tr>\n",
       "      <th>50%</th>\n",
       "      <td>5458.500000</td>\n",
       "      <td>1970.000000</td>\n",
       "      <td>51.741500</td>\n",
       "      <td>0.000000</td>\n",
       "      <td>0.000000</td>\n",
       "      <td>49.000000</td>\n",
       "      <td>173.500000</td>\n",
       "      <td>8.000000</td>\n",
       "      <td>67.000000</td>\n",
       "      <td>12.000000</td>\n",
       "      <td>...</td>\n",
       "      <td>2.000000</td>\n",
       "      <td>5.000000</td>\n",
       "      <td>6.000000</td>\n",
       "      <td>0.000000</td>\n",
       "      <td>0.000000</td>\n",
       "      <td>0.000000</td>\n",
       "      <td>0.000000</td>\n",
       "      <td>0.000000</td>\n",
       "      <td>0.000000</td>\n",
       "      <td>0.000000</td>\n",
       "    </tr>\n",
       "    <tr>\n",
       "      <th>75%</th>\n",
       "      <td>8427.750000</td>\n",
       "      <td>1977.000000</td>\n",
       "      <td>68.289750</td>\n",
       "      <td>1.000000</td>\n",
       "      <td>1.000000</td>\n",
       "      <td>74.000000</td>\n",
       "      <td>504.250000</td>\n",
       "      <td>33.000000</td>\n",
       "      <td>232.000000</td>\n",
       "      <td>50.000000</td>\n",
       "      <td>...</td>\n",
       "      <td>4.000000</td>\n",
       "      <td>8.000000</td>\n",
       "      <td>7.000000</td>\n",
       "      <td>0.000000</td>\n",
       "      <td>0.000000</td>\n",
       "      <td>0.000000</td>\n",
       "      <td>0.000000</td>\n",
       "      <td>0.000000</td>\n",
       "      <td>0.000000</td>\n",
       "      <td>0.000000</td>\n",
       "    </tr>\n",
       "    <tr>\n",
       "      <th>max</th>\n",
       "      <td>11191.000000</td>\n",
       "      <td>1996.000000</td>\n",
       "      <td>666.666000</td>\n",
       "      <td>2.000000</td>\n",
       "      <td>2.000000</td>\n",
       "      <td>99.000000</td>\n",
       "      <td>1493.000000</td>\n",
       "      <td>199.000000</td>\n",
       "      <td>1725.000000</td>\n",
       "      <td>259.000000</td>\n",
       "      <td>...</td>\n",
       "      <td>28.000000</td>\n",
       "      <td>13.000000</td>\n",
       "      <td>20.000000</td>\n",
       "      <td>1.000000</td>\n",
       "      <td>1.000000</td>\n",
       "      <td>1.000000</td>\n",
       "      <td>1.000000</td>\n",
       "      <td>1.000000</td>\n",
       "      <td>1.000000</td>\n",
       "      <td>1.000000</td>\n",
       "    </tr>\n",
       "  </tbody>\n",
       "</table>\n",
       "<p>8 rows × 24 columns</p>\n",
       "</div>"
      ],
      "text/plain": [
       "                 ID   Year_Birth       Income      Kidhome     Teenhome  \\\n",
       "count   2240.000000  2240.000000  2240.000000  2240.000000  2240.000000   \n",
       "mean    5592.159821  1968.805804    52.247251     0.444196     0.506250   \n",
       "std     3246.662198    11.984069    25.037797     0.538398     0.544538   \n",
       "min        0.000000  1893.000000     1.730000     0.000000     0.000000   \n",
       "25%     2828.250000  1959.000000    35.538750     0.000000     0.000000   \n",
       "50%     5458.500000  1970.000000    51.741500     0.000000     0.000000   \n",
       "75%     8427.750000  1977.000000    68.289750     1.000000     1.000000   \n",
       "max    11191.000000  1996.000000   666.666000     2.000000     2.000000   \n",
       "\n",
       "           Recency     MntWines    MntFruits  MntMeatProducts  \\\n",
       "count  2240.000000  2240.000000  2240.000000      2240.000000   \n",
       "mean     49.109375   303.935714    26.302232       166.950000   \n",
       "std      28.962453   336.597393    39.773434       225.715373   \n",
       "min       0.000000     0.000000     0.000000         0.000000   \n",
       "25%      24.000000    23.750000     1.000000        16.000000   \n",
       "50%      49.000000   173.500000     8.000000        67.000000   \n",
       "75%      74.000000   504.250000    33.000000       232.000000   \n",
       "max      99.000000  1493.000000   199.000000      1725.000000   \n",
       "\n",
       "       MntFishProducts  ...  NumCatalogPurchases  NumStorePurchases  \\\n",
       "count      2240.000000  ...          2240.000000        2240.000000   \n",
       "mean         37.525446  ...             2.662054           5.790179   \n",
       "std          54.628979  ...             2.923101           3.250958   \n",
       "min           0.000000  ...             0.000000           0.000000   \n",
       "25%           3.000000  ...             0.000000           3.000000   \n",
       "50%          12.000000  ...             2.000000           5.000000   \n",
       "75%          50.000000  ...             4.000000           8.000000   \n",
       "max         259.000000  ...            28.000000          13.000000   \n",
       "\n",
       "       NumWebVisitsMonth  AcceptedCmp3  AcceptedCmp4  AcceptedCmp5  \\\n",
       "count        2240.000000   2240.000000   2240.000000   2240.000000   \n",
       "mean            5.316518      0.072768      0.074554      0.072768   \n",
       "std             2.426645      0.259813      0.262728      0.259813   \n",
       "min             0.000000      0.000000      0.000000      0.000000   \n",
       "25%             3.000000      0.000000      0.000000      0.000000   \n",
       "50%             6.000000      0.000000      0.000000      0.000000   \n",
       "75%             7.000000      0.000000      0.000000      0.000000   \n",
       "max            20.000000      1.000000      1.000000      1.000000   \n",
       "\n",
       "       AcceptedCmp1  AcceptedCmp2     Response     Complain  \n",
       "count   2240.000000   2240.000000  2240.000000  2240.000000  \n",
       "mean       0.064286      0.013393     0.149107     0.009375  \n",
       "std        0.245316      0.114976     0.356274     0.096391  \n",
       "min        0.000000      0.000000     0.000000     0.000000  \n",
       "25%        0.000000      0.000000     0.000000     0.000000  \n",
       "50%        0.000000      0.000000     0.000000     0.000000  \n",
       "75%        0.000000      0.000000     0.000000     0.000000  \n",
       "max        1.000000      1.000000     1.000000     1.000000  \n",
       "\n",
       "[8 rows x 24 columns]"
      ]
     },
     "execution_count": 290,
     "metadata": {},
     "output_type": "execute_result"
    }
   ],
   "source": [
    "# численно можно проверить путем описательного метода и сравнения средних и максимально имеющихся у нас значений в признаках, явно выходящие за границы Q1:Q3 расстояния\n",
    "df.describe()"
   ]
  },
  {
   "cell_type": "code",
   "execution_count": 291,
   "id": "fb493302",
   "metadata": {},
   "outputs": [],
   "source": [
    "#берем получившиеся действительные небинарные переменные и с помощью межквантильного расстояния удаляем выбросы \n",
    "\n",
    "col1=['Income']\n",
    "Q1 = df[col1].quantile(0.25)\n",
    "Q3 = df[col1].quantile(0.75)\n",
    "IQR = Q3 - Q1\n",
    "df = df[~((df[col1] < (Q1 - 1.5 * IQR)) |(df[col1] > (Q3 + 1.5 * IQR))).any(axis=1)]\n",
    "\n",
    "col2=['MntWines']\n",
    "Q1 = df[col2].quantile(0.25)\n",
    "Q3 = df[col2].quantile(0.75)\n",
    "IQR = Q3 - Q1\n",
    "df = df[~((df[col2] < (Q1 - 1.5 * IQR)) |(df[col2] > (Q3 + 1.5 * IQR))).any(axis=1)]\n",
    "\n",
    "col3=['MntFruits']\n",
    "Q1 = df[col3].quantile(0.25)\n",
    "Q3 = df[col3].quantile(0.75)\n",
    "IQR = Q3 - Q1\n",
    "df = df[~((df[col3] < (Q1 - 1.5 * IQR)) |(df[col3] > (Q3 + 1.5 * IQR))).any(axis=1)]\n",
    "\n",
    "col4=['MntMeatProducts']\n",
    "Q1 = df[col4].quantile(0.25)\n",
    "Q3 = df[col4].quantile(0.75)\n",
    "IQR = Q3 - Q1\n",
    "df = df[~((df[col4] < (Q1 - 1.5 * IQR)) |(df[col4] > (Q3 + 1.5 * IQR))).any(axis=1)]\n",
    "\n",
    "col5=['MntFishProducts']\n",
    "Q1 = df[col5].quantile(0.25)\n",
    "Q3 = df[col5].quantile(0.75)\n",
    "IQR = Q3 - Q1\n",
    "df = df[~((df[col5] < (Q1 - 1.5 * IQR)) |(df[col5] > (Q3 + 1.5 * IQR))).any(axis=1)]\n",
    "\n",
    "col6=['MntSweetProducts']\n",
    "Q1 = df[col6].quantile(0.25)\n",
    "Q3 = df[col6].quantile(0.75)\n",
    "IQR = Q3 - Q1\n",
    "df = df[~((df[col6] < (Q1 - 1.5 * IQR)) |(df[col6] > (Q3 + 1.5 * IQR))).any(axis=1)]\n",
    "\n",
    "col7=['MntGoldProds']\n",
    "Q1 = df[col7].quantile(0.25)\n",
    "Q3 = df[col7].quantile(0.75)\n",
    "IQR = Q3 - Q1\n",
    "df = df[~((df[col7] < (Q1 - 1.5 * IQR)) |(df[col7] > (Q3 + 1.5 * IQR))).any(axis=1)]\n",
    "\n",
    "col8=['NumDealsPurchases']\n",
    "Q1 = df[col8].quantile(0.25)\n",
    "Q3 = df[col8].quantile(0.75)\n",
    "IQR = Q3 - Q1\n",
    "df = df[~((df[col8] < (Q1 - 1.5 * IQR)) |(df[col8] > (Q3 + 1.5 * IQR))).any(axis=1)]\n",
    "\n",
    "col9=['NumCatalogPurchases']\n",
    "Q1 = df[col9].quantile(0.25)\n",
    "Q3 = df[col9].quantile(0.75)\n",
    "IQR = Q3 - Q1\n",
    "df = df[~((df[col9] < (Q1 - 1.5 * IQR)) |(df[col9] > (Q3 + 1.5 * IQR))).any(axis=1)]\n",
    "\n",
    "col10=['NumWebPurchases']\n",
    "Q1 = df[col10].quantile(0.25)\n",
    "Q3 = df[col10].quantile(0.75)\n",
    "IQR = Q3 - Q1\n",
    "df = df[~((df[col10] < (Q1 - 1.5 * IQR)) |(df[col10] > (Q3 + 1.5 * IQR))).any(axis=1)]\n",
    "\n",
    "col11=['NumWebVisitsMonth']\n",
    "Q1 = df[col11].quantile(0.25)\n",
    "Q3 = df[col11].quantile(0.75)\n",
    "IQR = Q3 - Q1\n",
    "df = df[~((df[col11] < (Q1 - 1.5 * IQR)) |(df[col11] > (Q3 + 1.5 * IQR))).any(axis=1)]\n",
    "\n",
    "col12=['Year_Birth']\n",
    "Q1 = df[col12].quantile(0.25)\n",
    "Q3 = df[col12].quantile(0.75)\n",
    "IQR = Q3 - Q1\n",
    "df = df[~((df[col12] < (Q1 - 1.5 * IQR)) |(df[col12] > (Q3 + 1.5 * IQR))).any(axis=1)]\n",
    "\n",
    "#источник:https://stackoverflow.com/questions/35827863/remove-outliers-in-pandas-dataframe-using-percentiles\n"
   ]
  },
  {
   "cell_type": "markdown",
   "id": "303bdeed",
   "metadata": {},
   "source": [
    "## Задание 3 (1 балл): новые признаки"
   ]
  },
  {
   "cell_type": "markdown",
   "id": "bb465340",
   "metadata": {},
   "source": [
    "Подумайте, какие осмысленные признаки можно создать из имеющихся? Придумайте как минимум 2 и добавьте их, содержательно описав, почему вы их добавляете и по какому принципу."
   ]
  },
  {
   "cell_type": "code",
   "execution_count": 292,
   "id": "43804ab7",
   "metadata": {},
   "outputs": [],
   "source": [
    "new_row1=df['MntWines']/df['Income'] #возможно среди покупателей много любителей вина, проверим сколько занимают траты на алкогольный напиток в сравнении с доходами клиентов в индексировнном виде\n",
    "df['Diogenes_index'] = new_row1 \n",
    "new_row2=df['NumWebPurchases']/df['NumWebVisitsMonth']*100 # проверим эффективность онлайн канала продаж с точки зрения трансформации лидов в клиентов, посчитам конверсию на сайте в %\n",
    "df['Web_Conversion']=new_row2\n"
   ]
  },
  {
   "cell_type": "markdown",
   "id": "7824ea50",
   "metadata": {},
   "source": [
    "## Задание 4 (2.5 балла): время статистики!"
   ]
  },
  {
   "cell_type": "markdown",
   "id": "816ac1bc",
   "metadata": {},
   "source": [
    "Рассчитайте все описательные статистики для категориальных переменных (есть специальный метод, который выводит все доступные статистики разом - это то, что нужно!). Опишите, какие выводы вы можете сделать из полученных данных."
   ]
  },
  {
   "cell_type": "markdown",
   "id": "d9f94a76",
   "metadata": {},
   "source": [
    "##### В опросе(сборе данных) участвовали люди из 8 стран, наиболее популярной из которых оказалась Испания, следовательно можно сделать вывод, что во время опроса покупателей-испанцев было больш других; также по уровню образвоования- наиболее частое-высшее, а семейное положение чаще всего соответствует графе 'женат/замужем'-озможно такие люди заказывают доставку чаще с целью... экономии времени на семью вместо готовки"
   ]
  },
  {
   "cell_type": "code",
   "execution_count": 293,
   "id": "dce51737",
   "metadata": {},
   "outputs": [
    {
     "data": {
      "text/html": [
       "<div>\n",
       "<style scoped>\n",
       "    .dataframe tbody tr th:only-of-type {\n",
       "        vertical-align: middle;\n",
       "    }\n",
       "\n",
       "    .dataframe tbody tr th {\n",
       "        vertical-align: top;\n",
       "    }\n",
       "\n",
       "    .dataframe thead th {\n",
       "        text-align: right;\n",
       "    }\n",
       "</style>\n",
       "<table border=\"1\" class=\"dataframe\">\n",
       "  <thead>\n",
       "    <tr style=\"text-align: right;\">\n",
       "      <th></th>\n",
       "      <th>Education</th>\n",
       "      <th>Marital_Status</th>\n",
       "      <th>Country</th>\n",
       "    </tr>\n",
       "  </thead>\n",
       "  <tbody>\n",
       "    <tr>\n",
       "      <th>count</th>\n",
       "      <td>1043</td>\n",
       "      <td>1043</td>\n",
       "      <td>1043</td>\n",
       "    </tr>\n",
       "    <tr>\n",
       "      <th>unique</th>\n",
       "      <td>5</td>\n",
       "      <td>6</td>\n",
       "      <td>7</td>\n",
       "    </tr>\n",
       "    <tr>\n",
       "      <th>top</th>\n",
       "      <td>Graduation</td>\n",
       "      <td>Married</td>\n",
       "      <td>SP</td>\n",
       "    </tr>\n",
       "    <tr>\n",
       "      <th>freq</th>\n",
       "      <td>500</td>\n",
       "      <td>406</td>\n",
       "      <td>525</td>\n",
       "    </tr>\n",
       "  </tbody>\n",
       "</table>\n",
       "</div>"
      ],
      "text/plain": [
       "         Education Marital_Status Country\n",
       "count         1043           1043    1043\n",
       "unique           5              6       7\n",
       "top     Graduation        Married      SP\n",
       "freq           500            406     525"
      ]
     },
     "execution_count": 293,
     "metadata": {},
     "output_type": "execute_result"
    }
   ],
   "source": [
    "# Ваш код и комментарий\n",
    "df.describe(include='object')"
   ]
  },
  {
   "cell_type": "markdown",
   "id": "2f767778",
   "metadata": {},
   "source": [
    "Рассчитайте все описательные статистики для количественных переменных.  (есть специальный метод, который выводит все доступные статистики разом - это то, что нужно!) Опишите, какие выводы вы можете сделать из полученных данных (хотя бы про какие-то 3 признака)."
   ]
  },
  {
   "cell_type": "markdown",
   "id": "2bbde3ae",
   "metadata": {},
   "source": [
    "#### самому молодому покупателю 26 лет, а самому зрелому - 75; минимальная зп=$7,5к, согласно WorldPopulationReview это примено как средняя годовая зп в России, по качественным характеристикам корзины,  наиболее разняюшиеся значения в категории мяса, продукты с ним либо покупают в большей доле, чем остальные категории, либо не покупают совсем(битва: веганы-мясоеды?)\n",
    "\n",
    "источник: https://worldpopulationreview.com/country-rankings/median-income-by-country"
   ]
  },
  {
   "cell_type": "code",
   "execution_count": 294,
   "id": "b11d3686",
   "metadata": {},
   "outputs": [
    {
     "data": {
      "text/html": [
       "<div>\n",
       "<style scoped>\n",
       "    .dataframe tbody tr th:only-of-type {\n",
       "        vertical-align: middle;\n",
       "    }\n",
       "\n",
       "    .dataframe tbody tr th {\n",
       "        vertical-align: top;\n",
       "    }\n",
       "\n",
       "    .dataframe thead th {\n",
       "        text-align: right;\n",
       "    }\n",
       "</style>\n",
       "<table border=\"1\" class=\"dataframe\">\n",
       "  <thead>\n",
       "    <tr style=\"text-align: right;\">\n",
       "      <th></th>\n",
       "      <th>ID</th>\n",
       "      <th>Year_Birth</th>\n",
       "      <th>Income</th>\n",
       "      <th>Kidhome</th>\n",
       "      <th>Teenhome</th>\n",
       "      <th>Recency</th>\n",
       "      <th>MntWines</th>\n",
       "      <th>MntFruits</th>\n",
       "      <th>MntMeatProducts</th>\n",
       "      <th>MntFishProducts</th>\n",
       "      <th>...</th>\n",
       "      <th>NumWebVisitsMonth</th>\n",
       "      <th>AcceptedCmp3</th>\n",
       "      <th>AcceptedCmp4</th>\n",
       "      <th>AcceptedCmp5</th>\n",
       "      <th>AcceptedCmp1</th>\n",
       "      <th>AcceptedCmp2</th>\n",
       "      <th>Response</th>\n",
       "      <th>Complain</th>\n",
       "      <th>Diogenes_index</th>\n",
       "      <th>Web_Conversion</th>\n",
       "    </tr>\n",
       "  </thead>\n",
       "  <tbody>\n",
       "    <tr>\n",
       "      <th>count</th>\n",
       "      <td>1043.000000</td>\n",
       "      <td>1043.000000</td>\n",
       "      <td>1043.00000</td>\n",
       "      <td>1043.000000</td>\n",
       "      <td>1043.000000</td>\n",
       "      <td>1043.000000</td>\n",
       "      <td>1043.000000</td>\n",
       "      <td>1043.000000</td>\n",
       "      <td>1043.000000</td>\n",
       "      <td>1043.000000</td>\n",
       "      <td>...</td>\n",
       "      <td>1043.000000</td>\n",
       "      <td>1043.000000</td>\n",
       "      <td>1043.000000</td>\n",
       "      <td>1043.000000</td>\n",
       "      <td>1043.000000</td>\n",
       "      <td>1043.000000</td>\n",
       "      <td>1043.000000</td>\n",
       "      <td>1043.000000</td>\n",
       "      <td>1043.000000</td>\n",
       "      <td>1043.000000</td>\n",
       "    </tr>\n",
       "    <tr>\n",
       "      <th>mean</th>\n",
       "      <td>5618.631831</td>\n",
       "      <td>1970.850431</td>\n",
       "      <td>35.86593</td>\n",
       "      <td>0.759348</td>\n",
       "      <td>0.500479</td>\n",
       "      <td>48.795781</td>\n",
       "      <td>57.642378</td>\n",
       "      <td>4.600192</td>\n",
       "      <td>24.568552</td>\n",
       "      <td>6.321189</td>\n",
       "      <td>...</td>\n",
       "      <td>6.348993</td>\n",
       "      <td>0.059444</td>\n",
       "      <td>0.023011</td>\n",
       "      <td>0.000959</td>\n",
       "      <td>0.003835</td>\n",
       "      <td>0.003835</td>\n",
       "      <td>0.087248</td>\n",
       "      <td>0.009588</td>\n",
       "      <td>1.317597</td>\n",
       "      <td>37.634152</td>\n",
       "    </tr>\n",
       "    <tr>\n",
       "      <th>std</th>\n",
       "      <td>3254.138441</td>\n",
       "      <td>10.982916</td>\n",
       "      <td>12.69176</td>\n",
       "      <td>0.505817</td>\n",
       "      <td>0.535451</td>\n",
       "      <td>29.203461</td>\n",
       "      <td>99.660458</td>\n",
       "      <td>6.580104</td>\n",
       "      <td>26.887657</td>\n",
       "      <td>7.724590</td>\n",
       "      <td>...</td>\n",
       "      <td>1.641872</td>\n",
       "      <td>0.236567</td>\n",
       "      <td>0.150009</td>\n",
       "      <td>0.030964</td>\n",
       "      <td>0.061839</td>\n",
       "      <td>0.061839</td>\n",
       "      <td>0.282334</td>\n",
       "      <td>0.097493</td>\n",
       "      <td>1.848811</td>\n",
       "      <td>28.264784</td>\n",
       "    </tr>\n",
       "    <tr>\n",
       "      <th>min</th>\n",
       "      <td>9.000000</td>\n",
       "      <td>1944.000000</td>\n",
       "      <td>7.50000</td>\n",
       "      <td>0.000000</td>\n",
       "      <td>0.000000</td>\n",
       "      <td>0.000000</td>\n",
       "      <td>0.000000</td>\n",
       "      <td>0.000000</td>\n",
       "      <td>0.000000</td>\n",
       "      <td>0.000000</td>\n",
       "      <td>...</td>\n",
       "      <td>1.000000</td>\n",
       "      <td>0.000000</td>\n",
       "      <td>0.000000</td>\n",
       "      <td>0.000000</td>\n",
       "      <td>0.000000</td>\n",
       "      <td>0.000000</td>\n",
       "      <td>0.000000</td>\n",
       "      <td>0.000000</td>\n",
       "      <td>0.000000</td>\n",
       "      <td>0.000000</td>\n",
       "    </tr>\n",
       "    <tr>\n",
       "      <th>25%</th>\n",
       "      <td>2788.500000</td>\n",
       "      <td>1963.000000</td>\n",
       "      <td>26.60900</td>\n",
       "      <td>0.000000</td>\n",
       "      <td>0.000000</td>\n",
       "      <td>24.000000</td>\n",
       "      <td>8.000000</td>\n",
       "      <td>0.000000</td>\n",
       "      <td>8.000000</td>\n",
       "      <td>0.000000</td>\n",
       "      <td>...</td>\n",
       "      <td>5.000000</td>\n",
       "      <td>0.000000</td>\n",
       "      <td>0.000000</td>\n",
       "      <td>0.000000</td>\n",
       "      <td>0.000000</td>\n",
       "      <td>0.000000</td>\n",
       "      <td>0.000000</td>\n",
       "      <td>0.000000</td>\n",
       "      <td>0.301155</td>\n",
       "      <td>16.666667</td>\n",
       "    </tr>\n",
       "    <tr>\n",
       "      <th>50%</th>\n",
       "      <td>5517.000000</td>\n",
       "      <td>1972.000000</td>\n",
       "      <td>35.54400</td>\n",
       "      <td>1.000000</td>\n",
       "      <td>0.000000</td>\n",
       "      <td>49.000000</td>\n",
       "      <td>23.000000</td>\n",
       "      <td>2.000000</td>\n",
       "      <td>15.000000</td>\n",
       "      <td>3.000000</td>\n",
       "      <td>...</td>\n",
       "      <td>7.000000</td>\n",
       "      <td>0.000000</td>\n",
       "      <td>0.000000</td>\n",
       "      <td>0.000000</td>\n",
       "      <td>0.000000</td>\n",
       "      <td>0.000000</td>\n",
       "      <td>0.000000</td>\n",
       "      <td>0.000000</td>\n",
       "      <td>0.672349</td>\n",
       "      <td>33.333333</td>\n",
       "    </tr>\n",
       "    <tr>\n",
       "      <th>75%</th>\n",
       "      <td>8415.000000</td>\n",
       "      <td>1978.000000</td>\n",
       "      <td>44.61850</td>\n",
       "      <td>1.000000</td>\n",
       "      <td>1.000000</td>\n",
       "      <td>75.000000</td>\n",
       "      <td>63.000000</td>\n",
       "      <td>6.000000</td>\n",
       "      <td>29.000000</td>\n",
       "      <td>10.000000</td>\n",
       "      <td>...</td>\n",
       "      <td>8.000000</td>\n",
       "      <td>0.000000</td>\n",
       "      <td>0.000000</td>\n",
       "      <td>0.000000</td>\n",
       "      <td>0.000000</td>\n",
       "      <td>0.000000</td>\n",
       "      <td>0.000000</td>\n",
       "      <td>0.000000</td>\n",
       "      <td>1.547540</td>\n",
       "      <td>50.000000</td>\n",
       "    </tr>\n",
       "    <tr>\n",
       "      <th>max</th>\n",
       "      <td>11191.000000</td>\n",
       "      <td>1996.000000</td>\n",
       "      <td>86.58000</td>\n",
       "      <td>2.000000</td>\n",
       "      <td>2.000000</td>\n",
       "      <td>99.000000</td>\n",
       "      <td>1103.000000</td>\n",
       "      <td>55.000000</td>\n",
       "      <td>257.000000</td>\n",
       "      <td>47.000000</td>\n",
       "      <td>...</td>\n",
       "      <td>10.000000</td>\n",
       "      <td>1.000000</td>\n",
       "      <td>1.000000</td>\n",
       "      <td>1.000000</td>\n",
       "      <td>1.000000</td>\n",
       "      <td>1.000000</td>\n",
       "      <td>1.000000</td>\n",
       "      <td>1.000000</td>\n",
       "      <td>19.977541</td>\n",
       "      <td>400.000000</td>\n",
       "    </tr>\n",
       "  </tbody>\n",
       "</table>\n",
       "<p>8 rows × 26 columns</p>\n",
       "</div>"
      ],
      "text/plain": [
       "                 ID   Year_Birth      Income      Kidhome     Teenhome  \\\n",
       "count   1043.000000  1043.000000  1043.00000  1043.000000  1043.000000   \n",
       "mean    5618.631831  1970.850431    35.86593     0.759348     0.500479   \n",
       "std     3254.138441    10.982916    12.69176     0.505817     0.535451   \n",
       "min        9.000000  1944.000000     7.50000     0.000000     0.000000   \n",
       "25%     2788.500000  1963.000000    26.60900     0.000000     0.000000   \n",
       "50%     5517.000000  1972.000000    35.54400     1.000000     0.000000   \n",
       "75%     8415.000000  1978.000000    44.61850     1.000000     1.000000   \n",
       "max    11191.000000  1996.000000    86.58000     2.000000     2.000000   \n",
       "\n",
       "           Recency     MntWines    MntFruits  MntMeatProducts  \\\n",
       "count  1043.000000  1043.000000  1043.000000      1043.000000   \n",
       "mean     48.795781    57.642378     4.600192        24.568552   \n",
       "std      29.203461    99.660458     6.580104        26.887657   \n",
       "min       0.000000     0.000000     0.000000         0.000000   \n",
       "25%      24.000000     8.000000     0.000000         8.000000   \n",
       "50%      49.000000    23.000000     2.000000        15.000000   \n",
       "75%      75.000000    63.000000     6.000000        29.000000   \n",
       "max      99.000000  1103.000000    55.000000       257.000000   \n",
       "\n",
       "       MntFishProducts  ...  NumWebVisitsMonth  AcceptedCmp3  AcceptedCmp4  \\\n",
       "count      1043.000000  ...        1043.000000   1043.000000   1043.000000   \n",
       "mean          6.321189  ...           6.348993      0.059444      0.023011   \n",
       "std           7.724590  ...           1.641872      0.236567      0.150009   \n",
       "min           0.000000  ...           1.000000      0.000000      0.000000   \n",
       "25%           0.000000  ...           5.000000      0.000000      0.000000   \n",
       "50%           3.000000  ...           7.000000      0.000000      0.000000   \n",
       "75%          10.000000  ...           8.000000      0.000000      0.000000   \n",
       "max          47.000000  ...          10.000000      1.000000      1.000000   \n",
       "\n",
       "       AcceptedCmp5  AcceptedCmp1  AcceptedCmp2     Response     Complain  \\\n",
       "count   1043.000000   1043.000000   1043.000000  1043.000000  1043.000000   \n",
       "mean       0.000959      0.003835      0.003835     0.087248     0.009588   \n",
       "std        0.030964      0.061839      0.061839     0.282334     0.097493   \n",
       "min        0.000000      0.000000      0.000000     0.000000     0.000000   \n",
       "25%        0.000000      0.000000      0.000000     0.000000     0.000000   \n",
       "50%        0.000000      0.000000      0.000000     0.000000     0.000000   \n",
       "75%        0.000000      0.000000      0.000000     0.000000     0.000000   \n",
       "max        1.000000      1.000000      1.000000     1.000000     1.000000   \n",
       "\n",
       "       Diogenes_index  Web_Conversion  \n",
       "count     1043.000000     1043.000000  \n",
       "mean         1.317597       37.634152  \n",
       "std          1.848811       28.264784  \n",
       "min          0.000000        0.000000  \n",
       "25%          0.301155       16.666667  \n",
       "50%          0.672349       33.333333  \n",
       "75%          1.547540       50.000000  \n",
       "max         19.977541      400.000000  \n",
       "\n",
       "[8 rows x 26 columns]"
      ]
     },
     "execution_count": 294,
     "metadata": {},
     "output_type": "execute_result"
    }
   ],
   "source": [
    "# Ваш код и комментарий\n",
    "df.describe(include='number')"
   ]
  },
  {
   "cell_type": "code",
   "execution_count": 295,
   "id": "5d3e3a60",
   "metadata": {},
   "outputs": [
    {
     "data": {
      "text/plain": [
       "count    1043.000000\n",
       "mean        2.225312\n",
       "std         1.365201\n",
       "min         0.000000\n",
       "25%         1.000000\n",
       "50%         2.000000\n",
       "75%         3.000000\n",
       "max         6.000000\n",
       "Name: NumWebPurchases, dtype: float64"
      ]
     },
     "execution_count": 295,
     "metadata": {},
     "output_type": "execute_result"
    }
   ],
   "source": [
    "df['NumStorePurchases'].describe()\n",
    "df['NumWebPurchases'].describe()\n",
    "# в офлайн магазине компании покупают чаще в среднем, чем через сайт\n",
    "# можно использовать данную информацию, при планировнии стимулирующих активностей для покупателей"
   ]
  },
  {
   "cell_type": "markdown",
   "id": "d164add7",
   "metadata": {},
   "source": [
    "Выберите 3 интересующих вас количественных признака и рассчитайте релевантные с вашей точки зрения описательные статистики для этих признаков, сгруппировав данные по семейному положению, образованию, стране. Какие закономерности вы можете отметить? Как их можно проинтерпретировать? "
   ]
  },
  {
   "cell_type": "markdown",
   "id": "d0f8cb19",
   "metadata": {},
   "source": [
    "#### По степени образования жалобы чаще других оставляют магистры(2nd cycle), а реже всех-закончившие основную школьную программу\n",
    "#### Больше всех вино любят доктора наук(PhD), а меньше всех- люди с базовым уровнем образования, что, вероятно, связано с их возрастом\n",
    "#### Магистры в среднем чаще совершают покупки на сайте, после них по частоте следуют доктора наук"
   ]
  },
  {
   "cell_type": "code",
   "execution_count": 296,
   "id": "3eedc95f",
   "metadata": {},
   "outputs": [
    {
     "data": {
      "text/html": [
       "<div>\n",
       "<style scoped>\n",
       "    .dataframe tbody tr th:only-of-type {\n",
       "        vertical-align: middle;\n",
       "    }\n",
       "\n",
       "    .dataframe tbody tr th {\n",
       "        vertical-align: top;\n",
       "    }\n",
       "\n",
       "    .dataframe thead tr th {\n",
       "        text-align: left;\n",
       "    }\n",
       "\n",
       "    .dataframe thead tr:last-of-type th {\n",
       "        text-align: right;\n",
       "    }\n",
       "</style>\n",
       "<table border=\"1\" class=\"dataframe\">\n",
       "  <thead>\n",
       "    <tr>\n",
       "      <th></th>\n",
       "      <th colspan=\"4\" halign=\"left\">Complain</th>\n",
       "      <th colspan=\"4\" halign=\"left\">MntWines</th>\n",
       "      <th colspan=\"4\" halign=\"left\">NumWebPurchases</th>\n",
       "    </tr>\n",
       "    <tr>\n",
       "      <th></th>\n",
       "      <th>mean</th>\n",
       "      <th>min</th>\n",
       "      <th>max</th>\n",
       "      <th>std</th>\n",
       "      <th>mean</th>\n",
       "      <th>min</th>\n",
       "      <th>max</th>\n",
       "      <th>std</th>\n",
       "      <th>mean</th>\n",
       "      <th>min</th>\n",
       "      <th>max</th>\n",
       "      <th>std</th>\n",
       "    </tr>\n",
       "    <tr>\n",
       "      <th>Education</th>\n",
       "      <th></th>\n",
       "      <th></th>\n",
       "      <th></th>\n",
       "      <th></th>\n",
       "      <th></th>\n",
       "      <th></th>\n",
       "      <th></th>\n",
       "      <th></th>\n",
       "      <th></th>\n",
       "      <th></th>\n",
       "      <th></th>\n",
       "      <th></th>\n",
       "    </tr>\n",
       "  </thead>\n",
       "  <tbody>\n",
       "    <tr>\n",
       "      <th>2n Cycle</th>\n",
       "      <td>0.019048</td>\n",
       "      <td>0</td>\n",
       "      <td>1</td>\n",
       "      <td>0.137348</td>\n",
       "      <td>27.238095</td>\n",
       "      <td>0</td>\n",
       "      <td>691</td>\n",
       "      <td>73.230868</td>\n",
       "      <td>1.828571</td>\n",
       "      <td>0</td>\n",
       "      <td>5</td>\n",
       "      <td>1.060272</td>\n",
       "    </tr>\n",
       "    <tr>\n",
       "      <th>Basic</th>\n",
       "      <td>0.000000</td>\n",
       "      <td>0</td>\n",
       "      <td>0</td>\n",
       "      <td>0.000000</td>\n",
       "      <td>2.632653</td>\n",
       "      <td>0</td>\n",
       "      <td>9</td>\n",
       "      <td>2.324631</td>\n",
       "      <td>1.591837</td>\n",
       "      <td>0</td>\n",
       "      <td>3</td>\n",
       "      <td>0.704698</td>\n",
       "    </tr>\n",
       "    <tr>\n",
       "      <th>Graduation</th>\n",
       "      <td>0.012000</td>\n",
       "      <td>0</td>\n",
       "      <td>1</td>\n",
       "      <td>0.108994</td>\n",
       "      <td>48.438000</td>\n",
       "      <td>0</td>\n",
       "      <td>538</td>\n",
       "      <td>73.149846</td>\n",
       "      <td>2.188000</td>\n",
       "      <td>0</td>\n",
       "      <td>6</td>\n",
       "      <td>1.331240</td>\n",
       "    </tr>\n",
       "    <tr>\n",
       "      <th>Master</th>\n",
       "      <td>0.005556</td>\n",
       "      <td>0</td>\n",
       "      <td>1</td>\n",
       "      <td>0.074536</td>\n",
       "      <td>70.988889</td>\n",
       "      <td>2</td>\n",
       "      <td>964</td>\n",
       "      <td>97.277636</td>\n",
       "      <td>2.483333</td>\n",
       "      <td>0</td>\n",
       "      <td>6</td>\n",
       "      <td>1.477863</td>\n",
       "    </tr>\n",
       "    <tr>\n",
       "      <th>PhD</th>\n",
       "      <td>0.004785</td>\n",
       "      <td>0</td>\n",
       "      <td>1</td>\n",
       "      <td>0.069171</td>\n",
       "      <td>96.339713</td>\n",
       "      <td>4</td>\n",
       "      <td>1103</td>\n",
       "      <td>151.826522</td>\n",
       "      <td>2.440191</td>\n",
       "      <td>0</td>\n",
       "      <td>6</td>\n",
       "      <td>1.499202</td>\n",
       "    </tr>\n",
       "  </tbody>\n",
       "</table>\n",
       "</div>"
      ],
      "text/plain": [
       "            Complain                     MntWines                        \\\n",
       "                mean min max       std       mean min   max         std   \n",
       "Education                                                                 \n",
       "2n Cycle    0.019048   0   1  0.137348  27.238095   0   691   73.230868   \n",
       "Basic       0.000000   0   0  0.000000   2.632653   0     9    2.324631   \n",
       "Graduation  0.012000   0   1  0.108994  48.438000   0   538   73.149846   \n",
       "Master      0.005556   0   1  0.074536  70.988889   2   964   97.277636   \n",
       "PhD         0.004785   0   1  0.069171  96.339713   4  1103  151.826522   \n",
       "\n",
       "           NumWebPurchases                    \n",
       "                      mean min max       std  \n",
       "Education                                     \n",
       "2n Cycle          1.828571   0   5  1.060272  \n",
       "Basic             1.591837   0   3  0.704698  \n",
       "Graduation        2.188000   0   6  1.331240  \n",
       "Master            2.483333   0   6  1.477863  \n",
       "PhD               2.440191   0   6  1.499202  "
      ]
     },
     "execution_count": 296,
     "metadata": {},
     "output_type": "execute_result"
    }
   ],
   "source": [
    "df_new = df.groupby(by=['Education'])[['Complain','MntWines','NumWebPurchases']].agg(['mean','min','max','std'])\n",
    "df_new\n"
   ]
  },
  {
   "cell_type": "markdown",
   "id": "e8963981",
   "metadata": {},
   "source": [
    "#### Разведенные люди в среднем чаще других оставляли жалобы, а одинокие покупатели и вдовцы не жаловались за 2 года вовсе\n",
    "#### Как свободные, так и люди в отношениях тратили на вино в среднем примерно одинаково и больше остальных, а Alone(одинокие) меньше всех\n",
    "#### Онлайн-каналом продаж чаще пользуются одинокие, в то время как вдовцы используют его реже всех"
   ]
  },
  {
   "cell_type": "code",
   "execution_count": 297,
   "id": "c167f4d6",
   "metadata": {},
   "outputs": [
    {
     "data": {
      "text/html": [
       "<div>\n",
       "<style scoped>\n",
       "    .dataframe tbody tr th:only-of-type {\n",
       "        vertical-align: middle;\n",
       "    }\n",
       "\n",
       "    .dataframe tbody tr th {\n",
       "        vertical-align: top;\n",
       "    }\n",
       "\n",
       "    .dataframe thead tr th {\n",
       "        text-align: left;\n",
       "    }\n",
       "\n",
       "    .dataframe thead tr:last-of-type th {\n",
       "        text-align: right;\n",
       "    }\n",
       "</style>\n",
       "<table border=\"1\" class=\"dataframe\">\n",
       "  <thead>\n",
       "    <tr>\n",
       "      <th></th>\n",
       "      <th colspan=\"4\" halign=\"left\">Complain</th>\n",
       "      <th colspan=\"4\" halign=\"left\">MntWines</th>\n",
       "      <th colspan=\"4\" halign=\"left\">NumWebPurchases</th>\n",
       "    </tr>\n",
       "    <tr>\n",
       "      <th></th>\n",
       "      <th>mean</th>\n",
       "      <th>min</th>\n",
       "      <th>max</th>\n",
       "      <th>std</th>\n",
       "      <th>mean</th>\n",
       "      <th>min</th>\n",
       "      <th>max</th>\n",
       "      <th>std</th>\n",
       "      <th>mean</th>\n",
       "      <th>min</th>\n",
       "      <th>max</th>\n",
       "      <th>std</th>\n",
       "    </tr>\n",
       "    <tr>\n",
       "      <th>Marital_Status</th>\n",
       "      <th></th>\n",
       "      <th></th>\n",
       "      <th></th>\n",
       "      <th></th>\n",
       "      <th></th>\n",
       "      <th></th>\n",
       "      <th></th>\n",
       "      <th></th>\n",
       "      <th></th>\n",
       "      <th></th>\n",
       "      <th></th>\n",
       "      <th></th>\n",
       "    </tr>\n",
       "  </thead>\n",
       "  <tbody>\n",
       "    <tr>\n",
       "      <th>Alone</th>\n",
       "      <td>0.000000</td>\n",
       "      <td>0</td>\n",
       "      <td>0</td>\n",
       "      <td>0.000000</td>\n",
       "      <td>10.000000</td>\n",
       "      <td>5</td>\n",
       "      <td>15</td>\n",
       "      <td>7.071068</td>\n",
       "      <td>2.000000</td>\n",
       "      <td>1</td>\n",
       "      <td>3</td>\n",
       "      <td>1.414214</td>\n",
       "    </tr>\n",
       "    <tr>\n",
       "      <th>Divorced</th>\n",
       "      <td>0.009434</td>\n",
       "      <td>0</td>\n",
       "      <td>1</td>\n",
       "      <td>0.097129</td>\n",
       "      <td>58.594340</td>\n",
       "      <td>0</td>\n",
       "      <td>691</td>\n",
       "      <td>88.497272</td>\n",
       "      <td>2.254717</td>\n",
       "      <td>0</td>\n",
       "      <td>6</td>\n",
       "      <td>1.428028</td>\n",
       "    </tr>\n",
       "    <tr>\n",
       "      <th>Married</th>\n",
       "      <td>0.009852</td>\n",
       "      <td>0</td>\n",
       "      <td>1</td>\n",
       "      <td>0.098890</td>\n",
       "      <td>61.967980</td>\n",
       "      <td>0</td>\n",
       "      <td>1103</td>\n",
       "      <td>119.405922</td>\n",
       "      <td>2.224138</td>\n",
       "      <td>0</td>\n",
       "      <td>6</td>\n",
       "      <td>1.315251</td>\n",
       "    </tr>\n",
       "    <tr>\n",
       "      <th>Single</th>\n",
       "      <td>0.013158</td>\n",
       "      <td>0</td>\n",
       "      <td>1</td>\n",
       "      <td>0.114201</td>\n",
       "      <td>44.692982</td>\n",
       "      <td>0</td>\n",
       "      <td>502</td>\n",
       "      <td>70.274870</td>\n",
       "      <td>2.118421</td>\n",
       "      <td>0</td>\n",
       "      <td>6</td>\n",
       "      <td>1.283241</td>\n",
       "    </tr>\n",
       "    <tr>\n",
       "      <th>Together</th>\n",
       "      <td>0.007273</td>\n",
       "      <td>0</td>\n",
       "      <td>1</td>\n",
       "      <td>0.085125</td>\n",
       "      <td>59.916364</td>\n",
       "      <td>0</td>\n",
       "      <td>896</td>\n",
       "      <td>90.652643</td>\n",
       "      <td>2.298182</td>\n",
       "      <td>0</td>\n",
       "      <td>6</td>\n",
       "      <td>1.469333</td>\n",
       "    </tr>\n",
       "    <tr>\n",
       "      <th>Widow</th>\n",
       "      <td>0.000000</td>\n",
       "      <td>0</td>\n",
       "      <td>0</td>\n",
       "      <td>0.000000</td>\n",
       "      <td>79.384615</td>\n",
       "      <td>1</td>\n",
       "      <td>512</td>\n",
       "      <td>112.363723</td>\n",
       "      <td>2.307692</td>\n",
       "      <td>0</td>\n",
       "      <td>6</td>\n",
       "      <td>1.490483</td>\n",
       "    </tr>\n",
       "  </tbody>\n",
       "</table>\n",
       "</div>"
      ],
      "text/plain": [
       "                Complain                     MntWines                        \\\n",
       "                    mean min max       std       mean min   max         std   \n",
       "Marital_Status                                                                \n",
       "Alone           0.000000   0   0  0.000000  10.000000   5    15    7.071068   \n",
       "Divorced        0.009434   0   1  0.097129  58.594340   0   691   88.497272   \n",
       "Married         0.009852   0   1  0.098890  61.967980   0  1103  119.405922   \n",
       "Single          0.013158   0   1  0.114201  44.692982   0   502   70.274870   \n",
       "Together        0.007273   0   1  0.085125  59.916364   0   896   90.652643   \n",
       "Widow           0.000000   0   0  0.000000  79.384615   1   512  112.363723   \n",
       "\n",
       "               NumWebPurchases                    \n",
       "                          mean min max       std  \n",
       "Marital_Status                                    \n",
       "Alone                 2.000000   1   3  1.414214  \n",
       "Divorced              2.254717   0   6  1.428028  \n",
       "Married               2.224138   0   6  1.315251  \n",
       "Single                2.118421   0   6  1.283241  \n",
       "Together              2.298182   0   6  1.469333  \n",
       "Widow                 2.307692   0   6  1.490483  "
      ]
     },
     "execution_count": 297,
     "metadata": {},
     "output_type": "execute_result"
    }
   ],
   "source": [
    "df_new = df.groupby(by=['Marital_Status'])[['Complain','MntWines','NumWebPurchases']].agg(['mean','min','max','std'])\n",
    "df_new\n"
   ]
  },
  {
   "cell_type": "markdown",
   "id": "ce3739bd",
   "metadata": {},
   "source": [
    "#### В среднем на жителей SA- Южной Африки приходится больше жалоб, чем на представителей других стран, а австралийцы не жаловались в принципе\n",
    "#### В США трятят на вино больше, чем в других странах, немного опережая Канаду, при этом наиболее экономными в данной категории являются жители Германии(может быть они предпочитают пиво?)\n",
    "#### В США и Индии онлайн-заказы распространены больше, чем в других странах, а в Австралии-наименее популярны"
   ]
  },
  {
   "cell_type": "code",
   "execution_count": 298,
   "id": "443a02ef",
   "metadata": {},
   "outputs": [
    {
     "data": {
      "text/html": [
       "<div>\n",
       "<style scoped>\n",
       "    .dataframe tbody tr th:only-of-type {\n",
       "        vertical-align: middle;\n",
       "    }\n",
       "\n",
       "    .dataframe tbody tr th {\n",
       "        vertical-align: top;\n",
       "    }\n",
       "\n",
       "    .dataframe thead tr th {\n",
       "        text-align: left;\n",
       "    }\n",
       "\n",
       "    .dataframe thead tr:last-of-type th {\n",
       "        text-align: right;\n",
       "    }\n",
       "</style>\n",
       "<table border=\"1\" class=\"dataframe\">\n",
       "  <thead>\n",
       "    <tr>\n",
       "      <th></th>\n",
       "      <th colspan=\"4\" halign=\"left\">Complain</th>\n",
       "      <th colspan=\"4\" halign=\"left\">MntWines</th>\n",
       "      <th colspan=\"4\" halign=\"left\">NumWebPurchases</th>\n",
       "    </tr>\n",
       "    <tr>\n",
       "      <th></th>\n",
       "      <th>mean</th>\n",
       "      <th>min</th>\n",
       "      <th>max</th>\n",
       "      <th>std</th>\n",
       "      <th>mean</th>\n",
       "      <th>min</th>\n",
       "      <th>max</th>\n",
       "      <th>std</th>\n",
       "      <th>mean</th>\n",
       "      <th>min</th>\n",
       "      <th>max</th>\n",
       "      <th>std</th>\n",
       "    </tr>\n",
       "    <tr>\n",
       "      <th>Country</th>\n",
       "      <th></th>\n",
       "      <th></th>\n",
       "      <th></th>\n",
       "      <th></th>\n",
       "      <th></th>\n",
       "      <th></th>\n",
       "      <th></th>\n",
       "      <th></th>\n",
       "      <th></th>\n",
       "      <th></th>\n",
       "      <th></th>\n",
       "      <th></th>\n",
       "    </tr>\n",
       "  </thead>\n",
       "  <tbody>\n",
       "    <tr>\n",
       "      <th>AUS</th>\n",
       "      <td>0.000000</td>\n",
       "      <td>0</td>\n",
       "      <td>0</td>\n",
       "      <td>0.000000</td>\n",
       "      <td>50.164557</td>\n",
       "      <td>0</td>\n",
       "      <td>452</td>\n",
       "      <td>80.658258</td>\n",
       "      <td>2.189873</td>\n",
       "      <td>0</td>\n",
       "      <td>6</td>\n",
       "      <td>1.359449</td>\n",
       "    </tr>\n",
       "    <tr>\n",
       "      <th>CA</th>\n",
       "      <td>0.008929</td>\n",
       "      <td>0</td>\n",
       "      <td>1</td>\n",
       "      <td>0.094491</td>\n",
       "      <td>49.080357</td>\n",
       "      <td>0</td>\n",
       "      <td>896</td>\n",
       "      <td>99.391222</td>\n",
       "      <td>2.071429</td>\n",
       "      <td>0</td>\n",
       "      <td>6</td>\n",
       "      <td>1.313233</td>\n",
       "    </tr>\n",
       "    <tr>\n",
       "      <th>GER</th>\n",
       "      <td>0.017544</td>\n",
       "      <td>0</td>\n",
       "      <td>1</td>\n",
       "      <td>0.132453</td>\n",
       "      <td>48.754386</td>\n",
       "      <td>0</td>\n",
       "      <td>350</td>\n",
       "      <td>77.190460</td>\n",
       "      <td>2.052632</td>\n",
       "      <td>0</td>\n",
       "      <td>6</td>\n",
       "      <td>1.301387</td>\n",
       "    </tr>\n",
       "    <tr>\n",
       "      <th>IND</th>\n",
       "      <td>0.000000</td>\n",
       "      <td>0</td>\n",
       "      <td>0</td>\n",
       "      <td>0.000000</td>\n",
       "      <td>47.351351</td>\n",
       "      <td>0</td>\n",
       "      <td>275</td>\n",
       "      <td>64.473300</td>\n",
       "      <td>2.270270</td>\n",
       "      <td>0</td>\n",
       "      <td>6</td>\n",
       "      <td>1.377881</td>\n",
       "    </tr>\n",
       "    <tr>\n",
       "      <th>SA</th>\n",
       "      <td>0.019737</td>\n",
       "      <td>0</td>\n",
       "      <td>1</td>\n",
       "      <td>0.139554</td>\n",
       "      <td>52.519737</td>\n",
       "      <td>0</td>\n",
       "      <td>298</td>\n",
       "      <td>66.568788</td>\n",
       "      <td>2.381579</td>\n",
       "      <td>0</td>\n",
       "      <td>6</td>\n",
       "      <td>1.346736</td>\n",
       "    </tr>\n",
       "    <tr>\n",
       "      <th>SP</th>\n",
       "      <td>0.009524</td>\n",
       "      <td>0</td>\n",
       "      <td>1</td>\n",
       "      <td>0.097217</td>\n",
       "      <td>62.674286</td>\n",
       "      <td>0</td>\n",
       "      <td>1103</td>\n",
       "      <td>113.278244</td>\n",
       "      <td>2.200000</td>\n",
       "      <td>0</td>\n",
       "      <td>6</td>\n",
       "      <td>1.392455</td>\n",
       "    </tr>\n",
       "    <tr>\n",
       "      <th>US</th>\n",
       "      <td>0.000000</td>\n",
       "      <td>0</td>\n",
       "      <td>0</td>\n",
       "      <td>0.000000</td>\n",
       "      <td>79.340909</td>\n",
       "      <td>2</td>\n",
       "      <td>691</td>\n",
       "      <td>123.157480</td>\n",
       "      <td>2.590909</td>\n",
       "      <td>1</td>\n",
       "      <td>6</td>\n",
       "      <td>1.263406</td>\n",
       "    </tr>\n",
       "  </tbody>\n",
       "</table>\n",
       "</div>"
      ],
      "text/plain": [
       "         Complain                     MntWines                        \\\n",
       "             mean min max       std       mean min   max         std   \n",
       "Country                                                                \n",
       "AUS      0.000000   0   0  0.000000  50.164557   0   452   80.658258   \n",
       "CA       0.008929   0   1  0.094491  49.080357   0   896   99.391222   \n",
       "GER      0.017544   0   1  0.132453  48.754386   0   350   77.190460   \n",
       "IND      0.000000   0   0  0.000000  47.351351   0   275   64.473300   \n",
       "SA       0.019737   0   1  0.139554  52.519737   0   298   66.568788   \n",
       "SP       0.009524   0   1  0.097217  62.674286   0  1103  113.278244   \n",
       "US       0.000000   0   0  0.000000  79.340909   2   691  123.157480   \n",
       "\n",
       "        NumWebPurchases                    \n",
       "                   mean min max       std  \n",
       "Country                                    \n",
       "AUS            2.189873   0   6  1.359449  \n",
       "CA             2.071429   0   6  1.313233  \n",
       "GER            2.052632   0   6  1.301387  \n",
       "IND            2.270270   0   6  1.377881  \n",
       "SA             2.381579   0   6  1.346736  \n",
       "SP             2.200000   0   6  1.392455  \n",
       "US             2.590909   1   6  1.263406  "
      ]
     },
     "execution_count": 298,
     "metadata": {},
     "output_type": "execute_result"
    }
   ],
   "source": [
    "df_new = df.groupby(by=['Country'])[['Complain','MntWines','NumWebPurchases']].agg(['mean','min','max','std'])\n",
    "df_new"
   ]
  },
  {
   "cell_type": "markdown",
   "id": "c8f30646",
   "metadata": {},
   "source": [
    "## Задание 6 (1 балл): корреляции"
   ]
  },
  {
   "cell_type": "markdown",
   "id": "d5e4be43",
   "metadata": {},
   "source": [
    "Найдите три самых сильных линейных взаимосвязи.Опишите, между какими признаками вы их нашли и содержательно проинтерпретируйте, почему (с вашей точки зрения) эти показатели связаны. \n",
    "\n",
    "_важно: необходимо вывести именно с помощью кода 3 пары самых сильно скоррелированных признака, а не искать их глазами в матрице корреляций_"
   ]
  },
  {
   "cell_type": "code",
   "execution_count": 299,
   "id": "cce7e11e",
   "metadata": {},
   "outputs": [
    {
     "data": {
      "text/plain": [
       "Year_Birth  Teenhome            -0.606665\n",
       "            Income              -0.363708\n",
       "Income      NumWebVisitsMonth   -0.345665\n",
       "dtype: float64"
      ]
     },
     "execution_count": 299,
     "metadata": {},
     "output_type": "execute_result"
    }
   ],
   "source": [
    "df.corr(method='spearman').unstack().sort_values().drop_duplicates() #используем Спирмена тк имеем дело с непараметрическим методом\n",
    "# https://stackoverflow.com/questions/17778394/list-highest-correlation-pairs-from-a-large-correlation-matrix-in-pandas"
   ]
  },
  {
   "cell_type": "markdown",
   "id": "e62cbecb",
   "metadata": {},
   "source": [
    "#### итак, наиболее сильные взаимосвязи мы получили между: 1) годом рождения и наличием детей-подростков в семье, имеет сильную(больше 0,5) отрицательную корреляцию, что говорит об отрицательной взаимозависимости- меньшем количестве подростков в семье при бОльшем возрасте\n",
    "#### следующим 2) наибольшим показателем является средняя отрицательная корелляция между годом рождения и доходом, то есть чем меньше год рождения тем больше доход\n",
    "\n",
    "#### наконец, последним 3) среди наибольших является отрицательная средняя корреляция между визитом на сайт и заработной платой, следовательно, при большем уровне зп, уменьшается число онлайн-посещений, возможно это связано с тем, что в сравнении с офлайн, на сайте компании чаще можно найти специальные предожения и скидки\n"
   ]
  },
  {
   "cell_type": "markdown",
   "id": "6533d54b",
   "metadata": {},
   "source": [
    "## Задание 7 (2 балла) : визуализации"
   ]
  },
  {
   "cell_type": "markdown",
   "id": "0212ace5",
   "metadata": {},
   "source": [
    "Придумайте и постройте как минимум 6 содержательных визуализаций, которые будут иллюстрировать те или иные выводы, которые вы сделали на основе данных. К каждой визуализации должна прилагаться содержательная текстовая интерпретация. Каждая визуализация должна быть грамотно оформлена, с соблюдением всем правил. Необходимо задействовать не менее 4 типов диаграмм. "
   ]
  },
  {
   "cell_type": "markdown",
   "id": "3e7b9c29",
   "metadata": {},
   "source": [
    "#### источник: https://colab.research.google.com/drive/1uOrXWSzJmDFJ8w903RWZ4aV5MmSeJ6MW#scrollTo=6bcb3d0f"
   ]
  },
  {
   "cell_type": "code",
   "execution_count": 281,
   "id": "c5743cf1",
   "metadata": {},
   "outputs": [
    {
     "data": {
      "text/plain": [
       "[<matplotlib.lines.Line2D at 0x7ffdf589de80>]"
      ]
     },
     "execution_count": 281,
     "metadata": {},
     "output_type": "execute_result"
    },
    {
     "data": {
      "image/png": "[encoded data removed]",
      "text/plain": [
       "<Figure size 432x288 with 1 Axes>"
      ]
     },
     "metadata": {
      "needs_background": "light"
     },
     "output_type": "display_data"
    }
   ],
   "source": [
    "import matplotlib.pyplot as plt\n",
    "import seaborn as sns\n",
    "\n",
    "graph = df.groupby('Year_Birth').MntSweetProducts.sum()\n",
    "plt.xlabel('Year_Birth')\n",
    "plt.ylabel('MntSweetProducts')\n",
    "plt.plot(graph.index, graph.values, color='m')\n"
   ]
  },
  {
   "cell_type": "markdown",
   "id": "e4616760",
   "metadata": {},
   "source": [
    "#### Больше всего тратят на сладкое люди родившиеся в период 1970-1980гг- поколение х , особенно конец 70-х годов"
   ]
  },
  {
   "cell_type": "code",
   "execution_count": 203,
   "id": "444c91a4",
   "metadata": {},
   "outputs": [
    {
     "data": {
      "image/png": "[encoded data removed]",
      "text/plain": [
       "<Figure size 432x288 with 1 Axes>"
      ]
     },
     "metadata": {
      "needs_background": "light"
     },
     "output_type": "display_data"
    }
   ],
   "source": [
    "plt.hist(df['Year_Birth'],label='Year_Birth', bins=10)\n",
    "plt.title('Birth Year histogram')\n",
    "plt.legend(title='')\n",
    "plt.show()\n"
   ]
  },
  {
   "cell_type": "markdown",
   "id": "b3029d51",
   "metadata": {},
   "source": [
    "####  При этом больше всего покупателей родителось также в период с 1970-1980, следовательно средний возраст составляет приблизительно от 42 до 52 лет, в таком случае в предыдущем графике следует также обратить внимание на рожденных в 90-е"
   ]
  },
  {
   "cell_type": "code",
   "execution_count": 256,
   "id": "c64ad1eb",
   "metadata": {},
   "outputs": [
    {
     "data": {
      "text/plain": [
       "<matplotlib.legend.Legend at 0x7ffdf34b7610>"
      ]
     },
     "execution_count": 256,
     "metadata": {},
     "output_type": "execute_result"
    },
    {
     "data": {
      "image/png": "[encoded data removed]",
      "text/plain": [
       "<Figure size 432x288 with 1 Axes>"
      ]
     },
     "metadata": {
      "needs_background": "light"
     },
     "output_type": "display_data"
    }
   ],
   "source": [
    "fig, ax = plt.subplots() \n",
    "ax.scatter(df['NumWebPurchases'], df['NumDealsPurchases'],s = df['Income'], c = df['NumDealsPurchases'], alpha = 0.5, linewidth = 0)\n",
    "ax.set_xlabel('NumWebPurchases', fontsize = 10)\n",
    "ax.set_ylabel('NumDealsPurchases', fontsize = 10)\n",
    "plt.title('Scatter Chart Deals over Web Purchases')\n",
    "plt.legend(['Income'])"
   ]
  },
  {
   "cell_type": "markdown",
   "id": "68c099dd",
   "metadata": {},
   "source": [
    "##### Зависимость числа заказов на сайте от акционных заказов, размер кружов которых проиллюстрирован по доходам, видим, что при разовых покупках на сайте акции почти не используются, тогда как при частых - почти все время"
   ]
  },
  {
   "cell_type": "code",
   "execution_count": 248,
   "id": "2f88f638",
   "metadata": {},
   "outputs": [
    {
     "data": {
      "text/plain": [
       "[<matplotlib.lines.Line2D at 0x7ffdf2d78a60>]"
      ]
     },
     "execution_count": 248,
     "metadata": {},
     "output_type": "execute_result"
    },
    {
     "data": {
      "image/png": "[encoded data removed]",
      "text/plain": [
       "<Figure size 432x288 with 1 Axes>"
      ]
     },
     "metadata": {
      "needs_background": "light"
     },
     "output_type": "display_data"
    }
   ],
   "source": [
    "graph = df.groupby('Web_Conversion').NumWebVisitsMonth.sum()\n",
    "plt.xlabel('WebConversion')\n",
    "plt.ylabel('NumWebVisitsMonth')\n",
    "#семинар 3\n",
    "plt.title('Web Conversion Dynamics')\n",
    "plt.plot(graph.index, graph.values)\n"
   ]
  },
  {
   "cell_type": "markdown",
   "id": "6b1a4955",
   "metadata": {},
   "source": [
    "#### из графика видно, что из числа превращений потенциальных покупателей в реальных динамика в основном убывающая- то есть пр меньших посещениях сайта больше конверсия на нем"
   ]
  },
  {
   "cell_type": "code",
   "execution_count": 249,
   "id": "e72e495a",
   "metadata": {},
   "outputs": [
    {
     "data": {
      "text/plain": [
       "<AxesSubplot:title={'center':'Meat Products Popularity over Gold Products'}, ylabel='MntMeatProducts'>"
      ]
     },
     "execution_count": 249,
     "metadata": {},
     "output_type": "execute_result"
    },
    {
     "data": {
      "image/png": "[encoded data removed]",
      "text/plain": [
       "<Figure size 432x288 with 1 Axes>"
      ]
     },
     "metadata": {
      "needs_background": "light"
     },
     "output_type": "display_data"
    }
   ],
   "source": [
    "x = df.groupby('MntMeatProducts')['MntGoldProds'].mean().sort_values().tail(15)\n",
    "plt.title('Meat Products Popularity over Gold Products')\n",
    "x.plot(kind='barh', color='goldenrod')"
   ]
  },
  {
   "cell_type": "markdown",
   "id": "02d73e88",
   "metadata": {},
   "source": [
    "#### Источник: https://mode.com/example-gallery/python_horizontal_bar/\n",
    "#### Видим что из фирменных(золотых) продуктов большую долю составляют категории с мясом, больше всего на продукты с мясом в составе тратили те, кто покупает больше \"золотых\" блюд"
   ]
  },
  {
   "cell_type": "code",
   "execution_count": 275,
   "id": "39ec45d6",
   "metadata": {},
   "outputs": [
    {
     "data": {
      "text/plain": [
       "Text(0.5, 1.0, 'Acceptance_3rdCampaign')"
      ]
     },
     "execution_count": 275,
     "metadata": {},
     "output_type": "execute_result"
    },
    {
     "data": {
      "image/png": "[encoded data removed]",
      "text/plain": [
       "<Figure size 432x288 with 1 Axes>"
      ]
     },
     "metadata": {},
     "output_type": "display_data"
    },
    {
     "data": {
      "image/png": "[encoded data removed]",
      "text/plain": [
       "<Figure size 432x288 with 1 Axes>"
      ]
     },
     "metadata": {},
     "output_type": "display_data"
    },
    {
     "data": {
      "image/png": "[encoded data removed]",
      "text/plain": [
       "<Figure size 432x288 with 1 Axes>"
      ]
     },
     "metadata": {},
     "output_type": "display_data"
    }
   ],
   "source": [
    "df.groupby(['Response']).sum().plot(kind='pie', y='AcceptedCmp1')\n",
    "plt.legend([\"AcceptedCmp1\", \"Response\"])\n",
    "plt.title('Acceptance_1stCampaign')\n",
    "\n",
    "df.groupby(['Response']).sum().plot(kind='pie', y='AcceptedCmp2')\n",
    "plt.legend([\"Respose\", \"AcceptedCmp2\"])\n",
    "plt.title('Acceptance_2rdCampaign')\n",
    "\n",
    "df.groupby(['Response']).sum().plot(kind='pie', y='AcceptedCmp3')\n",
    "plt.legend([\"Respose\", \"AcceptedCmp3\"])\n",
    "plt.title('Acceptance_3rdCampaign')"
   ]
  },
  {
   "cell_type": "markdown",
   "id": "d90063e7",
   "metadata": {},
   "source": [
    "#### Видим, что во время проведения рекламной кампании, наибольшее внимание клиентов привлекла первая, вторая оказалась вовсе непопулярной, а в третьей цифры принятия/непринятия предложения кампании почти сравненялись"
   ]
  },
  {
   "cell_type": "markdown",
   "id": "aa0b89fa",
   "metadata": {},
   "source": [
    "## Задание 8 (1 балл): немного исследований"
   ]
  },
  {
   "cell_type": "markdown",
   "id": "8a1a7c59",
   "metadata": {},
   "source": [
    "Попробуйте найти в данных какую-то классную интересную особенность. Может быть, рыбу едят только неженатые? Или самый большой заработок и потребление фруктов у людей без образования? Приведите все расчеты, и визуализации для обнаруженного факта. Он должен быть правда интересным и удивлять! Попробуйте описать, почему (как вам кажется) так получилось."
   ]
  },
  {
   "cell_type": "markdown",
   "id": "be65cb12",
   "metadata": {},
   "source": [
    "#### Из матрицы ниже видно, что наибольшая корреляция с параметром трат на сладости существует между подростками в семье и трат на сладости, \n",
    "#### Отрицательная кореляция свидетельствует следующее: большие затраты на сладости говорят о меньшем количестве подростков в семье, что противоречит стереотипному мнению, при этом взаимосвязь между тратами на сладкие продукты и количетвом детей в семье корреляция еще незначительнее.  Возможно, sweet tongue все же скорее взрослые :)"
   ]
  },
  {
   "cell_type": "code",
   "execution_count": 182,
   "id": "11fb2972",
   "metadata": {},
   "outputs": [
    {
     "data": {
      "text/plain": [
       "<AxesSubplot:>"
      ]
     },
     "execution_count": 182,
     "metadata": {},
     "output_type": "execute_result"
    },
    {
     "data": {
      "image/png": "[encoded data removed]",
      "text/plain": [
       "<Figure size 1080x576 with 2 Axes>"
      ]
     },
     "metadata": {
      "needs_background": "light"
     },
     "output_type": "display_data"
    }
   ],
   "source": [
    "import numpy as np\n",
    "import seaborn as sns\n",
    "plt.figure(figsize = (15,8))\n",
    "sns.heatmap(df.corr())\n",
    "#посмотрим также графически "
   ]
  }
 ],
 "metadata": {
  "kernelspec": {
   "display_name": "Python 3 (ipykernel)",
   "language": "python",
   "name": "python3"
  },
  "language_info": {
   "codemirror_mode": {
    "name": "ipython",
    "version": 3
   },
   "file_extension": ".py",
   "mimetype": "text/x-python",
   "name": "python",
   "nbconvert_exporter": "python",
   "pygments_lexer": "ipython3",
   "version": "3.9.7"
  }
 },
 "nbformat": 4,
 "nbformat_minor": 5
}
