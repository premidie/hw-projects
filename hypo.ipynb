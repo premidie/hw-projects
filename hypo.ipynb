{
 "cells": [
  {
   "cell_type": "markdown",
   "id": "4c5300b0",
   "metadata": {
    "id": "4c5300b0"
   },
   "source": [
    "# Дз 3. Тестирование статистических гипотез"
   ]
  },
  {
   "cell_type": "markdown",
   "id": "e41ea851",
   "metadata": {
    "id": "e41ea851"
   },
   "source": [
    "<div class=\"alert alert-info\" role=\"alert\">\n",
    "\n",
    "Важно!\n",
    "\n",
    "* Плагиат карается обнулением работы\n",
    "* При использовании чужого кода из открытых источников необходимо указать ссылку на источник\n",
    "* В каждой задаче необходимо обосновывать выбор статистического критерия, формулировать нулевую и альтернативную гипотезу и делать интерпретацию получившихся результатов, а также содержательный вывод.\n",
    "* Весь текст оформляется строго в ячейках типа markdown"
   ]
  },
  {
   "cell_type": "markdown",
   "id": "e463f5b5",
   "metadata": {
    "id": "e463f5b5"
   },
   "source": [
    "## Задача 1. Осьминог Пауль (2 балла)\n",
    "\n",
    "\n",
    "В период с 2008 по 2010 год в Германии жил Осьминог Пауль, который был известен тем, что мог предсказывать результаты матчей с участием сборной Германии.     \n",
    "   \n",
    "В таблице ниже вы можете видеть результаты его предсказаний: \n"
   ]
  },
  {
   "cell_type": "markdown",
   "id": "63504b80",
   "metadata": {
    "id": "63504b80"
   },
   "source": [
    "<a href=\"https://ibb.co/VWnc5yG\"><img src=\"https://i.ibb.co/QFS3tBV/image.jpg\" alt=\"image\" border=\"0\"></a>"
   ]
  },
  {
   "cell_type": "markdown",
   "id": "346f6376",
   "metadata": {
    "id": "346f6376"
   },
   "source": [
    "Если считать, что случайным образом мы угадывали ли бы 50% матчей, то можно ли утверждать, что осьминог Пауль был талантливым экстрасенсом со способностями к предсказаниям?"
   ]
  },
  {
   "cell_type": "code",
   "execution_count": 5,
   "id": "c90520e3",
   "metadata": {},
   "outputs": [],
   "source": [
    "import numpy as np\n",
    "import pandas as pd\n",
    "from scipy import stats\n",
    "import scipy"
   ]
  },
  {
   "cell_type": "markdown",
   "id": "71b27c91",
   "metadata": {},
   "source": [
    "Итак, чтобы проверить способности Пауля, предположим, что он угадывает исход случайным образом, то есть с вероятностью 0.5, тогда:\n",
    "\n",
    "H0: Пауль угадывает случайным образом, p=1/2\n",
    "\n",
    "H1: У Пауля есть способности к предсказанию, p>1/2\n",
    "\n",
    "Для проверки нашей гипотезы используем биномиальный тест для оценки равенства вероятности заданной с числовыми данными\n"
   ]
  },
  {
   "cell_type": "code",
   "execution_count": 7,
   "id": "9072470f",
   "metadata": {
    "id": "9072470f"
   },
   "outputs": [
    {
     "name": "stdout",
     "output_type": "stream",
     "text": [
      "p-value:0.01123046875\n",
      "У Пауля есть способности к предсказанию, p>1/2\n"
     ]
    }
   ],
   "source": [
    "### ╰( ͡° ͜ʖ ͡° )つ──☆ сотворите статистическую магию\n",
    "#  источник: семинар 6\n",
    "result=stats.binom_test(11, 13, 0.5, alternative = 'greater')\n",
    "print(f'p-value:{result}')\n",
    "\n",
    "\n",
    "if result > 0.05:\n",
    "    print('Пауль угадывает случайным образом, p=1/2')\n",
    "else:\n",
    "    print('У Пауля есть способности к предсказанию, p>1/2') "
   ]
  },
  {
   "cell_type": "markdown",
   "id": "870296fc",
   "metadata": {},
   "source": [
    "Мы получили значение p value = 0.01, из чего можно заключить, что на разумных уровнях значимости(5 и 10%) мы отвергаем нулевую гипотезу в пользу альтернативной. \n",
    "То есть Пауль на самом деле выдающийся предсказатель со способностями"
   ]
  },
  {
   "cell_type": "markdown",
   "id": "de312a8f",
   "metadata": {
    "id": "de312a8f"
   },
   "source": [
    "## Задача 2.  Корм и котики (2 балла)\n",
    "\n",
    "    \n",
    "Новый корм для котиков рекламируется с помощью рекламного баннера. Отдел маркетинга разработал для рекламы новый баннер. Они считают, что он более красивый. Перед фирмой возникла необходимость проверить какой из двух баннеров лучше.\n",
    "\n",
    "Для этого была создана специальная веб-форма. В этой веб-форме людям по очереди демонстрировали оба баннера и просили поставить лайк, если баннер нравится человеку. Если человеку нравятся оба баннера, он может поставить два лайка. Если ему не нравится ни один баннер, он может не ставить лайки вовсе. Собранные в конечном итоге данные находятся в табличке.\n",
    "\n",
    "Можно ли утверждать, что оба баннера одинаково хороши? Сформулируйте статистическую гипотезу для проверки того, что оба баннера выбирают одинаково часто. Проверьте ее и сделайте выводы.\n"
   ]
  },
  {
   "cell_type": "code",
   "execution_count": 11,
   "id": "62daf0af",
   "metadata": {},
   "outputs": [
    {
     "data": {
      "text/html": [
       "<div>\n",
       "<style scoped>\n",
       "    .dataframe tbody tr th:only-of-type {\n",
       "        vertical-align: middle;\n",
       "    }\n",
       "\n",
       "    .dataframe tbody tr th {\n",
       "        vertical-align: top;\n",
       "    }\n",
       "\n",
       "    .dataframe thead th {\n",
       "        text-align: right;\n",
       "    }\n",
       "</style>\n",
       "<table border=\"1\" class=\"dataframe\">\n",
       "  <thead>\n",
       "    <tr style=\"text-align: right;\">\n",
       "      <th></th>\n",
       "      <th>banner1</th>\n",
       "      <th>banner2</th>\n",
       "    </tr>\n",
       "  </thead>\n",
       "  <tbody>\n",
       "    <tr>\n",
       "      <th>0</th>\n",
       "      <td>0</td>\n",
       "      <td>0</td>\n",
       "    </tr>\n",
       "    <tr>\n",
       "      <th>1</th>\n",
       "      <td>1</td>\n",
       "      <td>1</td>\n",
       "    </tr>\n",
       "    <tr>\n",
       "      <th>2</th>\n",
       "      <td>0</td>\n",
       "      <td>0</td>\n",
       "    </tr>\n",
       "    <tr>\n",
       "      <th>3</th>\n",
       "      <td>0</td>\n",
       "      <td>0</td>\n",
       "    </tr>\n",
       "    <tr>\n",
       "      <th>4</th>\n",
       "      <td>0</td>\n",
       "      <td>0</td>\n",
       "    </tr>\n",
       "  </tbody>\n",
       "</table>\n",
       "</div>"
      ],
      "text/plain": [
       "   banner1  banner2\n",
       "0        0        0\n",
       "1        1        1\n",
       "2        0        0\n",
       "3        0        0\n",
       "4        0        0"
      ]
     },
     "execution_count": 11,
     "metadata": {},
     "output_type": "execute_result"
    }
   ],
   "source": [
    "columns=['banner1', 'banner2']\n",
    "df = pd.read_csv('banner_click_stat.csv',names=columns, sep='\\t')\n",
    "df.head()"
   ]
  },
  {
   "cell_type": "markdown",
   "id": "6b89eba6",
   "metadata": {},
   "source": [
    "H0: Частота выбора у обоих баннеров одинаковая\n",
    "\n",
    "H1: Один из баннеров выбирают чаще другого\n",
    "\n",
    "Мы хотим проверить, насколько случайным является симпания тому или иному баннеру среди пользователей, то есть равна ли их вероятность 0.5\n",
    "В таком случае применим критерий знаков, чтобы проверить распределение на биномиальное\n",
    "\n",
    "источник : 7 семинар\n"
   ]
  },
  {
   "cell_type": "code",
   "execution_count": 25,
   "id": "c7ff3b9e",
   "metadata": {},
   "outputs": [
    {
     "name": "stdout",
     "output_type": "stream",
     "text": [
      " results = (-8.0, 0.005222879350185395)\n"
     ]
    }
   ],
   "source": [
    "a1 = df['banner1']\n",
    "b2 = df['banner2']\n",
    "\n",
    "from statsmodels.stats.descriptivestats import sign_test\n",
    "print(f' results = {sign_test(a1-b2)}')"
   ]
  },
  {
   "cell_type": "code",
   "execution_count": 47,
   "id": "2f308495",
   "metadata": {},
   "outputs": [
    {
     "name": "stdout",
     "output_type": "stream",
     "text": [
      "0    963\n",
      "1     37\n",
      "Name: banner1, dtype: int64\n",
      "\n",
      "\n",
      "0    947\n",
      "1     53\n",
      "Name: banner2, dtype: int64\n"
     ]
    }
   ],
   "source": [
    "print(df['banner1'].value_counts(ascending=False))\n",
    "print('\\n')\n",
    "print(df['banner2'].value_counts(ascending=False))\n"
   ]
  },
  {
   "cell_type": "markdown",
   "id": "1c48c9de",
   "metadata": {},
   "source": [
    "Итак, мы получили значение p value= 0.005, что свидетельствует о том, что экпериментальные данные противоречат H0 на любом уровне значимости и мы отвергаем ее в пользу H1\n",
    "\n",
    "То есть, существует различие в восприятии баннеров пользователями и число их лайков в пользу второго баннера, который нравится пользователям в среднем больше. Однако стоит отметить, что разброс значений данного баннера также больше первого, вероятно он воспринимается более субъективно, возможно такой баннер содержит специфический юмор или же нестандартные для визуального восприятия цвета"
   ]
  },
  {
   "cell_type": "markdown",
   "id": "ceefe195",
   "metadata": {
    "id": "ceefe195"
   },
   "source": [
    "## Задача 3. Немного АВ-тестов (3 балла)\n",
    "## Игра Cookie Cat"
   ]
  },
  {
   "cell_type": "markdown",
   "id": "7a6e5960",
   "metadata": {
    "id": "7a6e5960"
   },
   "source": [
    "В этом задании мы поработаем с данными Cookie Cats - популярной игры-головоломки, которую разработала компания Tactile Entertainment. В этой игре игрок должен соединять одинаковые элементы в ряд, чтобы очистить поле и выиграть уровень. "
   ]
  },
  {
   "cell_type": "markdown",
   "id": "f010877f",
   "metadata": {
    "id": "f010877f"
   },
   "source": [
    "<p style=\"align: center;\"><img align=center src=\"https://i.ytimg.com/vi/iPxZIp0cbJE/maxresdefault.jpg\"  width=500></p>\n",
    " \n",
    " \n",
    "<p style=\"align: center;\"><img align=center src=\"https://s3.amazonaws.com/assets.datacamp.com/production/project_184/img/cc_gates.png\"  width=500></p>\n"
   ]
  },
  {
   "cell_type": "markdown",
   "id": "45a869f8",
   "metadata": {
    "id": "45a869f8"
   },
   "source": [
    "По мере прохождения уровней перед игроками появляются ворота, открытия которых нужно ждать какое-то время или пропускать их, совершая покупки в приложении. С точки зрения создателей эти ворота повышают интерес к игре и стимулируют к вложению денег в игру.\n"
   ]
  },
  {
   "cell_type": "markdown",
   "id": "1992bbd9",
   "metadata": {
    "id": "1992bbd9"
   },
   "source": [
    "Но у создателей появляется важный вопрос: **где лучше всего ставить ворота?**\n",
    "Первоначально первые ворота были размещены на уровне 30. Однако есть гипотеза, что лучше переместить их на уровень 40. В этом задании вам предлагается проанализировать результаты AB-теста, в котором создатели переместили первые ворота в Cookie Cats с 30 уровня на уровень 40. "
   ]
  },
  {
   "cell_type": "markdown",
   "id": "0178c412",
   "metadata": {
    "id": "0178c412"
   },
   "source": [
    "**Данные получены от 90 189 игроков, которые установили игру во время проведения AB-теста. Переменные:**\n",
    "\n",
    "* `userid` - уникальный номер, идентифицирующий каждого игрока.\n",
    "\n",
    "* `version` - был ли игрок помещен в контрольную группу (gate_30 - ворота на уровне 30) или в тестовую группу (gate_40 - ворота на уровне 40).\n",
    "\n",
    "* `sum_gamerounds` - количество игровых раундов, сыгранных игроком в течение первой недели после установки\n",
    "* `retention_1` - вернулся ли игрок в игру через 1 день после установки\n",
    "* `retention_7` - вернулся ли игрок в игру через 7 дней после установки\n",
    "\n",
    "Когда игрок устанавливал игру, ему случайным образом назначали `gate_30` или `gate_40`."
   ]
  },
  {
   "cell_type": "code",
   "execution_count": 18,
   "id": "5d32953b",
   "metadata": {
    "id": "5d32953b",
    "outputId": "e19bff24-d56e-419f-9197-a6169b9e1cf4"
   },
   "outputs": [
    {
     "data": {
      "text/html": [
       "<div>\n",
       "<style scoped>\n",
       "    .dataframe tbody tr th:only-of-type {\n",
       "        vertical-align: middle;\n",
       "    }\n",
       "\n",
       "    .dataframe tbody tr th {\n",
       "        vertical-align: top;\n",
       "    }\n",
       "\n",
       "    .dataframe thead th {\n",
       "        text-align: right;\n",
       "    }\n",
       "</style>\n",
       "<table border=\"1\" class=\"dataframe\">\n",
       "  <thead>\n",
       "    <tr style=\"text-align: right;\">\n",
       "      <th></th>\n",
       "      <th>userid</th>\n",
       "      <th>version</th>\n",
       "      <th>sum_gamerounds</th>\n",
       "      <th>retention_1</th>\n",
       "      <th>retention_7</th>\n",
       "    </tr>\n",
       "  </thead>\n",
       "  <tbody>\n",
       "    <tr>\n",
       "      <th>0</th>\n",
       "      <td>116</td>\n",
       "      <td>gate_30</td>\n",
       "      <td>3</td>\n",
       "      <td>False</td>\n",
       "      <td>False</td>\n",
       "    </tr>\n",
       "    <tr>\n",
       "      <th>1</th>\n",
       "      <td>337</td>\n",
       "      <td>gate_30</td>\n",
       "      <td>38</td>\n",
       "      <td>True</td>\n",
       "      <td>False</td>\n",
       "    </tr>\n",
       "    <tr>\n",
       "      <th>2</th>\n",
       "      <td>377</td>\n",
       "      <td>gate_40</td>\n",
       "      <td>165</td>\n",
       "      <td>True</td>\n",
       "      <td>False</td>\n",
       "    </tr>\n",
       "    <tr>\n",
       "      <th>3</th>\n",
       "      <td>483</td>\n",
       "      <td>gate_40</td>\n",
       "      <td>1</td>\n",
       "      <td>False</td>\n",
       "      <td>False</td>\n",
       "    </tr>\n",
       "    <tr>\n",
       "      <th>4</th>\n",
       "      <td>488</td>\n",
       "      <td>gate_40</td>\n",
       "      <td>179</td>\n",
       "      <td>True</td>\n",
       "      <td>True</td>\n",
       "    </tr>\n",
       "  </tbody>\n",
       "</table>\n",
       "</div>"
      ],
      "text/plain": [
       "   userid  version  sum_gamerounds  retention_1  retention_7\n",
       "0     116  gate_30               3        False        False\n",
       "1     337  gate_30              38         True        False\n",
       "2     377  gate_40             165         True        False\n",
       "3     483  gate_40               1        False        False\n",
       "4     488  gate_40             179         True         True"
      ]
     },
     "execution_count": 18,
     "metadata": {},
     "output_type": "execute_result"
    }
   ],
   "source": [
    "import pandas as pd\n",
    "df = pd.read_csv('cookie_cats.csv')\n",
    "df.head()"
   ]
  },
  {
   "cell_type": "code",
   "execution_count": 19,
   "id": "563bbcbb",
   "metadata": {
    "id": "563bbcbb",
    "outputId": "4467f65d-2988-455a-ebf0-ec78e3269d38"
   },
   "outputs": [
    {
     "data": {
      "text/html": [
       "<div>\n",
       "<style scoped>\n",
       "    .dataframe tbody tr th:only-of-type {\n",
       "        vertical-align: middle;\n",
       "    }\n",
       "\n",
       "    .dataframe tbody tr th {\n",
       "        vertical-align: top;\n",
       "    }\n",
       "\n",
       "    .dataframe thead th {\n",
       "        text-align: right;\n",
       "    }\n",
       "</style>\n",
       "<table border=\"1\" class=\"dataframe\">\n",
       "  <thead>\n",
       "    <tr style=\"text-align: right;\">\n",
       "      <th></th>\n",
       "      <th>userid</th>\n",
       "      <th>sum_gamerounds</th>\n",
       "    </tr>\n",
       "  </thead>\n",
       "  <tbody>\n",
       "    <tr>\n",
       "      <th>count</th>\n",
       "      <td>9.018900e+04</td>\n",
       "      <td>90189.000000</td>\n",
       "    </tr>\n",
       "    <tr>\n",
       "      <th>mean</th>\n",
       "      <td>4.998412e+06</td>\n",
       "      <td>51.872457</td>\n",
       "    </tr>\n",
       "    <tr>\n",
       "      <th>std</th>\n",
       "      <td>2.883286e+06</td>\n",
       "      <td>195.050858</td>\n",
       "    </tr>\n",
       "    <tr>\n",
       "      <th>min</th>\n",
       "      <td>1.160000e+02</td>\n",
       "      <td>0.000000</td>\n",
       "    </tr>\n",
       "    <tr>\n",
       "      <th>25%</th>\n",
       "      <td>2.512230e+06</td>\n",
       "      <td>5.000000</td>\n",
       "    </tr>\n",
       "    <tr>\n",
       "      <th>50%</th>\n",
       "      <td>4.995815e+06</td>\n",
       "      <td>16.000000</td>\n",
       "    </tr>\n",
       "    <tr>\n",
       "      <th>75%</th>\n",
       "      <td>7.496452e+06</td>\n",
       "      <td>51.000000</td>\n",
       "    </tr>\n",
       "    <tr>\n",
       "      <th>max</th>\n",
       "      <td>9.999861e+06</td>\n",
       "      <td>49854.000000</td>\n",
       "    </tr>\n",
       "  </tbody>\n",
       "</table>\n",
       "</div>"
      ],
      "text/plain": [
       "             userid  sum_gamerounds\n",
       "count  9.018900e+04    90189.000000\n",
       "mean   4.998412e+06       51.872457\n",
       "std    2.883286e+06      195.050858\n",
       "min    1.160000e+02        0.000000\n",
       "25%    2.512230e+06        5.000000\n",
       "50%    4.995815e+06       16.000000\n",
       "75%    7.496452e+06       51.000000\n",
       "max    9.999861e+06    49854.000000"
      ]
     },
     "execution_count": 19,
     "metadata": {},
     "output_type": "execute_result"
    }
   ],
   "source": [
    "df.describe()"
   ]
  },
  {
   "cell_type": "markdown",
   "id": "2bd5758d",
   "metadata": {
    "id": "2bd5758d"
   },
   "source": [
    "### Вопрос 1: есть ли зависимость между возвращаемостью игроков и расположением ворот?"
   ]
  },
  {
   "cell_type": "markdown",
   "id": "c5412061",
   "metadata": {
    "id": "c5412061"
   },
   "source": [
    "#### 1.1 Проверьте гипотезу для возвращения через день"
   ]
  },
  {
   "cell_type": "markdown",
   "id": "dbfd9499",
   "metadata": {},
   "source": [
    "H0: Зависимости между возвращаемостью игроков через день и расположением ворот нет\n",
    "\n",
    "H1: Зависимость между возвращаемостью игроков через день и расположением ворот есть\n",
    "\n",
    "Так как обе наши переменные категориальные, используем критерий хи квадрат Пирсона на независимость двух признаков,  источник: семинар 7"
   ]
  },
  {
   "cell_type": "code",
   "execution_count": 20,
   "id": "e7ee4751",
   "metadata": {
    "id": "e7ee4751"
   },
   "outputs": [
    {
     "name": "stdout",
     "output_type": "stream",
     "text": [
      "(3.182963657512031, 0.07440965529692188, 1, array([[24799.13514952, 19900.86485048],\n",
      "       [25236.86485048, 20252.13514952]]))\n"
     ]
    }
   ],
   "source": [
    "### ╰( ͡° ͜ʖ ͡° )つ──☆ сотворите статистическую магию\n",
    "\n",
    "t = df.groupby('version')['retention_1'].value_counts().unstack()\n",
    "\n",
    "print(stats.chi2_contingency(t, correction=False))"
   ]
  },
  {
   "cell_type": "markdown",
   "id": "ade967f1",
   "metadata": {},
   "source": [
    "Так как получившийся p value =0.07, мы не отклоняем нулевую гипотезу на стандартном уровне значимости 5%(а также 1%), то есть на основе получившихся данных, можно заключить, что зависимости между возвращаемостью игроков через день и расположением ворот нет. То есть, вне заивисимости от расположеия ворот, средний игрок не возвращется через день чаще исходного"
   ]
  },
  {
   "cell_type": "markdown",
   "id": "15ebcdad",
   "metadata": {
    "id": "15ebcdad"
   },
   "source": [
    "#### 2.2 Проверьте гипотезу для возвращения через семь дней"
   ]
  },
  {
   "cell_type": "code",
   "execution_count": 21,
   "id": "1703de87",
   "metadata": {
    "id": "1703de87"
   },
   "outputs": [
    {
     "name": "stdout",
     "output_type": "stream",
     "text": [
      "(10.013167328688969, 0.0015542499756142805, 1, array([[36382.90257127,  8317.09742873],\n",
      "       [37025.09742873,  8463.90257127]]))\n"
     ]
    }
   ],
   "source": [
    "### ╰( ͡° ͜ʖ ͡° )つ──☆ сотворите статистическую магию\n",
    "\n",
    "t = df.groupby('version')['retention_7'].value_counts().unstack()\n",
    "print(stats.chi2_contingency(t, correction=False))"
   ]
  },
  {
   "cell_type": "markdown",
   "id": "0901b08e",
   "metadata": {},
   "source": [
    "В данном же случае на основе получившегося p value=0.0016, мы отвергаем H0 на любом разумном уровне значимости и принимаем H1 о том, что зависимость между возвращаемостью игроков через семь дней и расположением ворот есть. То есть в случае перемещения ворот на уровень 40, пользователь возвращается в течение недели, значит такое размещение, в отличие от первого, способствует возвращению игроков, хотя и в течение недели"
   ]
  },
  {
   "cell_type": "markdown",
   "id": "498a3f1d",
   "metadata": {
    "id": "498a3f1d"
   },
   "source": [
    "### Вопрос 2: Отличается ли среднее количество раундов в группах gate_40 и gate_30?"
   ]
  },
  {
   "cell_type": "markdown",
   "id": "13ce57c0",
   "metadata": {},
   "source": [
    "H0: Среднее количество раундов в двух группах одинаково\n",
    "\n",
    "H1:Среднее количество раундов в двух группах отличается\n",
    "\n",
    "\n",
    "Для работы с проверкой гипотезы о средних в числовых и категориальных данных, используем стандартный т критерий Стьюдента для параметрического критерия двух независимых выборок с двусторонней альтернативой(тк не сказано, в чью пользу отличается среднее)\n"
   ]
  },
  {
   "cell_type": "code",
   "execution_count": 22,
   "id": "a2504ebd",
   "metadata": {
    "id": "a2504ebd"
   },
   "outputs": [
    {
     "name": "stdout",
     "output_type": "stream",
     "text": [
      "stat=-0.8910426211362967, p-value=0.37290868247405207\n"
     ]
    }
   ],
   "source": [
    "### ╰( ͡° ͜ʖ ͡° )つ──☆ сотворите статистическую магию\n",
    "\n",
    "\n",
    "gate_40_group = df[df.version == 'gate_40']['sum_gamerounds']\n",
    "gate_30_group = df[df.version == 'gate_30']['sum_gamerounds']\n",
    "\n",
    "\n",
    "from scipy import stats\n",
    "ttest, pval = stats.ttest_ind(gate_40_group, gate_30_group ,alternative = 'two-sided')\n",
    "print(f'stat={ttest}, p-value={pval}')"
   ]
  },
  {
   "cell_type": "markdown",
   "id": "40599fa5",
   "metadata": {},
   "source": [
    "Итак, мы получили p value =0.37, следовательно мы не отклоняем нулевую гипотезу на любом разумном уровне значимости на основе имеющихся экспериментальных данных, то есть и тестовая и стандартная группа вне зависимости от расположения ворот играют в среднем одинаковое количество раундов"
   ]
  },
  {
   "cell_type": "markdown",
   "id": "e236e864",
   "metadata": {
    "id": "e236e864"
   },
   "source": [
    "### Вопрос 3: Отличается ли медианное количество раундов в группах gate_40 и gate_30?"
   ]
  },
  {
   "cell_type": "markdown",
   "id": "f0480d09",
   "metadata": {},
   "source": [
    "H0: Медианное количество раундов в двух группах одинаково\n",
    "\n",
    "H1: Медианное количество раундов в двух группах отличается\n",
    "\n",
    "Так как медиана относится к непараметрическим критериям, а наши выборки независимые, используем тест Манна-Уитн для проверки гипотезы о равенстве, выборки независимые с двусторонней альтернативой(тк не сказано, в чью пользу отличаются медианы), источник: 7 семинар "
   ]
  },
  {
   "cell_type": "code",
   "execution_count": 30,
   "id": "955578c4",
   "metadata": {
    "id": "955578c4"
   },
   "outputs": [
    {
     "data": {
      "text/plain": [
       "MannwhitneyuResult(statistic=1009027049.5, pvalue=0.05020880772044255)"
      ]
     },
     "execution_count": 30,
     "metadata": {},
     "output_type": "execute_result"
    }
   ],
   "source": [
    "### ╰( ͡° ͜ʖ ͡° )つ──☆ сотворите статистическую магию\n",
    "x = df[df['version'] == 'gate_40']['sum_gamerounds']\n",
    "y = df[df['version'] == 'gate_30']['sum_gamerounds']\n",
    "x.name, y.name = 'gate_40', 'gate_30'\n",
    "res = stats.mannwhitneyu(x, y)\n",
    "res"
   ]
  },
  {
   "cell_type": "markdown",
   "id": "dbaf421e",
   "metadata": {},
   "source": [
    "В данном случае значение p value=0.0502, что является несколько больше 5%, следовательно мы не отвергаем H0 на стандартном уровне значимости 5% и делаем вывод, что медианное количество раундов в двух группах равнозначное. \n",
    "Отличие между количеством сыгранных раундов у игроков не существенное, хотя стоит отметить, что при небольшом увеличении нашего порогового уровня значимости, медианные значения будут отличатся в пользу gate_30"
   ]
  },
  {
   "cell_type": "markdown",
   "id": "c7bc3443",
   "metadata": {},
   "source": [
    "В целом, можно сказать, что в краткосроной перспективе на пристрастие к игре участниками не влияет расположение ворот, однако в течение недели пользователи все таки продолжают игру, при этом в среднем с тем же количеством сыгранных раундов. \n",
    "Нам лучше разместить ворота на уровне 40, так как это оказывает положительную динамику во взаимодейсвтии с пользователем"
   ]
  },
  {
   "cell_type": "markdown",
   "id": "03f0c2b4",
   "metadata": {
    "id": "03f0c2b4"
   },
   "source": [
    "## Задача 4: Время покемонов (3 балла)"
   ]
  },
  {
   "cell_type": "markdown",
   "id": "413f4923",
   "metadata": {
    "id": "413f4923"
   },
   "source": [
    "В данной задаче вам будет необходимо проанализировать различные характеристики покемонов и сравнить их между собой"
   ]
  },
  {
   "cell_type": "markdown",
   "id": "a253705e",
   "metadata": {
    "id": "a253705e"
   },
   "source": [
    "<p style=\"align: center;\"><img align=center src=\"https://proprikol.ru/wp-content/uploads/2020/11/kartinki-pokemonov-2.jpg\"  width=500></p>"
   ]
  },
  {
   "cell_type": "markdown",
   "id": "1810bfee",
   "metadata": {
    "id": "1810bfee"
   },
   "source": [
    "Покемоны - это маленькие существа, которые сражаются друг с другом на соревнованиях. Все покемоны имеют разные характеристики (сила атаки, защиты и т. д.) и относятся к одному или двум так называемым классам (вода, огонь и т. д.). Профессор Оук является изобретателем Pokedex, портативного устройства, которое хранит информацию обо всех существующих покемонах. Как его ведущий специалист по данным, Вы только что получили от него запрос с просьбой осуществить аналитику данных на всех устройствах Pokedex."
   ]
  },
  {
   "cell_type": "markdown",
   "id": "19045811",
   "metadata": {
    "id": "19045811"
   },
   "source": [
    "### Описание данных\n",
    "\n",
    "Профессор Оук скопировал все содержимое память одного устройства Pokedex, в результате чего получился набор данных, с которым Вы будете работать в этой задаче. В этом файле каждая строка представляет характеристики одного покемона:\n",
    "\n",
    "* pid: Numeric - ID покемона\n",
    "* HP: Numeric - Очки здоровья\n",
    "* Attack: Numeric - Сила обычной атаки\n",
    "* Defense: Numeric - Сила обычной защиты\n",
    "* Sp. Atk: Numeric - Сила специальной атаки\n",
    "* Sp. Def: Numeric - Сила специальной защиты\n",
    "* Speed: Numeric - Скорость движений\n",
    "* Legendary: Boolean - «True», если покемон редкий\n",
    "* Class 1: Categorical - Класс покемона\n",
    "* Class 2: Categorical - Класс покемона"
   ]
  },
  {
   "cell_type": "code",
   "execution_count": 12,
   "id": "ba2420c8",
   "metadata": {},
   "outputs": [
    {
     "data": {
      "text/html": [
       "<div>\n",
       "<style scoped>\n",
       "    .dataframe tbody tr th:only-of-type {\n",
       "        vertical-align: middle;\n",
       "    }\n",
       "\n",
       "    .dataframe tbody tr th {\n",
       "        vertical-align: top;\n",
       "    }\n",
       "\n",
       "    .dataframe thead th {\n",
       "        text-align: right;\n",
       "    }\n",
       "</style>\n",
       "<table border=\"1\" class=\"dataframe\">\n",
       "  <thead>\n",
       "    <tr style=\"text-align: right;\">\n",
       "      <th></th>\n",
       "      <th>pid</th>\n",
       "      <th>Name</th>\n",
       "      <th>xclass</th>\n",
       "      <th>yclass</th>\n",
       "      <th>HP</th>\n",
       "      <th>Attack</th>\n",
       "      <th>Defense</th>\n",
       "      <th>Sp. Atk</th>\n",
       "      <th>Sp. Def</th>\n",
       "      <th>Speed</th>\n",
       "      <th>Legendary</th>\n",
       "    </tr>\n",
       "  </thead>\n",
       "  <tbody>\n",
       "    <tr>\n",
       "      <th>0</th>\n",
       "      <td>1</td>\n",
       "      <td>Bulbasaur</td>\n",
       "      <td>Grass</td>\n",
       "      <td>Poison</td>\n",
       "      <td>45</td>\n",
       "      <td>49</td>\n",
       "      <td>49</td>\n",
       "      <td>65</td>\n",
       "      <td>65</td>\n",
       "      <td>45</td>\n",
       "      <td>False</td>\n",
       "    </tr>\n",
       "    <tr>\n",
       "      <th>1</th>\n",
       "      <td>2</td>\n",
       "      <td>Ivysaur</td>\n",
       "      <td>Grass</td>\n",
       "      <td>Poison</td>\n",
       "      <td>60</td>\n",
       "      <td>62</td>\n",
       "      <td>63</td>\n",
       "      <td>80</td>\n",
       "      <td>80</td>\n",
       "      <td>60</td>\n",
       "      <td>False</td>\n",
       "    </tr>\n",
       "    <tr>\n",
       "      <th>2</th>\n",
       "      <td>3</td>\n",
       "      <td>Venusaur</td>\n",
       "      <td>Grass</td>\n",
       "      <td>Poison</td>\n",
       "      <td>80</td>\n",
       "      <td>82</td>\n",
       "      <td>83</td>\n",
       "      <td>100</td>\n",
       "      <td>100</td>\n",
       "      <td>80</td>\n",
       "      <td>False</td>\n",
       "    </tr>\n",
       "    <tr>\n",
       "      <th>3</th>\n",
       "      <td>4</td>\n",
       "      <td>Mega Venusaur</td>\n",
       "      <td>Grass</td>\n",
       "      <td>Poison</td>\n",
       "      <td>80</td>\n",
       "      <td>100</td>\n",
       "      <td>123</td>\n",
       "      <td>122</td>\n",
       "      <td>120</td>\n",
       "      <td>80</td>\n",
       "      <td>False</td>\n",
       "    </tr>\n",
       "    <tr>\n",
       "      <th>4</th>\n",
       "      <td>5</td>\n",
       "      <td>Charmander</td>\n",
       "      <td>Fire</td>\n",
       "      <td>NaN</td>\n",
       "      <td>39</td>\n",
       "      <td>52</td>\n",
       "      <td>43</td>\n",
       "      <td>60</td>\n",
       "      <td>50</td>\n",
       "      <td>65</td>\n",
       "      <td>False</td>\n",
       "    </tr>\n",
       "  </tbody>\n",
       "</table>\n",
       "</div>"
      ],
      "text/plain": [
       "   pid           Name xclass  yclass  HP  Attack  Defense  Sp. Atk  Sp. Def  \\\n",
       "0    1      Bulbasaur  Grass  Poison  45      49       49       65       65   \n",
       "1    2        Ivysaur  Grass  Poison  60      62       63       80       80   \n",
       "2    3       Venusaur  Grass  Poison  80      82       83      100      100   \n",
       "3    4  Mega Venusaur  Grass  Poison  80     100      123      122      120   \n",
       "4    5     Charmander   Fire     NaN  39      52       43       60       50   \n",
       "\n",
       "   Speed  Legendary  \n",
       "0     45      False  \n",
       "1     60      False  \n",
       "2     80      False  \n",
       "3     80      False  \n",
       "4     65      False  "
      ]
     },
     "execution_count": 12,
     "metadata": {},
     "output_type": "execute_result"
    }
   ],
   "source": [
    "import pandas as pd\n",
    "df = pd.read_csv('pokemon.csv')\n",
    "# для удобства работы в дальнейшем переименуем две колонки\n",
    "df.rename(columns = {'Class 1':'xclass', 'Class 2':'yclass'}, inplace = True)\n",
    "df.head()"
   ]
  },
  {
   "cell_type": "markdown",
   "id": "216b24ea",
   "metadata": {
    "id": "216b24ea"
   },
   "source": [
    "### Вопрос 1"
   ]
  },
  {
   "cell_type": "markdown",
   "id": "83dadefc",
   "metadata": {
    "id": "83dadefc"
   },
   "source": [
    "Профессор Оук подозревает, что покемоны в классе `grass` имеют более сильную обычную атаку, чем у покемонов в классе `rock`. Проверьте, прав ли он, и убедите его в своем выводе статистически. "
   ]
  },
  {
   "cell_type": "code",
   "execution_count": 13,
   "id": "f1870e2b",
   "metadata": {},
   "outputs": [
    {
     "name": "stdout",
     "output_type": "stream",
     "text": [
      "['Grass' 'Fire' 'Water' 'Bug' 'Normal' 'Poison' 'Electric' 'Ground'\n",
      " 'Fairy' 'Fighting' 'Psychic' 'Rock' 'Ghost' 'Ice' 'Dragon' 'Dark' 'Steel'\n",
      " 'Flying']\n",
      "['Poison' nan 'Flying' 'Dragon' 'Ground' 'Fairy' 'Grass' 'Fighting'\n",
      " 'Psychic' 'Steel' 'Ice' 'Rock' 'Dark' 'Water' 'Electric' 'Fire' 'Ghost'\n",
      " 'Bug' 'Normal']\n"
     ]
    }
   ],
   "source": [
    "print(df['xclass'].unique())\n",
    "print(df['yclass'].unique()) "
   ]
  },
  {
   "cell_type": "markdown",
   "id": "ff032c68",
   "metadata": {},
   "source": [
    "Видим, что нужные нам классы встречаются в обоих колонках, чтобы наличие у покемона нескольких классов не повлияло на наш результат, создадим новую колонку с покемонами, которые имеют только один класс(в нашем случае это только покемоны с 1 классом, так как эта ячейка заполнена в любом случае). Отметим также, что лучше не брать в учет наличие дублирующихся классов у одного покемона, так как в таком случае характеристики покемонов складываются, что может демонстрировать нерепрезентативные показатели и, следовательно, препятствовать сравнению силы атаки напрямую."
   ]
  },
  {
   "cell_type": "code",
   "execution_count": 14,
   "id": "c2396c54",
   "metadata": {},
   "outputs": [
    {
     "data": {
      "text/html": [
       "<div>\n",
       "<style scoped>\n",
       "    .dataframe tbody tr th:only-of-type {\n",
       "        vertical-align: middle;\n",
       "    }\n",
       "\n",
       "    .dataframe tbody tr th {\n",
       "        vertical-align: top;\n",
       "    }\n",
       "\n",
       "    .dataframe thead th {\n",
       "        text-align: right;\n",
       "    }\n",
       "</style>\n",
       "<table border=\"1\" class=\"dataframe\">\n",
       "  <thead>\n",
       "    <tr style=\"text-align: right;\">\n",
       "      <th></th>\n",
       "      <th>pid</th>\n",
       "      <th>Name</th>\n",
       "      <th>xclass</th>\n",
       "      <th>yclass</th>\n",
       "      <th>HP</th>\n",
       "      <th>Attack</th>\n",
       "      <th>Defense</th>\n",
       "      <th>Sp. Atk</th>\n",
       "      <th>Sp. Def</th>\n",
       "      <th>Speed</th>\n",
       "      <th>Legendary</th>\n",
       "      <th>oneclass</th>\n",
       "    </tr>\n",
       "  </thead>\n",
       "  <tbody>\n",
       "    <tr>\n",
       "      <th>0</th>\n",
       "      <td>1</td>\n",
       "      <td>Bulbasaur</td>\n",
       "      <td>Grass</td>\n",
       "      <td>Poison</td>\n",
       "      <td>45</td>\n",
       "      <td>49</td>\n",
       "      <td>49</td>\n",
       "      <td>65</td>\n",
       "      <td>65</td>\n",
       "      <td>45</td>\n",
       "      <td>False</td>\n",
       "      <td>Grass</td>\n",
       "    </tr>\n",
       "    <tr>\n",
       "      <th>1</th>\n",
       "      <td>2</td>\n",
       "      <td>Ivysaur</td>\n",
       "      <td>Grass</td>\n",
       "      <td>Poison</td>\n",
       "      <td>60</td>\n",
       "      <td>62</td>\n",
       "      <td>63</td>\n",
       "      <td>80</td>\n",
       "      <td>80</td>\n",
       "      <td>60</td>\n",
       "      <td>False</td>\n",
       "      <td>Grass</td>\n",
       "    </tr>\n",
       "    <tr>\n",
       "      <th>2</th>\n",
       "      <td>3</td>\n",
       "      <td>Venusaur</td>\n",
       "      <td>Grass</td>\n",
       "      <td>Poison</td>\n",
       "      <td>80</td>\n",
       "      <td>82</td>\n",
       "      <td>83</td>\n",
       "      <td>100</td>\n",
       "      <td>100</td>\n",
       "      <td>80</td>\n",
       "      <td>False</td>\n",
       "      <td>Grass</td>\n",
       "    </tr>\n",
       "    <tr>\n",
       "      <th>3</th>\n",
       "      <td>4</td>\n",
       "      <td>Mega Venusaur</td>\n",
       "      <td>Grass</td>\n",
       "      <td>Poison</td>\n",
       "      <td>80</td>\n",
       "      <td>100</td>\n",
       "      <td>123</td>\n",
       "      <td>122</td>\n",
       "      <td>120</td>\n",
       "      <td>80</td>\n",
       "      <td>False</td>\n",
       "      <td>Grass</td>\n",
       "    </tr>\n",
       "    <tr>\n",
       "      <th>4</th>\n",
       "      <td>5</td>\n",
       "      <td>Charmander</td>\n",
       "      <td>Fire</td>\n",
       "      <td>NaN</td>\n",
       "      <td>39</td>\n",
       "      <td>52</td>\n",
       "      <td>43</td>\n",
       "      <td>60</td>\n",
       "      <td>50</td>\n",
       "      <td>65</td>\n",
       "      <td>False</td>\n",
       "      <td>Fire</td>\n",
       "    </tr>\n",
       "  </tbody>\n",
       "</table>\n",
       "</div>"
      ],
      "text/plain": [
       "   pid           Name xclass  yclass  HP  Attack  Defense  Sp. Atk  Sp. Def  \\\n",
       "0    1      Bulbasaur  Grass  Poison  45      49       49       65       65   \n",
       "1    2        Ivysaur  Grass  Poison  60      62       63       80       80   \n",
       "2    3       Venusaur  Grass  Poison  80      82       83      100      100   \n",
       "3    4  Mega Venusaur  Grass  Poison  80     100      123      122      120   \n",
       "4    5     Charmander   Fire     NaN  39      52       43       60       50   \n",
       "\n",
       "   Speed  Legendary oneclass  \n",
       "0     45      False    Grass  \n",
       "1     60      False    Grass  \n",
       "2     80      False    Grass  \n",
       "3     80      False    Grass  \n",
       "4     65      False     Fire  "
      ]
     },
     "execution_count": 14,
     "metadata": {},
     "output_type": "execute_result"
    }
   ],
   "source": [
    "import numpy as np\n",
    "\n",
    "df['oneclass'] = np.where(df['yclass']!= '', df['xclass'], False)\n",
    "df.head()\n"
   ]
  },
  {
   "cell_type": "markdown",
   "id": "fd79539a",
   "metadata": {},
   "source": [
    "\n",
    "H0: Покемоны двух классов grass и rock имеют одинаковую силу обычной атаки\n",
    "\n",
    "H1: Покемоны в классе grass имеют более сильную обычную атаку, чем у покемонов в классе rock\n",
    "    \n",
    "    \n",
    "Так как мы снова имеем дело с данными типа numeric/ categorial, используем двухвыборочный тест ttest_ ind для независимых выборок\n",
    " с альтернативой greater(так как мы проверяем больше ли сила атаки у класса grass)\n"
   ]
  },
  {
   "cell_type": "code",
   "execution_count": 15,
   "id": "fb6a5007",
   "metadata": {
    "id": "fb6a5007"
   },
   "outputs": [
    {
     "name": "stdout",
     "output_type": "stream",
     "text": [
      "stat=1.077020239270595, p-value=0.14189280158888148\n",
      "Покемоны двух классов grass и rock имеют одинаковую силу обычной атаки\n"
     ]
    }
   ],
   "source": [
    "### ╰( ͡° ͜ʖ ͡° )つ──☆ сотворите статистическую магию\n",
    "\n",
    "grass_group = df[df.oneclass == 'Grass']['Speed']\n",
    "rock_group = df[df.oneclass == 'Rock']['Speed']\n",
    "\n",
    "\n",
    "from scipy import stats\n",
    "ttest, pval = stats.ttest_ind(grass_group, rock_group ,alternative = 'greater')\n",
    "print(f'stat={ttest}, p-value={pval}')\n",
    "\n",
    "\n",
    "if pval > 0.05:\n",
    "    print('Покемоны двух классов grass и rock имеют одинаковую силу обычной атаки')\n",
    "else:\n",
    "    print('Покемоны в классе grass имеют более сильную обычную атаку, чем у покемоны в классе rock')"
   ]
  },
  {
   "cell_type": "markdown",
   "id": "89cf3b20",
   "metadata": {},
   "source": [
    "Таким образом, получившийся p value= 0,14 свидетельсвует о том что экспрементальные данные не противоречат нулевой гипотезе на любом разумном уровне значимости, из-за чего мы не отвергаем H0: покемоны в классе grass имеют равносильную обычную атаку в сравнении с покемонами в классе rock при \"чистом\" сравнении классов друг с другом, то есть отсутствии у них других дополнительных классов либо при отсутствии дублирующихся классов у одного покемона.\n",
    "То есть, класс покемонов grass не сильнее класса rock по отдельности"
   ]
  },
  {
   "cell_type": "markdown",
   "id": "efe3805e",
   "metadata": {
    "id": "efe3805e"
   },
   "source": [
    "### Вопрос 2"
   ]
  },
  {
   "cell_type": "markdown",
   "id": "baeb5aeb",
   "metadata": {
    "id": "baeb5aeb"
   },
   "source": [
    "Также профессор Оук очень хочет проверить, правда ли нет значимой разницы между силой обычной атаки и силой обычной защиты у покемонов. Помогите ему и ответьте на вопрос, подтвердив свои выводы с помощью проверки статистических гипотез"
   ]
  },
  {
   "cell_type": "markdown",
   "id": "215381d2",
   "metadata": {},
   "source": [
    "H0: Нет значимой разницы между силой обычной атаки и силой обычной защиты у покемонов\n",
    "\n",
    "H1: Сила обычной атаки и сила обычной защиты у покемонов отличается\n",
    "\n",
    "Так как мы работаем с зависимыми выборками числовой катерии даннных, воспользуемся парный т критерием стьюдента ttest_rel  с двусторонней альтернативой (upd: после двустороннего теста, мы хотим проверить, в чью пользу свидетельствуют экспериментальные данные, из-за чего в финальной версии присутствует альтернатива greater)    \n",
    "    \n",
    "источник: семинар 6"
   ]
  },
  {
   "cell_type": "code",
   "execution_count": 16,
   "id": "a8ae940e",
   "metadata": {
    "id": "a8ae940e"
   },
   "outputs": [
    {
     "data": {
      "text/plain": [
       "Ttest_relResult(statistic=4.325566393330478, pvalue=8.570151739679279e-06)"
      ]
     },
     "execution_count": 16,
     "metadata": {},
     "output_type": "execute_result"
    }
   ],
   "source": [
    "### ╰( ͡° ͜ʖ ͡° )つ──☆ сотворите статистическую магию\n",
    "att=df['Attack']\n",
    "de=df['Defense']\n",
    "stats.ttest_rel(att,de, alternative ='greater')"
   ]
  },
  {
   "cell_type": "markdown",
   "id": "e9884d1a",
   "metadata": {},
   "source": [
    "Получившийся p value говорит нам о том, что на основе имеющихся данных на любом разумном уровне значимости мы отклоняем H0 и принимаем альтернативную гипотезу о том, что сила обычной атаки у покемонов отличается от силы обычной защиты. \n",
    "Применяя односторонний тест, можно убедиться, что сила атаки покемонов статистически больше силы защиты. \n",
    "\n",
    "Покемоны лучше показывают себя в нападении нежели в обороне"
   ]
  },
  {
   "cell_type": "markdown",
   "id": "55c372da",
   "metadata": {
    "id": "55c372da"
   },
   "source": [
    "### Вопрос 3"
   ]
  },
  {
   "cell_type": "markdown",
   "id": "781cbb94",
   "metadata": {
    "id": "781cbb94"
   },
   "source": [
    "И последний вопрос, который мучает профессора Оука: правда ли, что средняя скорость покемонов превышает 66.6 ? Сформулируйте подходящие гипотезы и помогите профессору Оуку, ответив на вопрос."
   ]
  },
  {
   "cell_type": "markdown",
   "id": "21d3267e",
   "metadata": {},
   "source": [
    "H0: Средняя скорость покемонов = 66.6\n",
    "\n",
    "H1: Средняя скорость покемонов > 66.6\n",
    "\n",
    "Так как мы сравниваем выборочное среднее с числом и при этом не знаем генеральное стандартное отклонение, используем т тест с альтернативой greater\n",
    "\n",
    "семинар 5"
   ]
  },
  {
   "cell_type": "code",
   "execution_count": 87,
   "id": "aefbfc32",
   "metadata": {
    "id": "aefbfc32"
   },
   "outputs": [
    {
     "data": {
      "text/plain": [
       "Ttest_1sampResult(statistic=1.6326941356636653, pvalue=0.051463667549085566)"
      ]
     },
     "execution_count": 87,
     "metadata": {},
     "output_type": "execute_result"
    }
   ],
   "source": [
    "### ╰( ͡° ͜ʖ ͡° )つ──☆ сотворите статистическую магию\n",
    "from scipy.stats import ttest_1samp\n",
    "\n",
    "ttest_1samp(df['Speed'], popmean = 66.6, alternative = 'greater')"
   ]
  },
  {
   "cell_type": "markdown",
   "id": "67b46ea5",
   "metadata": {},
   "source": [
    "По итогу мы получили p value = 0.0515, из-за чего на стандартном уровне значимости 5% мы не отвергаем H0 и => наш вывод: В среднем скорость покемонов примерно составляет 66.6"
   ]
  }
 ],
 "metadata": {
  "colab": {
   "name": "DZ3_DS.ipynb",
   "provenance": []
  },
  "kernelspec": {
   "display_name": "Python 3 (ipykernel)",
   "language": "python",
   "name": "python3"
  },
  "language_info": {
   "codemirror_mode": {
    "name": "ipython",
    "version": 3
   },
   "file_extension": ".py",
   "mimetype": "text/x-python",
   "name": "python",
   "nbconvert_exporter": "python",
   "pygments_lexer": "ipython3",
   "version": "3.9.7"
  }
 },
 "nbformat": 4,
 "nbformat_minor": 5
}
