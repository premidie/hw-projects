{
 "cells": [
  {
   "cell_type": "markdown",
   "metadata": {},
   "source": [
    "### Ближайшие соседи\n",
    "\n"
   ]
  },
  {
   "cell_type": "markdown",
   "metadata": {},
   "source": [
    "### Часть 1: Исследуем данные\n",
    "**Задание 1.** Загрузите данные из файла Student_Behaviour.csv. Выведите первые 5 строк таблицы."
   ]
  },
  {
   "cell_type": "code",
   "execution_count": 1,
   "metadata": {},
   "outputs": [
    {
     "data": {
      "text/html": [
       "<div>\n",
       "<style scoped>\n",
       "    .dataframe tbody tr th:only-of-type {\n",
       "        vertical-align: middle;\n",
       "    }\n",
       "\n",
       "    .dataframe tbody tr th {\n",
       "        vertical-align: top;\n",
       "    }\n",
       "\n",
       "    .dataframe thead th {\n",
       "        text-align: right;\n",
       "    }\n",
       "</style>\n",
       "<table border=\"1\" class=\"dataframe\">\n",
       "  <thead>\n",
       "    <tr style=\"text-align: right;\">\n",
       "      <th></th>\n",
       "      <th>CertificationCourses</th>\n",
       "      <th>Gender</th>\n",
       "      <th>Department</th>\n",
       "      <th>Height(CM)</th>\n",
       "      <th>Weight(KG)</th>\n",
       "      <th>10Mark</th>\n",
       "      <th>12Mark</th>\n",
       "      <th>CollegeMark</th>\n",
       "      <th>Hobbies</th>\n",
       "      <th>DailyStudingTime</th>\n",
       "      <th>PreferToStudyIn</th>\n",
       "      <th>SalaryExpectation</th>\n",
       "      <th>LikeDegree</th>\n",
       "      <th>CareerBasedonDegree</th>\n",
       "      <th>GamesSpendingTime</th>\n",
       "      <th>TravellingTime</th>\n",
       "      <th>StressLevel</th>\n",
       "      <th>FinancialStatus</th>\n",
       "      <th>PartTimeJob?</th>\n",
       "    </tr>\n",
       "  </thead>\n",
       "  <tbody>\n",
       "    <tr>\n",
       "      <th>0</th>\n",
       "      <td>No</td>\n",
       "      <td>Male</td>\n",
       "      <td>BCA</td>\n",
       "      <td>100.0</td>\n",
       "      <td>58.0</td>\n",
       "      <td>79.0</td>\n",
       "      <td>65.0</td>\n",
       "      <td>80.0</td>\n",
       "      <td>Video Games</td>\n",
       "      <td>0 - 30 minute</td>\n",
       "      <td>Morning</td>\n",
       "      <td>40000</td>\n",
       "      <td>No</td>\n",
       "      <td>50%</td>\n",
       "      <td>1.30 - 2 hour</td>\n",
       "      <td>30 - 60 minutes</td>\n",
       "      <td>Bad</td>\n",
       "      <td>Bad</td>\n",
       "      <td>No</td>\n",
       "    </tr>\n",
       "    <tr>\n",
       "      <th>1</th>\n",
       "      <td>No</td>\n",
       "      <td>Female</td>\n",
       "      <td>BCA</td>\n",
       "      <td>90.0</td>\n",
       "      <td>40.0</td>\n",
       "      <td>70.0</td>\n",
       "      <td>80.0</td>\n",
       "      <td>70.0</td>\n",
       "      <td>Cinema</td>\n",
       "      <td>30 - 60 minute</td>\n",
       "      <td>Morning</td>\n",
       "      <td>15000</td>\n",
       "      <td>Yes</td>\n",
       "      <td>75%</td>\n",
       "      <td>1 - 1.30 hour</td>\n",
       "      <td>0 - 30 minutes</td>\n",
       "      <td>Bad</td>\n",
       "      <td>Bad</td>\n",
       "      <td>No</td>\n",
       "    </tr>\n",
       "    <tr>\n",
       "      <th>2</th>\n",
       "      <td>Yes</td>\n",
       "      <td>Male</td>\n",
       "      <td>BCA</td>\n",
       "      <td>159.0</td>\n",
       "      <td>78.0</td>\n",
       "      <td>69.5</td>\n",
       "      <td>61.0</td>\n",
       "      <td>55.0</td>\n",
       "      <td>Cinema</td>\n",
       "      <td>1 - 2 Hour</td>\n",
       "      <td>Anytime</td>\n",
       "      <td>13000</td>\n",
       "      <td>Yes</td>\n",
       "      <td>50%</td>\n",
       "      <td>More than 2 hour</td>\n",
       "      <td>30 - 60 minutes</td>\n",
       "      <td>Awful</td>\n",
       "      <td>Bad</td>\n",
       "      <td>No</td>\n",
       "    </tr>\n",
       "    <tr>\n",
       "      <th>3</th>\n",
       "      <td>Yes</td>\n",
       "      <td>Female</td>\n",
       "      <td>BCA</td>\n",
       "      <td>147.0</td>\n",
       "      <td>20.0</td>\n",
       "      <td>70.0</td>\n",
       "      <td>59.0</td>\n",
       "      <td>58.0</td>\n",
       "      <td>Reading books</td>\n",
       "      <td>1 - 2 Hour</td>\n",
       "      <td>Anytime</td>\n",
       "      <td>1500000</td>\n",
       "      <td>No</td>\n",
       "      <td>50%</td>\n",
       "      <td>1.30 - 2 hour</td>\n",
       "      <td>0 - 30 minutes</td>\n",
       "      <td>Bad</td>\n",
       "      <td>good</td>\n",
       "      <td>No</td>\n",
       "    </tr>\n",
       "    <tr>\n",
       "      <th>4</th>\n",
       "      <td>No</td>\n",
       "      <td>Male</td>\n",
       "      <td>BCA</td>\n",
       "      <td>170.0</td>\n",
       "      <td>54.0</td>\n",
       "      <td>40.0</td>\n",
       "      <td>65.0</td>\n",
       "      <td>30.0</td>\n",
       "      <td>Video Games</td>\n",
       "      <td>30 - 60 minute</td>\n",
       "      <td>Morning</td>\n",
       "      <td>50000</td>\n",
       "      <td>Yes</td>\n",
       "      <td>25%</td>\n",
       "      <td>1.30 - 2 hour</td>\n",
       "      <td>30 - 60 minutes</td>\n",
       "      <td>Good</td>\n",
       "      <td>good</td>\n",
       "      <td>No</td>\n",
       "    </tr>\n",
       "  </tbody>\n",
       "</table>\n",
       "</div>"
      ],
      "text/plain": [
       "  CertificationCourses  Gender Department  Height(CM)  Weight(KG)  10Mark  \\\n",
       "0                   No    Male        BCA       100.0        58.0    79.0   \n",
       "1                   No  Female        BCA        90.0        40.0    70.0   \n",
       "2                  Yes    Male        BCA       159.0        78.0    69.5   \n",
       "3                  Yes  Female        BCA       147.0        20.0    70.0   \n",
       "4                   No    Male        BCA       170.0        54.0    40.0   \n",
       "\n",
       "   12Mark  CollegeMark        Hobbies DailyStudingTime PreferToStudyIn  \\\n",
       "0    65.0         80.0    Video Games    0 - 30 minute         Morning   \n",
       "1    80.0         70.0         Cinema   30 - 60 minute         Morning   \n",
       "2    61.0         55.0         Cinema       1 - 2 Hour         Anytime   \n",
       "3    59.0         58.0  Reading books       1 - 2 Hour         Anytime   \n",
       "4    65.0         30.0    Video Games   30 - 60 minute         Morning   \n",
       "\n",
       "   SalaryExpectation LikeDegree CareerBasedonDegree GamesSpendingTime  \\\n",
       "0              40000         No                 50%     1.30 - 2 hour   \n",
       "1              15000        Yes                 75%     1 - 1.30 hour   \n",
       "2              13000        Yes                 50%  More than 2 hour   \n",
       "3            1500000         No                 50%     1.30 - 2 hour   \n",
       "4              50000        Yes                 25%     1.30 - 2 hour   \n",
       "\n",
       "   TravellingTime  StressLevel  FinancialStatus PartTimeJob?  \n",
       "0  30 - 60 minutes          Bad             Bad           No  \n",
       "1   0 - 30 minutes          Bad             Bad           No  \n",
       "2  30 - 60 minutes        Awful             Bad           No  \n",
       "3   0 - 30 minutes          Bad            good           No  \n",
       "4  30 - 60 minutes         Good            good           No  "
      ]
     },
     "execution_count": 1,
     "metadata": {},
     "output_type": "execute_result"
    }
   ],
   "source": [
    "import pandas as pd\n",
    "import numpy as np\n",
    "df = pd.read_csv('Student_Behaviour.csv')\n",
    "df.head()"
   ]
  },
  {
   "cell_type": "markdown",
   "metadata": {},
   "source": [
    "**Задание 2.** Проверьте колонки на наличие пропусков, избавьтесь их. "
   ]
  },
  {
   "cell_type": "code",
   "execution_count": 2,
   "metadata": {},
   "outputs": [
    {
     "data": {
      "text/plain": [
       "CertificationCourses    0\n",
       "Gender                  0\n",
       "Department              0\n",
       "Height(CM)              0\n",
       "Weight(KG)              0\n",
       "10Mark                  0\n",
       "12Mark                  0\n",
       "CollegeMark             0\n",
       "Hobbies                 0\n",
       "DailyStudingTime        0\n",
       "PreferToStudyIn         0\n",
       "SalaryExpectation       0\n",
       "LikeDegree              0\n",
       "CareerBasedonDegree     0\n",
       "GamesSpendingTime       0\n",
       "TravellingTime          0\n",
       "StressLevel             0\n",
       "FinancialStatus         0\n",
       "PartTimeJob?            0\n",
       "dtype: int64"
      ]
     },
     "execution_count": 2,
     "metadata": {},
     "output_type": "execute_result"
    }
   ],
   "source": [
    "df.isnull().sum() # пропусков не обнаружено"
   ]
  },
  {
   "cell_type": "markdown",
   "metadata": {},
   "source": [
    "**Задание 3.**  Колонку `CareerBasedonDegree` приведите к числовому виду."
   ]
  },
  {
   "cell_type": "markdown",
   "metadata": {},
   "source": [
    "источник: https://levelup.gitconnected.com/convert-percentage-string-to-numeric-and-vice-versa-in-pandas-18a3d66e2853"
   ]
  },
  {
   "cell_type": "code",
   "execution_count": 3,
   "metadata": {},
   "outputs": [
    {
     "data": {
      "text/plain": [
       "0      0.50\n",
       "1      0.75\n",
       "2      0.50\n",
       "3      0.50\n",
       "4      0.25\n",
       "       ... \n",
       "230    0.50\n",
       "231    0.75\n",
       "232    0.50\n",
       "233    0.75\n",
       "234    0.75\n",
       "Name: CareerBasedonDegree, Length: 235, dtype: float64"
      ]
     },
     "execution_count": 3,
     "metadata": {},
     "output_type": "execute_result"
    }
   ],
   "source": [
    "df['CareerBasedonDegree'].str.rstrip(\"%\").astype(float)/100"
   ]
  },
  {
   "cell_type": "markdown",
   "metadata": {},
   "source": [
    "**Задание 4.**  В датасете есть 3 поля, с суффиксом `Time`, данные в них строковые, которые означают временной интервал. Извлеките минимальное время(левую границу интервала) для каждой из этих переменных и переведите в минуты, запишите в новые столбцы, удалите старые."
   ]
  },
  {
   "cell_type": "markdown",
   "metadata": {},
   "source": [
    "источники:https://ru.stackoverflow.com/questions/1349631/%D0%9A%D0%B0%D0%BA-%D1%83%D0%B1%D1%80%D0%B0%D1%82%D1%8C-%D0%BD%D0%B5%D0%BD%D1%83%D0%B6%D0%BD%D1%8B%D0%B5-%D1%81%D0%BB%D0%BE%D0%B2%D0%B0-%D0%B8-%D0%BE%D1%81%D1%82%D0%B0%D0%B2%D0%B8%D1%82%D1%8C-%D1%82%D0%BE%D0%BB%D1%8C%D0%BA%D0%BE-%D1%86%D0%B8%D1%84%D1%80%D1%8B\n",
    "\n",
    "\n",
    "https://dyakonov.org/2019/09/23/python-%D0%B8-pandas-%D0%B4%D0%B5%D0%BB%D0%B0%D0%B5%D0%BC-%D0%B1%D1%8B%D1%81%D1%82%D1%80%D0%B5%D0%B5/"
   ]
  },
  {
   "cell_type": "code",
   "execution_count": 4,
   "metadata": {},
   "outputs": [],
   "source": [
    "df['new_Daily_Studying_Time']=df['DailyStudingTime'].str.replace(r\"[^-\\d\\.]\", \"\", regex=True).str.split('-').apply(lambda x:x[0])\n",
    "df['new_Games_Spending_Time']=df['GamesSpendingTime'].str.replace(r\"[^-\\d\\.]\", \"\", regex=True).str.split('-').apply(lambda x:x[0])\n",
    "df['new_Travelling_Time']=df['TravellingTime '].str.replace(r\"[^-\\d\\.]\", \"\", regex=True).str.split('-').apply(lambda x:x[0])\n",
    "\n",
    "df.drop('DailyStudingTime', axis=1, inplace=True)\n",
    "df.drop('GamesSpendingTime',axis=1, inplace=True)\n",
    "df.drop('TravellingTime ', axis=1, inplace=True)"
   ]
  },
  {
   "cell_type": "code",
   "execution_count": 5,
   "metadata": {},
   "outputs": [],
   "source": [
    "# меняем значения в получившейся переменной время на путешествия и аналогично в остальных\n",
    "df['new_Travelling_Time'].unique()\n",
    "df['new_Travelling_Time'] = df['new_Travelling_Time'].replace('1', '60')\n",
    "df['new_Travelling_Time'] = df['new_Travelling_Time'].replace('2', '120')\n",
    "df['new_Travelling_Time'] = df['new_Travelling_Time'].replace('3', '180')\n",
    "df['new_Travelling_Time'] = df['new_Travelling_Time'].replace('1.30', '90')\n",
    "df['new_Travelling_Time'] = df['new_Travelling_Time'].replace('2.30', '150')"
   ]
  },
  {
   "cell_type": "code",
   "execution_count": 6,
   "metadata": {},
   "outputs": [],
   "source": [
    "df['new_Daily_Studying_Time'].unique()\n",
    "df['new_Daily_Studying_Time'] = df['new_Daily_Studying_Time'].replace('1', '60')\n",
    "df['new_Daily_Studying_Time'] = df['new_Daily_Studying_Time'].replace('2', '120')\n",
    "df['new_Daily_Studying_Time'] = df['new_Daily_Studying_Time'].replace('3', '180')\n",
    "df['new_Daily_Studying_Time'] = df['new_Daily_Studying_Time'].replace('4', '240')"
   ]
  },
  {
   "cell_type": "code",
   "execution_count": 7,
   "metadata": {},
   "outputs": [
    {
     "data": {
      "text/html": [
       "<div>\n",
       "<style scoped>\n",
       "    .dataframe tbody tr th:only-of-type {\n",
       "        vertical-align: middle;\n",
       "    }\n",
       "\n",
       "    .dataframe tbody tr th {\n",
       "        vertical-align: top;\n",
       "    }\n",
       "\n",
       "    .dataframe thead th {\n",
       "        text-align: right;\n",
       "    }\n",
       "</style>\n",
       "<table border=\"1\" class=\"dataframe\">\n",
       "  <thead>\n",
       "    <tr style=\"text-align: right;\">\n",
       "      <th></th>\n",
       "      <th>CertificationCourses</th>\n",
       "      <th>Gender</th>\n",
       "      <th>Department</th>\n",
       "      <th>Height(CM)</th>\n",
       "      <th>Weight(KG)</th>\n",
       "      <th>10Mark</th>\n",
       "      <th>12Mark</th>\n",
       "      <th>CollegeMark</th>\n",
       "      <th>Hobbies</th>\n",
       "      <th>PreferToStudyIn</th>\n",
       "      <th>SalaryExpectation</th>\n",
       "      <th>LikeDegree</th>\n",
       "      <th>CareerBasedonDegree</th>\n",
       "      <th>StressLevel</th>\n",
       "      <th>FinancialStatus</th>\n",
       "      <th>PartTimeJob?</th>\n",
       "      <th>new_Daily_Studying_Time</th>\n",
       "      <th>new_Games_Spending_Time</th>\n",
       "      <th>new_Travelling_Time</th>\n",
       "    </tr>\n",
       "  </thead>\n",
       "  <tbody>\n",
       "    <tr>\n",
       "      <th>0</th>\n",
       "      <td>No</td>\n",
       "      <td>Male</td>\n",
       "      <td>BCA</td>\n",
       "      <td>100.0</td>\n",
       "      <td>58.0</td>\n",
       "      <td>79.0</td>\n",
       "      <td>65.0</td>\n",
       "      <td>80.0</td>\n",
       "      <td>Video Games</td>\n",
       "      <td>Morning</td>\n",
       "      <td>40000</td>\n",
       "      <td>No</td>\n",
       "      <td>50%</td>\n",
       "      <td>Bad</td>\n",
       "      <td>Bad</td>\n",
       "      <td>No</td>\n",
       "      <td>0</td>\n",
       "      <td>90</td>\n",
       "      <td>30</td>\n",
       "    </tr>\n",
       "    <tr>\n",
       "      <th>1</th>\n",
       "      <td>No</td>\n",
       "      <td>Female</td>\n",
       "      <td>BCA</td>\n",
       "      <td>90.0</td>\n",
       "      <td>40.0</td>\n",
       "      <td>70.0</td>\n",
       "      <td>80.0</td>\n",
       "      <td>70.0</td>\n",
       "      <td>Cinema</td>\n",
       "      <td>Morning</td>\n",
       "      <td>15000</td>\n",
       "      <td>Yes</td>\n",
       "      <td>75%</td>\n",
       "      <td>Bad</td>\n",
       "      <td>Bad</td>\n",
       "      <td>No</td>\n",
       "      <td>30</td>\n",
       "      <td>60</td>\n",
       "      <td>0</td>\n",
       "    </tr>\n",
       "    <tr>\n",
       "      <th>2</th>\n",
       "      <td>Yes</td>\n",
       "      <td>Male</td>\n",
       "      <td>BCA</td>\n",
       "      <td>159.0</td>\n",
       "      <td>78.0</td>\n",
       "      <td>69.5</td>\n",
       "      <td>61.0</td>\n",
       "      <td>55.0</td>\n",
       "      <td>Cinema</td>\n",
       "      <td>Anytime</td>\n",
       "      <td>13000</td>\n",
       "      <td>Yes</td>\n",
       "      <td>50%</td>\n",
       "      <td>Awful</td>\n",
       "      <td>Bad</td>\n",
       "      <td>No</td>\n",
       "      <td>60</td>\n",
       "      <td>120</td>\n",
       "      <td>30</td>\n",
       "    </tr>\n",
       "    <tr>\n",
       "      <th>3</th>\n",
       "      <td>Yes</td>\n",
       "      <td>Female</td>\n",
       "      <td>BCA</td>\n",
       "      <td>147.0</td>\n",
       "      <td>20.0</td>\n",
       "      <td>70.0</td>\n",
       "      <td>59.0</td>\n",
       "      <td>58.0</td>\n",
       "      <td>Reading books</td>\n",
       "      <td>Anytime</td>\n",
       "      <td>1500000</td>\n",
       "      <td>No</td>\n",
       "      <td>50%</td>\n",
       "      <td>Bad</td>\n",
       "      <td>good</td>\n",
       "      <td>No</td>\n",
       "      <td>60</td>\n",
       "      <td>90</td>\n",
       "      <td>0</td>\n",
       "    </tr>\n",
       "    <tr>\n",
       "      <th>4</th>\n",
       "      <td>No</td>\n",
       "      <td>Male</td>\n",
       "      <td>BCA</td>\n",
       "      <td>170.0</td>\n",
       "      <td>54.0</td>\n",
       "      <td>40.0</td>\n",
       "      <td>65.0</td>\n",
       "      <td>30.0</td>\n",
       "      <td>Video Games</td>\n",
       "      <td>Morning</td>\n",
       "      <td>50000</td>\n",
       "      <td>Yes</td>\n",
       "      <td>25%</td>\n",
       "      <td>Good</td>\n",
       "      <td>good</td>\n",
       "      <td>No</td>\n",
       "      <td>30</td>\n",
       "      <td>90</td>\n",
       "      <td>30</td>\n",
       "    </tr>\n",
       "  </tbody>\n",
       "</table>\n",
       "</div>"
      ],
      "text/plain": [
       "  CertificationCourses  Gender Department  Height(CM)  Weight(KG)  10Mark  \\\n",
       "0                   No    Male        BCA       100.0        58.0    79.0   \n",
       "1                   No  Female        BCA        90.0        40.0    70.0   \n",
       "2                  Yes    Male        BCA       159.0        78.0    69.5   \n",
       "3                  Yes  Female        BCA       147.0        20.0    70.0   \n",
       "4                   No    Male        BCA       170.0        54.0    40.0   \n",
       "\n",
       "   12Mark  CollegeMark        Hobbies PreferToStudyIn  SalaryExpectation  \\\n",
       "0    65.0         80.0    Video Games         Morning              40000   \n",
       "1    80.0         70.0         Cinema         Morning              15000   \n",
       "2    61.0         55.0         Cinema         Anytime              13000   \n",
       "3    59.0         58.0  Reading books         Anytime            1500000   \n",
       "4    65.0         30.0    Video Games         Morning              50000   \n",
       "\n",
       "  LikeDegree CareerBasedonDegree StressLevel  FinancialStatus PartTimeJob?  \\\n",
       "0         No                 50%          Bad             Bad           No   \n",
       "1        Yes                 75%          Bad             Bad           No   \n",
       "2        Yes                 50%        Awful             Bad           No   \n",
       "3         No                 50%          Bad            good           No   \n",
       "4        Yes                 25%         Good            good           No   \n",
       "\n",
       "  new_Daily_Studying_Time new_Games_Spending_Time new_Travelling_Time  \n",
       "0                       0                      90                  30  \n",
       "1                      30                      60                   0  \n",
       "2                      60                     120                  30  \n",
       "3                      60                      90                   0  \n",
       "4                      30                      90                  30  "
      ]
     },
     "execution_count": 7,
     "metadata": {},
     "output_type": "execute_result"
    }
   ],
   "source": [
    "df['new_Games_Spending_Time'].unique()\n",
    "df['new_Games_Spending_Time']=df['new_Games_Spending_Time'].replace('1', '60')\n",
    "df['new_Games_Spending_Time']=df['new_Games_Spending_Time'].replace('2', '120')\n",
    "df['new_Games_Spending_Time']=df['new_Games_Spending_Time'].replace('1.30', '90')\n",
    "df.head()# удостовериться,  что все нужные значения на месте"
   ]
  },
  {
   "cell_type": "markdown",
   "metadata": {},
   "source": [
    "**Задание 5.**  Выбрете колонки (непрерывные переменные), которые будете использовать для предсказания целевой переменной с помощью knn"
   ]
  },
  {
   "cell_type": "code",
   "execution_count": 8,
   "metadata": {},
   "outputs": [
    {
     "data": {
      "text/html": [
       "<div>\n",
       "<style scoped>\n",
       "    .dataframe tbody tr th:only-of-type {\n",
       "        vertical-align: middle;\n",
       "    }\n",
       "\n",
       "    .dataframe tbody tr th {\n",
       "        vertical-align: top;\n",
       "    }\n",
       "\n",
       "    .dataframe thead th {\n",
       "        text-align: right;\n",
       "    }\n",
       "</style>\n",
       "<table border=\"1\" class=\"dataframe\">\n",
       "  <thead>\n",
       "    <tr style=\"text-align: right;\">\n",
       "      <th></th>\n",
       "      <th>Height(CM)</th>\n",
       "      <th>Weight(KG)</th>\n",
       "      <th>10Mark</th>\n",
       "      <th>12Mark</th>\n",
       "      <th>CollegeMark</th>\n",
       "      <th>SalaryExpectation</th>\n",
       "    </tr>\n",
       "  </thead>\n",
       "  <tbody>\n",
       "    <tr>\n",
       "      <th>count</th>\n",
       "      <td>235.000000</td>\n",
       "      <td>235.000000</td>\n",
       "      <td>235.000000</td>\n",
       "      <td>235.000000</td>\n",
       "      <td>235.000000</td>\n",
       "      <td>2.350000e+02</td>\n",
       "    </tr>\n",
       "    <tr>\n",
       "      <th>mean</th>\n",
       "      <td>157.402128</td>\n",
       "      <td>60.803830</td>\n",
       "      <td>76.842128</td>\n",
       "      <td>68.780128</td>\n",
       "      <td>70.660553</td>\n",
       "      <td>3.248168e+04</td>\n",
       "    </tr>\n",
       "    <tr>\n",
       "      <th>std</th>\n",
       "      <td>21.510805</td>\n",
       "      <td>14.895844</td>\n",
       "      <td>13.050800</td>\n",
       "      <td>11.016533</td>\n",
       "      <td>15.727446</td>\n",
       "      <td>1.113146e+05</td>\n",
       "    </tr>\n",
       "    <tr>\n",
       "      <th>min</th>\n",
       "      <td>4.500000</td>\n",
       "      <td>20.000000</td>\n",
       "      <td>7.400000</td>\n",
       "      <td>45.000000</td>\n",
       "      <td>1.000000</td>\n",
       "      <td>0.000000e+00</td>\n",
       "    </tr>\n",
       "    <tr>\n",
       "      <th>25%</th>\n",
       "      <td>152.000000</td>\n",
       "      <td>50.000000</td>\n",
       "      <td>70.000000</td>\n",
       "      <td>60.000000</td>\n",
       "      <td>60.000000</td>\n",
       "      <td>1.500000e+04</td>\n",
       "    </tr>\n",
       "    <tr>\n",
       "      <th>50%</th>\n",
       "      <td>160.000000</td>\n",
       "      <td>60.000000</td>\n",
       "      <td>80.000000</td>\n",
       "      <td>69.000000</td>\n",
       "      <td>70.000000</td>\n",
       "      <td>2.000000e+04</td>\n",
       "    </tr>\n",
       "    <tr>\n",
       "      <th>75%</th>\n",
       "      <td>170.000000</td>\n",
       "      <td>70.000000</td>\n",
       "      <td>86.250000</td>\n",
       "      <td>76.000000</td>\n",
       "      <td>80.000000</td>\n",
       "      <td>2.500000e+04</td>\n",
       "    </tr>\n",
       "    <tr>\n",
       "      <th>max</th>\n",
       "      <td>192.000000</td>\n",
       "      <td>106.000000</td>\n",
       "      <td>98.000000</td>\n",
       "      <td>94.000000</td>\n",
       "      <td>100.000000</td>\n",
       "      <td>1.500000e+06</td>\n",
       "    </tr>\n",
       "  </tbody>\n",
       "</table>\n",
       "</div>"
      ],
      "text/plain": [
       "       Height(CM)  Weight(KG)      10Mark      12Mark  CollegeMark  \\\n",
       "count  235.000000  235.000000  235.000000  235.000000   235.000000   \n",
       "mean   157.402128   60.803830   76.842128   68.780128    70.660553   \n",
       "std     21.510805   14.895844   13.050800   11.016533    15.727446   \n",
       "min      4.500000   20.000000    7.400000   45.000000     1.000000   \n",
       "25%    152.000000   50.000000   70.000000   60.000000    60.000000   \n",
       "50%    160.000000   60.000000   80.000000   69.000000    70.000000   \n",
       "75%    170.000000   70.000000   86.250000   76.000000    80.000000   \n",
       "max    192.000000  106.000000   98.000000   94.000000   100.000000   \n",
       "\n",
       "       SalaryExpectation  \n",
       "count       2.350000e+02  \n",
       "mean        3.248168e+04  \n",
       "std         1.113146e+05  \n",
       "min         0.000000e+00  \n",
       "25%         1.500000e+04  \n",
       "50%         2.000000e+04  \n",
       "75%         2.500000e+04  \n",
       "max         1.500000e+06  "
      ]
     },
     "execution_count": 8,
     "metadata": {},
     "output_type": "execute_result"
    }
   ],
   "source": [
    "df.describe() # на основе имеющихся переменных, для предсказания ЦП будут взяты: оценка 12Mark, College Mark и Salary Expectation"
   ]
  },
  {
   "cell_type": "markdown",
   "metadata": {},
   "source": [
    "**Задание 6.**  Есть ли в выбранных колонках выбросы? (Пока не нужно их чистить)"
   ]
  },
  {
   "cell_type": "code",
   "execution_count": 9,
   "metadata": {},
   "outputs": [
    {
     "data": {
      "image/png": "[encoded data removed]",
      "text/plain": [
       "<Figure size 1008x648 with 4 Axes>"
      ]
     },
     "metadata": {
      "needs_background": "light"
     },
     "output_type": "display_data"
    }
   ],
   "source": [
    "import matplotlib.pyplot as plt\n",
    "fig, ax = plt.subplots(2,2, figsize=(14,9))\n",
    "\n",
    "ax[0][0].boxplot(df['12Mark']);\n",
    "ax[0][0].set_title('12Mark');\n",
    "\n",
    "ax[0][1].boxplot(df.CollegeMark);\n",
    "ax[0][1].set_title('CollegeMark');\n",
    "\n",
    "ax[1][0].boxplot(df.SalaryExpectation);\n",
    "ax[1][0].set_title('SalaryExpectation');\n",
    "\n",
    "# видим, что выбросы присутствуют в College Mark и Salary Expectation, в последнем количество которых больше, что возможно связано с тем, что оценки в колледже имеют четкие верхние и нижние границы, в то время как зарплатные ожиания могут быть любого размера\n"
   ]
  },
  {
   "cell_type": "markdown",
   "metadata": {},
   "source": [
    "**Задание 7.**  Как распределена целевая переменная? Нет ли дисбаланса классов? Если есть дисбаланс, какие метрики качества классификатора можно использовать, какие нет? Рассматриваем метрики, которые проходили в рамках курса."
   ]
  },
  {
   "cell_type": "code",
   "execution_count": 10,
   "metadata": {},
   "outputs": [
    {
     "data": {
      "text/plain": [
       "<AxesSubplot:>"
      ]
     },
     "execution_count": 10,
     "metadata": {},
     "output_type": "execute_result"
    },
    {
     "data": {
      "image/png": "[encoded data removed]",
      "text/plain": [
       "<Figure size 432x288 with 1 Axes>"
      ]
     },
     "metadata": {
      "needs_background": "light"
     },
     "output_type": "display_data"
    }
   ],
   "source": [
    "y=df['LikeDegree']\n",
    "y.hist(color = \"skyblue\")\n",
    "# дисбаланс классов присутствует, так как доля ответивших утвердительно почти в 10 раз больше ответивших отрицательно.\n",
    "# в качестве метрик качества можно взять f1, полнота recall и точность precision \n",
    "# accuracy не берем из-за имеющейся у нас проблемы неравных классов которую она не учитывает"
   ]
  },
  {
   "cell_type": "markdown",
   "metadata": {},
   "source": [
    "**Задание 8.**  Переведите целевую переменную к численному формату."
   ]
  },
  {
   "cell_type": "code",
   "execution_count": 11,
   "metadata": {},
   "outputs": [
    {
     "name": "stderr",
     "output_type": "stream",
     "text": [
      "/var/folders/mp/4ncxpf7d2wg2lslq6lky9swh0000gn/T/ipykernel_25241/3827330172.py:2: SettingWithCopyWarning: \n",
      "A value is trying to be set on a copy of a slice from a DataFrame\n",
      "\n",
      "See the caveats in the documentation: https://pandas.pydata.org/pandas-docs/stable/user_guide/indexing.html#returning-a-view-versus-a-copy\n",
      "  y[y == 'Yes'] = 1\n",
      "/var/folders/mp/4ncxpf7d2wg2lslq6lky9swh0000gn/T/ipykernel_25241/3827330172.py:3: SettingWithCopyWarning: \n",
      "A value is trying to be set on a copy of a slice from a DataFrame\n",
      "\n",
      "See the caveats in the documentation: https://pandas.pydata.org/pandas-docs/stable/user_guide/indexing.html#returning-a-view-versus-a-copy\n",
      "  y[y == 'No'] = -1\n"
     ]
    },
    {
     "data": {
      "text/html": [
       "<div>\n",
       "<style scoped>\n",
       "    .dataframe tbody tr th:only-of-type {\n",
       "        vertical-align: middle;\n",
       "    }\n",
       "\n",
       "    .dataframe tbody tr th {\n",
       "        vertical-align: top;\n",
       "    }\n",
       "\n",
       "    .dataframe thead th {\n",
       "        text-align: right;\n",
       "    }\n",
       "</style>\n",
       "<table border=\"1\" class=\"dataframe\">\n",
       "  <thead>\n",
       "    <tr style=\"text-align: right;\">\n",
       "      <th></th>\n",
       "      <th>CertificationCourses</th>\n",
       "      <th>Gender</th>\n",
       "      <th>Department</th>\n",
       "      <th>Height(CM)</th>\n",
       "      <th>Weight(KG)</th>\n",
       "      <th>10Mark</th>\n",
       "      <th>12Mark</th>\n",
       "      <th>CollegeMark</th>\n",
       "      <th>Hobbies</th>\n",
       "      <th>PreferToStudyIn</th>\n",
       "      <th>SalaryExpectation</th>\n",
       "      <th>LikeDegree</th>\n",
       "      <th>CareerBasedonDegree</th>\n",
       "      <th>StressLevel</th>\n",
       "      <th>FinancialStatus</th>\n",
       "      <th>PartTimeJob?</th>\n",
       "      <th>new_Daily_Studying_Time</th>\n",
       "      <th>new_Games_Spending_Time</th>\n",
       "      <th>new_Travelling_Time</th>\n",
       "    </tr>\n",
       "  </thead>\n",
       "  <tbody>\n",
       "    <tr>\n",
       "      <th>0</th>\n",
       "      <td>No</td>\n",
       "      <td>Male</td>\n",
       "      <td>BCA</td>\n",
       "      <td>100.0</td>\n",
       "      <td>58.0</td>\n",
       "      <td>79.0</td>\n",
       "      <td>65.0</td>\n",
       "      <td>80.0</td>\n",
       "      <td>Video Games</td>\n",
       "      <td>Morning</td>\n",
       "      <td>40000</td>\n",
       "      <td>-1</td>\n",
       "      <td>50%</td>\n",
       "      <td>Bad</td>\n",
       "      <td>Bad</td>\n",
       "      <td>No</td>\n",
       "      <td>0</td>\n",
       "      <td>90</td>\n",
       "      <td>30</td>\n",
       "    </tr>\n",
       "    <tr>\n",
       "      <th>1</th>\n",
       "      <td>No</td>\n",
       "      <td>Female</td>\n",
       "      <td>BCA</td>\n",
       "      <td>90.0</td>\n",
       "      <td>40.0</td>\n",
       "      <td>70.0</td>\n",
       "      <td>80.0</td>\n",
       "      <td>70.0</td>\n",
       "      <td>Cinema</td>\n",
       "      <td>Morning</td>\n",
       "      <td>15000</td>\n",
       "      <td>1</td>\n",
       "      <td>75%</td>\n",
       "      <td>Bad</td>\n",
       "      <td>Bad</td>\n",
       "      <td>No</td>\n",
       "      <td>30</td>\n",
       "      <td>60</td>\n",
       "      <td>0</td>\n",
       "    </tr>\n",
       "    <tr>\n",
       "      <th>2</th>\n",
       "      <td>Yes</td>\n",
       "      <td>Male</td>\n",
       "      <td>BCA</td>\n",
       "      <td>159.0</td>\n",
       "      <td>78.0</td>\n",
       "      <td>69.5</td>\n",
       "      <td>61.0</td>\n",
       "      <td>55.0</td>\n",
       "      <td>Cinema</td>\n",
       "      <td>Anytime</td>\n",
       "      <td>13000</td>\n",
       "      <td>1</td>\n",
       "      <td>50%</td>\n",
       "      <td>Awful</td>\n",
       "      <td>Bad</td>\n",
       "      <td>No</td>\n",
       "      <td>60</td>\n",
       "      <td>120</td>\n",
       "      <td>30</td>\n",
       "    </tr>\n",
       "    <tr>\n",
       "      <th>3</th>\n",
       "      <td>Yes</td>\n",
       "      <td>Female</td>\n",
       "      <td>BCA</td>\n",
       "      <td>147.0</td>\n",
       "      <td>20.0</td>\n",
       "      <td>70.0</td>\n",
       "      <td>59.0</td>\n",
       "      <td>58.0</td>\n",
       "      <td>Reading books</td>\n",
       "      <td>Anytime</td>\n",
       "      <td>1500000</td>\n",
       "      <td>-1</td>\n",
       "      <td>50%</td>\n",
       "      <td>Bad</td>\n",
       "      <td>good</td>\n",
       "      <td>No</td>\n",
       "      <td>60</td>\n",
       "      <td>90</td>\n",
       "      <td>0</td>\n",
       "    </tr>\n",
       "    <tr>\n",
       "      <th>4</th>\n",
       "      <td>No</td>\n",
       "      <td>Male</td>\n",
       "      <td>BCA</td>\n",
       "      <td>170.0</td>\n",
       "      <td>54.0</td>\n",
       "      <td>40.0</td>\n",
       "      <td>65.0</td>\n",
       "      <td>30.0</td>\n",
       "      <td>Video Games</td>\n",
       "      <td>Morning</td>\n",
       "      <td>50000</td>\n",
       "      <td>1</td>\n",
       "      <td>25%</td>\n",
       "      <td>Good</td>\n",
       "      <td>good</td>\n",
       "      <td>No</td>\n",
       "      <td>30</td>\n",
       "      <td>90</td>\n",
       "      <td>30</td>\n",
       "    </tr>\n",
       "  </tbody>\n",
       "</table>\n",
       "</div>"
      ],
      "text/plain": [
       "  CertificationCourses  Gender Department  Height(CM)  Weight(KG)  10Mark  \\\n",
       "0                   No    Male        BCA       100.0        58.0    79.0   \n",
       "1                   No  Female        BCA        90.0        40.0    70.0   \n",
       "2                  Yes    Male        BCA       159.0        78.0    69.5   \n",
       "3                  Yes  Female        BCA       147.0        20.0    70.0   \n",
       "4                   No    Male        BCA       170.0        54.0    40.0   \n",
       "\n",
       "   12Mark  CollegeMark        Hobbies PreferToStudyIn  SalaryExpectation  \\\n",
       "0    65.0         80.0    Video Games         Morning              40000   \n",
       "1    80.0         70.0         Cinema         Morning              15000   \n",
       "2    61.0         55.0         Cinema         Anytime              13000   \n",
       "3    59.0         58.0  Reading books         Anytime            1500000   \n",
       "4    65.0         30.0    Video Games         Morning              50000   \n",
       "\n",
       "  LikeDegree CareerBasedonDegree StressLevel  FinancialStatus PartTimeJob?  \\\n",
       "0         -1                 50%          Bad             Bad           No   \n",
       "1          1                 75%          Bad             Bad           No   \n",
       "2          1                 50%        Awful             Bad           No   \n",
       "3         -1                 50%          Bad            good           No   \n",
       "4          1                 25%         Good            good           No   \n",
       "\n",
       "  new_Daily_Studying_Time new_Games_Spending_Time new_Travelling_Time  \n",
       "0                       0                      90                  30  \n",
       "1                      30                      60                   0  \n",
       "2                      60                     120                  30  \n",
       "3                      60                      90                   0  \n",
       "4                      30                      90                  30  "
      ]
     },
     "execution_count": 11,
     "metadata": {},
     "output_type": "execute_result"
    }
   ],
   "source": [
    "# источник: семинар 13\n",
    "y[y == 'Yes'] = 1\n",
    "y[y == 'No'] = -1\n",
    "df.head()"
   ]
  },
  {
   "cell_type": "markdown",
   "metadata": {},
   "source": [
    "### Часть 2: Строим модели\n",
    "**Задание 1.** Разбейте выборку на обучающую и тестовую. "
   ]
  },
  {
   "cell_type": "code",
   "execution_count": 12,
   "metadata": {},
   "outputs": [
    {
     "name": "stdout",
     "output_type": "stream",
     "text": [
      "Размер обучающей выборки: (164, 3)\n",
      "Размер тестовой выборки: (71, 3)\n"
     ]
    }
   ],
   "source": [
    "#источник: семинар 12\n",
    "import numpy as np\n",
    "from sklearn.model_selection import train_test_split\n",
    "from sklearn.preprocessing import StandardScaler\n",
    "np.random.seed(123)\n",
    "X = df[['12Mark', 'CollegeMark', 'SalaryExpectation']]\n",
    "X_train, X_test, y_train, y_test = train_test_split(X, y, test_size = 0.3)\n",
    "\n",
    "print(\"Размер обучающей выборки:\", X_train.shape)\n",
    "print(\"Размер тестовой выборки:\", X_test.shape)"
   ]
  },
  {
   "cell_type": "markdown",
   "metadata": {},
   "source": [
    "**Задание 2.** Постройте наивную модель предсказания для целевой переменной. Наивная модель - это самая простая модель, без сложных зависимостей. Например, для регрессии наивная модель - среднее для целевой переменной (см. семинар 11). В данном случае наивной моделью может быть преположение \"все студенты (не)довольны\"."
   ]
  },
  {
   "cell_type": "code",
   "execution_count": 13,
   "metadata": {},
   "outputs": [
    {
     "name": "stdout",
     "output_type": "stream",
     "text": [
      "RMSE: 0.5814018997338111\n"
     ]
    }
   ],
   "source": [
    "# источник: семинар 11\n",
    "y_m = 1 # предположим, что все студенты довольны (среднее/медиана будут равны 1)\n",
    "y_pred_naive = np.ones(len(y_test)) * y_m  \n",
    "y_pred_naive[:3]\n",
    "\n",
    "from sklearn.metrics import mean_squared_error\n",
    "\n",
    "def rmse(y_test, y_pred):\n",
    "    return np.sqrt(mean_squared_error(y_test, y_pred))\n",
    "print(\"RMSE:\", rmse(y_test, y_pred_naive))"
   ]
  },
  {
   "cell_type": "markdown",
   "metadata": {},
   "source": [
    "**Задание 3.** Постройте модели ближайших соседей для 3, 5, 7 ближайших соседей. "
   ]
  },
  {
   "cell_type": "code",
   "execution_count": 14,
   "metadata": {},
   "outputs": [],
   "source": [
    "needed_variables = [\"12Mark\", \n",
    "                  \"CollegeMark\",\n",
    "                  \"SalaryExpectation\"\n",
    "                 ]\n",
    "y_train=y_train.to_numpy().astype('int')\n",
    "y_test=y_test.to_numpy().astype('int')"
   ]
  },
  {
   "cell_type": "code",
   "execution_count": 15,
   "metadata": {},
   "outputs": [
    {
     "name": "stdout",
     "output_type": "stream",
     "text": [
      "[1.         0.66666667 0.66666667 1.         1.         0.66666667\n",
      " 1.         1.         1.         1.         1.         0.66666667\n",
      " 1.         1.         1.         1.         0.66666667 0.66666667\n",
      " 1.         0.66666667 1.         1.         1.         1.\n",
      " 1.         1.         1.         1.         1.         1.\n",
      " 0.66666667 0.66666667 1.         1.         1.         0.66666667\n",
      " 0.66666667 1.         1.         1.         1.         1.\n",
      " 1.         1.         1.         1.         0.66666667 1.\n",
      " 0.66666667 0.66666667 0.66666667 1.         1.         1.\n",
      " 1.         0.66666667 1.         1.         1.         1.\n",
      " 1.         0.66666667 1.         1.         1.         1.\n",
      " 0.66666667 0.66666667 1.         1.         1.        ]\n"
     ]
    }
   ],
   "source": [
    "# при 3 ближайших соседях мы получаем следующее\n",
    "from sklearn.neighbors import KNeighborsClassifier\n",
    "classifier = KNeighborsClassifier(n_neighbors=3)\n",
    "classifier.fit(X_train, y_train)\n",
    "y_pred_knn = classifier.predict(X_test)\n",
    "p_pred_knn = classifier.predict_proba(X_test) \n",
    "p_pred_knn = p_pred_knn[:, 1]\n",
    "print(p_pred_knn)"
   ]
  },
  {
   "cell_type": "code",
   "execution_count": 16,
   "metadata": {},
   "outputs": [
    {
     "name": "stdout",
     "output_type": "stream",
     "text": [
      "[1.  0.8 0.8 1.  1.  0.8 1.  0.8 1.  1.  1.  0.8 1.  1.  1.  0.8 0.8 0.8\n",
      " 0.8 0.8 1.  1.  1.  1.  1.  1.  1.  1.  0.8 1.  0.8 0.8 0.8 1.  1.  0.8\n",
      " 0.8 1.  1.  1.  1.  1.  0.8 1.  1.  1.  0.8 1.  0.8 0.8 0.8 0.8 1.  1.\n",
      " 1.  0.8 1.  1.  1.  1.  1.  0.8 1.  1.  1.  1.  0.8 0.8 0.8 1.  1. ]\n"
     ]
    }
   ],
   "source": [
    "classifier = KNeighborsClassifier(n_neighbors=5)\n",
    "classifier.fit(X_train, y_train)\n",
    "y_pred_knn = classifier.predict(X_test)\n",
    "p_pred_knn = classifier.predict_proba(X_test) \n",
    "p_pred_knn = p_pred_knn[:, 1]\n",
    "print(p_pred_knn)"
   ]
  },
  {
   "cell_type": "code",
   "execution_count": 17,
   "metadata": {},
   "outputs": [
    {
     "name": "stdout",
     "output_type": "stream",
     "text": [
      "[[0.14285714 0.85714286]\n",
      " [0.14285714 0.85714286]\n",
      " [0.14285714 0.85714286]\n",
      " [0.         1.        ]\n",
      " [0.         1.        ]\n",
      " [0.14285714 0.85714286]\n",
      " [0.14285714 0.85714286]\n",
      " [0.14285714 0.85714286]\n",
      " [0.         1.        ]\n",
      " [0.14285714 0.85714286]\n",
      " [0.         1.        ]\n",
      " [0.14285714 0.85714286]\n",
      " [0.14285714 0.85714286]\n",
      " [0.14285714 0.85714286]\n",
      " [0.         1.        ]\n",
      " [0.14285714 0.85714286]\n",
      " [0.14285714 0.85714286]\n",
      " [0.14285714 0.85714286]\n",
      " [0.14285714 0.85714286]\n",
      " [0.14285714 0.85714286]\n",
      " [0.         1.        ]\n",
      " [0.         1.        ]\n",
      " [0.14285714 0.85714286]\n",
      " [0.         1.        ]\n",
      " [0.14285714 0.85714286]\n",
      " [0.         1.        ]\n",
      " [0.14285714 0.85714286]\n",
      " [0.         1.        ]\n",
      " [0.14285714 0.85714286]\n",
      " [0.14285714 0.85714286]\n",
      " [0.14285714 0.85714286]\n",
      " [0.14285714 0.85714286]\n",
      " [0.14285714 0.85714286]\n",
      " [0.         1.        ]\n",
      " [0.14285714 0.85714286]\n",
      " [0.28571429 0.71428571]\n",
      " [0.14285714 0.85714286]\n",
      " [0.         1.        ]\n",
      " [0.14285714 0.85714286]\n",
      " [0.         1.        ]\n",
      " [0.         1.        ]\n",
      " [0.14285714 0.85714286]\n",
      " [0.28571429 0.71428571]\n",
      " [0.         1.        ]\n",
      " [0.         1.        ]\n",
      " [0.         1.        ]\n",
      " [0.14285714 0.85714286]\n",
      " [0.         1.        ]\n",
      " [0.14285714 0.85714286]\n",
      " [0.14285714 0.85714286]\n",
      " [0.14285714 0.85714286]\n",
      " [0.28571429 0.71428571]\n",
      " [0.         1.        ]\n",
      " [0.         1.        ]\n",
      " [0.         1.        ]\n",
      " [0.28571429 0.71428571]\n",
      " [0.         1.        ]\n",
      " [0.         1.        ]\n",
      " [0.14285714 0.85714286]\n",
      " [0.14285714 0.85714286]\n",
      " [0.14285714 0.85714286]\n",
      " [0.14285714 0.85714286]\n",
      " [0.         1.        ]\n",
      " [0.         1.        ]\n",
      " [0.         1.        ]\n",
      " [0.14285714 0.85714286]\n",
      " [0.14285714 0.85714286]\n",
      " [0.14285714 0.85714286]\n",
      " [0.14285714 0.85714286]\n",
      " [0.         1.        ]\n",
      " [0.14285714 0.85714286]]\n"
     ]
    }
   ],
   "source": [
    "classifier = KNeighborsClassifier(n_neighbors=7)\n",
    "classifier.fit(X_train, y_train)\n",
    "y_pred_knn = classifier.predict(X_test)\n",
    "p_pred_knn = classifier.predict_proba(X_test) \n",
    "p_pred_knn = p_pred_knn\n",
    "print(p_pred_knn)"
   ]
  },
  {
   "cell_type": "markdown",
   "metadata": {},
   "source": [
    "**Задание 4.** Постройте метрики качества на тестовой выборке (3 известных вам) для моделей из 1 и 2 задания и сравните между собой. Какая победила? "
   ]
  },
  {
   "cell_type": "code",
   "execution_count": 18,
   "metadata": {},
   "outputs": [
    {
     "name": "stdout",
     "output_type": "stream",
     "text": [
      "Полнота_knn :  1.0\n",
      "Точность_knn :  0.9154929577464789\n",
      "F-мера_knn :  0.9558823529411764\n",
      "ROC :  0.5\n"
     ]
    }
   ],
   "source": [
    "# источник: семинар 12\n",
    "from sklearn.metrics import recall_score, precision_score, f1_score, roc_auc_score\n",
    "print('Полнота_knn : ', recall_score(y_test, y_pred_knn)) # алгоритм способен обнаружить все объекты нужного класса\n",
    "print('Точность_knn : ', precision_score(y_test, y_pred_knn)) # получили, что доля правильно спрогнозированных ответов довольно большая, то есть алгоритму можно доверять\n",
    "print('F-мера_knn : ', f1_score(y_test, y_pred_knn))# точность классовой детерминации также почти идеальна\n",
    "print('ROC : ', roc_auc_score(y_test,y_pred_knn)) # добавим ROC как еще одну характеристику качества классификации модели\n",
    "# в целом, судя по значениям, наша модель"
   ]
  },
  {
   "cell_type": "code",
   "execution_count": 19,
   "metadata": {},
   "outputs": [
    {
     "name": "stdout",
     "output_type": "stream",
     "text": [
      "Полнота_naive :  1.0\n",
      "Точность_naive :  0.9154929577464789\n",
      "F-мера_naive :  0.9558823529411764\n"
     ]
    }
   ],
   "source": [
    "print('Полнота_naive : ', recall_score(y_test, y_pred_naive)) \n",
    "print('Точность_naive : ', precision_score(y_test, y_pred_naive))\n",
    "print('F-мера_naive : ', f1_score(y_test, y_pred_naive))"
   ]
  },
  {
   "cell_type": "markdown",
   "metadata": {},
   "source": [
    "*Видим, что метрики оказались одинаковыми, что вероятно, имеет место из-за того, что обе модели довольно простые, а наше распределение переменной несбалансировано, изначальное наивное предположение о том, что все студенты довольны, оказывается в целом обоснованным при соотношении 200:25(недовольных)*"
   ]
  },
  {
   "cell_type": "markdown",
   "metadata": {},
   "source": [
    "**Задание 5.** Примените шкалирование (MinMax, обучите его на обучающей выборке к факторам, затем примените к тестовой), снова постройте модели для нескольких вариантов соседей (3, 5, 7). Помогло ли шкалирование? "
   ]
  },
  {
   "cell_type": "code",
   "execution_count": 21,
   "metadata": {},
   "outputs": [
    {
     "name": "stdout",
     "output_type": "stream",
     "text": [
      "1.0 0.9591836734693877\n"
     ]
    }
   ],
   "source": [
    "#семинар 12\n",
    "from sklearn.preprocessing import MinMaxScaler\n",
    "scaler = MinMaxScaler( )\n",
    "scaler.fit(X_train) \n",
    "X_train_norm = scaler.transform(X_train) \n",
    "X_test_norm = scaler.transform(X_test)\n",
    "print(X_train_norm.max(), X_test_norm.max())"
   ]
  },
  {
   "cell_type": "code",
   "execution_count": 31,
   "metadata": {},
   "outputs": [
    {
     "name": "stdout",
     "output_type": "stream",
     "text": [
      "Полнота_knn_3_sca1 :  0.9692307692307692\n",
      "Точность_knn_3_sca1 :  0.9130434782608695\n",
      "F-мера_knn_3_sca1 :  0.9402985074626865\n",
      "ROC_3_sca1 :  0.4846153846153846\n"
     ]
    }
   ],
   "source": [
    "classifier = KNeighborsClassifier(n_neighbors=3)\n",
    "classifier.fit(X_train_norm, y_train)\n",
    "y_pred_knn_scal = classifier.predict(X_test_norm)\n",
    "p_pred_knn = classifier.predict_proba(X_test_norm) \n",
    "p_pred_knn = p_pred_knn[:, 1]\n",
    "p_pred_knn\n",
    "print('Полнота_knn_3_sca1 : ', recall_score(y_test, y_pred_knn_scal.astype('int'))) \n",
    "print('Точность_knn_3_sca1 : ', precision_score(y_test, y_pred_knn_scal.astype('int'))) \n",
    "print('F-мера_knn_3_sca1 : ', f1_score(y_test, y_pred_knn_scal.astype('int')))\n",
    "print('ROC_3_sca1 : ', roc_auc_score(y_test,y_pred_knn_scal.astype('int')))\n",
    "# при шкалировании и knn, n=3, метрики качества в целом снижаются, полнота модели становится меньше, также и ее точность. \n",
    "# возможно, при уменьшении числа соседей мы попадаем в окружение только тех, кому не понравилось, что создает ложный эффект большиснства"
   ]
  },
  {
   "cell_type": "code",
   "execution_count": 30,
   "metadata": {},
   "outputs": [
    {
     "name": "stdout",
     "output_type": "stream",
     "text": [
      "Полнота_knn_5_scal :  1.0\n",
      "Точность_knn_5_scal :  0.9154929577464789\n",
      "F-мера_knn_5_scal :  0.9558823529411764\n"
     ]
    }
   ],
   "source": [
    "classifier = KNeighborsClassifier(n_neighbors=5)\n",
    "classifier.fit(X_train_norm, y_train)\n",
    "y_pred_knn2 = classifier.predict(X_test_norm)\n",
    "p_pred_knn = classifier.predict_proba(X_test_norm) \n",
    "p_pred_knn = p_pred_knn[:, 1]\n",
    "p_pred_knn\n",
    "print('Полнота_knn_5_scal : ', recall_score(y_test, y_pred_knn2.astype('int'))) \n",
    "print('Точность_knn_5_scal : ', precision_score(y_test, y_pred_knn2.astype('int'))) \n",
    "print('F-мера_knn_5_scal : ', f1_score(y_test, y_pred_knn2.astype('int')))"
   ]
  },
  {
   "cell_type": "code",
   "execution_count": 29,
   "metadata": {},
   "outputs": [
    {
     "name": "stdout",
     "output_type": "stream",
     "text": [
      "Полнота_knn_7_sca1 :  1.0\n",
      "Точность_knn_7_sca1 :  0.9154929577464789\n",
      "F-мера_knn_7_sca1 :  0.9558823529411764\n"
     ]
    }
   ],
   "source": [
    "classifier = KNeighborsClassifier(n_neighbors=7)\n",
    "classifier.fit(X_train_norm, y_train)\n",
    "y_pred_knn3 = classifier.predict(X_test_norm)\n",
    "p_pred_knn = classifier.predict_proba(X_test_norm) \n",
    "p_pred_knn = p_pred_knn[:, 1]\n",
    "p_pred_knn\n",
    "\n",
    "print('Полнота_knn_7_sca1 : ', recall_score(y_test, y_pred_knn3.astype('int'))) \n",
    "print('Точность_knn_7_sca1 : ', precision_score(y_test, y_pred_knn3.astype('int'))) \n",
    "print('F-мера_knn_7_sca1 : ', f1_score(y_test, y_pred_knn3.astype('int')))\n",
    "#при увеличении расстояния 5 соседей до 7 метрики также сохраняют свои значения"
   ]
  },
  {
   "cell_type": "markdown",
   "metadata": {},
   "source": [
    "*При шкалировании наши метрики не изменили свои значения в сравнении с исходными вариантами, то есть оно нам не помогло в улучшении качества модели, что может быть из-за того, что переменные вносят одинаковый вклад в целевую-удовлетворенность обучением*"
   ]
  },
  {
   "cell_type": "markdown",
   "metadata": {},
   "source": [
    "**Задание 6.** Избавьтесь от выбросов в исходной выборке, затем снова разделите ее на тестовую и обучающую, постройте модель для нескольких вариантов числа соседей(3, 5, 7). Какое число соседей лучшее и почему? Улучшилось ли качество модели по сравнению со лучшей моделью, в которой было применено шкалирование из задания 5?"
   ]
  },
  {
   "cell_type": "code",
   "execution_count": 200,
   "metadata": {},
   "outputs": [],
   "source": [
    "# семинар 12\n",
    "X_train[needed_variables] = X_train[needed_variables].apply(lambda w: np.log(w + 1))\n",
    "X_test[needed_variables] = X_test[needed_variables].apply(lambda w: np.log(w + 1))\n",
    "X_train_new = X_train[needed_variables].to_numpy()\n",
    "X_test_new = X_test[needed_variables].to_numpy()"
   ]
  },
  {
   "cell_type": "code",
   "execution_count": 210,
   "metadata": {},
   "outputs": [
    {
     "name": "stdout",
     "output_type": "stream",
     "text": [
      "Полнота без выбросов_knn :  1.0\n",
      "Точность без выбросов_knn :  0.9154929577464789\n",
      "F-мера без выбросов_knn1 :  0.9558823529411764\n",
      "ROC :  0.5\n"
     ]
    }
   ],
   "source": [
    "classifier = KNeighborsClassifier(n_neighbors=3)\n",
    "classifier.fit(X_train_new, y_train)\n",
    "y_pred_knn_absolutely_new0 = classifier.predict(X_test_new)\n",
    "p_pred_knn = classifier.predict_proba(X_test_new) \n",
    "p_pred_knn = p_pred_knn[:, 1]\n",
    "print('Полнота без выбросов_knn : ', recall_score(y_test, y_pred_knn_absolutely_new0)) \n",
    "print('Точность без выбросов_knn : ', precision_score(y_test, y_pred_knn_absolutely_new0)) \n",
    "print('F-мера без выбросов_knn1 : ', f1_score(y_test, y_pred_knn_absolutely_new0))\n",
    "print('ROC : ', roc_auc_score(y_test, y_pred_knn_absolutely_new0))"
   ]
  },
  {
   "cell_type": "code",
   "execution_count": 205,
   "metadata": {},
   "outputs": [
    {
     "name": "stdout",
     "output_type": "stream",
     "text": [
      "Полнота без выбросов_knn :  1.0\n",
      "Точность без выбросов_knn :  0.9154929577464789\n",
      "F-мера без выбросов_knn1 :  0.9558823529411764\n",
      "ROC :  0.5\n"
     ]
    }
   ],
   "source": [
    "classifier = KNeighborsClassifier(n_neighbors=5)\n",
    "classifier.fit(X_train_new, y_train)\n",
    "y_pred_knn_absolutely_new = classifier.predict(X_test_new)\n",
    "p_pred_knn = classifier.predict_proba(X_test_new) \n",
    "p_pred_knn = p_pred_knn[:, 1]\n",
    "print('Полнота без выбросов_knn : ', recall_score(y_test, y_pred_knn_absolutely_new)) \n",
    "print('Точность без выбросов_knn : ', precision_score(y_test, y_pred_knn_absolutely_new)) \n",
    "print('F-мера без выбросов_knn1 : ', f1_score(y_test, y_pred_knn_absolutely_new))\n",
    "print('ROC : ', roc_auc_score(y_test,y_pred_knn11))"
   ]
  },
  {
   "cell_type": "code",
   "execution_count": 215,
   "metadata": {},
   "outputs": [
    {
     "name": "stdout",
     "output_type": "stream",
     "text": [
      "Полнота без выбросов_knn :  1.0\n",
      "Точность без выбросов_knn :  0.9154929577464789\n",
      "F-мера без выбросов_knn1 :  0.9558823529411764\n",
      "ROC :  0.5\n"
     ]
    }
   ],
   "source": [
    "classifier = KNeighborsClassifier(n_neighbors=7)\n",
    "classifier.fit(X_train_new, y_train)\n",
    "y_pred_knn_absolutely_new1 = classifier.predict(X_test_new)\n",
    "p_pred_knn = classifier.predict_proba(X_test_new) \n",
    "p_pred_knn = p_pred_knn[:, 1]\n",
    "print('Полнота без выбросов_knn : ', recall_score(y_test, y_pred_knn_absolutely_new1)) \n",
    "print('Точность без выбросов_knn : ', precision_score(y_test, y_pred_knn_absolutely_new1)) \n",
    "print('F-мера без выбросов_knn1 : ', f1_score(y_test, y_pred_knn_absolutely_new1))\n",
    "print('ROC : ', roc_auc_score(y_test,y_pred_knn_absolutely_new1))"
   ]
  },
  {
   "cell_type": "markdown",
   "metadata": {},
   "source": [
    "*Наилучшим числом соседей является n=5, так как при нем расстояние достаточное для достоверного проноза, где значения оценки качества модели совпадают с knn при большем количестве соседей,  так что это число является оптимальным и дальнейшее увеличение несет не так много смысла. \n",
    "При удалении выбросов качество модели не изменилось, судя по всему их было не так много в сравнении с основным набором данных*"
   ]
  },
  {
   "cell_type": "markdown",
   "metadata": {},
   "source": [
    "**Задание 7.** Какая конфигурация модели получилась лучшей? Почему?Выбираем из всех построенных моделей, не забудьте про наивный прогноз и все рассмотренне варианты числа соседей. "
   ]
  },
  {
   "cell_type": "markdown",
   "metadata": {},
   "source": [
    "Так как значения наших метрик в абсолютном большинстве случаев оказались идентичными, это заставляет задуматься о качестве построенных моделей. \n",
    "Хотя матрица ошибок в общем говорит о неплохой доле верно-определенных признаков, ROC- значение говорит о недостаточной достоверности модели(0,5), ее случайной предсказательности, что не сильно отличает knn от наивного прогноза при сравнении вероятностей. \n",
    "\n",
    "В целом, knn является более обоснованным нежели наивный прогноз, так как несет в себе модифицируемую часть, которая может быть изменена в соответствии с нужными нам для анализа параметрами. При этом, имея дело с простыми данными небольшого объема можно обойтись и наивной моделью из-за ее быстроты и удобства применения. knn же больше подойдет для анализа данных разношерстнее, чем у нас(судя по во-многом схожим 12Mark и College Mark, а также отсутствии разницы при шкалировании)\n",
    "\n",
    "Для нашей ситуации оптимальным является наивный прогноз, либо, в случае добавления дополнительных параметров -knn, n=5"
   ]
  },
  {
   "cell_type": "code",
   "execution_count": 185,
   "metadata": {},
   "outputs": [
    {
     "name": "stdout",
     "output_type": "stream",
     "text": [
      "[[ 0  6]\n",
      " [ 0 65]]\n"
     ]
    }
   ],
   "source": [
    "# по получившейся матрице видим, что верно определенных признаков было 65, тогда как ошибочных-6\n",
    "from sklearn.metrics import confusion_matrix\n",
    "matrix= confusion_matrix(y_test,y_pred_knn11)\n",
    "print(matrix)"
   ]
  },
  {
   "cell_type": "code",
   "execution_count": 177,
   "metadata": {},
   "outputs": [],
   "source": [
    "# ROC значение не самое воодушевляющее, 0,5 говорит о том, что наша модель соответствует случайному алгоритму"
   ]
  }
 ],
 "metadata": {
  "kernelspec": {
   "display_name": "Python 3 (ipykernel)",
   "language": "python",
   "name": "python3"
  },
  "language_info": {
   "codemirror_mode": {
    "name": "ipython",
    "version": 3
   },
   "file_extension": ".py",
   "mimetype": "text/x-python",
   "name": "python",
   "nbconvert_exporter": "python",
   "pygments_lexer": "ipython3",
   "version": "3.9.7"
  }
 },
 "nbformat": 4,
 "nbformat_minor": 4
}
